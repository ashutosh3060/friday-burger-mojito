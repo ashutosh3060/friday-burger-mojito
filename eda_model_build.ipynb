{
  "nbformat": 4,
  "nbformat_minor": 0,
  "metadata": {
    "colab": {
      "name": "eda-model-build.ipynb",
      "provenance": [],
      "collapsed_sections": [],
      "authorship_tag": "ABX9TyNMdFy7x/7kyO3vMhz43Y64",
      "include_colab_link": true
    },
    "kernelspec": {
      "name": "python3",
      "display_name": "Python 3"
    }
  },
  "cells": [
    {
      "cell_type": "markdown",
      "metadata": {
        "id": "view-in-github",
        "colab_type": "text"
      },
      "source": [
        "<a href=\"https://colab.research.google.com/github/ashutosh3060/friday-burger-mojito/blob/master/eda_model_build.ipynb\" target=\"_parent\"><img src=\"https://colab.research.google.com/assets/colab-badge.svg\" alt=\"Open In Colab\"/></a>"
      ]
    },
    {
      "cell_type": "markdown",
      "metadata": {
        "id": "bCUC1Osbt1k-",
        "colab_type": "text"
      },
      "source": [
        "## Table of Contents:\n",
        "\n",
        "0. Libraries\n",
        "1. User-Defined Functions\n",
        "2. Import Data\n",
        "4. Exploratory Data Analysis\n",
        "6. Data Preparation for Model Building\n",
        "7. Model Build\n",
        "8. Hyperparameter Tuning\n",
        "9. Evaluation\n",
        "10. Final Recommendation"
      ]
    },
    {
      "cell_type": "markdown",
      "metadata": {
        "id": "Mz0jID2Bt-zQ",
        "colab_type": "text"
      },
      "source": [
        "## 0. Libraries"
      ]
    },
    {
      "cell_type": "code",
      "metadata": {
        "id": "4u-1Jm-kkwQj",
        "colab_type": "code",
        "colab": {}
      },
      "source": [
        "# warnings\n",
        "import warnings\n",
        "warnings.filterwarnings(\"ignore\")\n",
        "\n",
        "# Dataframe, numerical exp and other python-native libraries\n",
        "import time\n",
        "from collections import Counter\n",
        "import pickle\n",
        "import numpy as np\n",
        "import pandas as pd\n",
        "\n",
        "# Visualization\n",
        "import matplotlib.pyplot as plt\n",
        "import seaborn as sns\n",
        "from pprint import pprint\n",
        "\n",
        "# sklearn\n",
        "from sklearn.feature_selection import SelectKBest, f_classif\n",
        "from sklearn.model_selection import train_test_split, cross_val_score, KFold, RandomizedSearchCV\n",
        "from sklearn.linear_model import LogisticRegression\n",
        "from sklearn.neighbors import KNeighborsClassifier\n",
        "from sklearn.tree import DecisionTreeClassifier\n",
        "from sklearn.ensemble import RandomForestClassifier\n",
        "from sklearn.metrics import roc_auc_score, roc_curve, auc, accuracy_score, confusion_matrix, classification_report, f1_score\n",
        "# XGBoost\n",
        "from xgboost import XGBClassifier, plot_importance\n",
        "\n",
        "# imblearn for imbalanced data handling\n",
        "from imblearn.over_sampling import RandomOverSampler, SMOTE\n",
        "from imblearn.under_sampling import RandomUnderSampler\n",
        "\n",
        "# Display Settings\n",
        "sns.set_style('whitegrid')\n",
        "sns.set(font_scale=1.25)\n",
        "pd.set_option('display.max_rows', 1000)\n",
        "pd.set_option('display.max_columns', 500)\n",
        "pd.set_option('display.max_colwidth', 100)"
      ],
      "execution_count": 1,
      "outputs": []
    },
    {
      "cell_type": "markdown",
      "metadata": {
        "id": "rg2rMJ33u2Ut",
        "colab_type": "text"
      },
      "source": [
        "## 1. User-Defined Functions"
      ]
    },
    {
      "cell_type": "code",
      "metadata": {
        "id": "8yzhmyZ8u4-c",
        "colab_type": "code",
        "colab": {}
      },
      "source": [
        "def bivar_contns(nonreturn_df, return_df, contns_col):\n",
        "    '''\n",
        "    Plots the continuous variable's histogram for the returning and non-returning customers\n",
        "\n",
        "    Inputs\n",
        "    ----------\n",
        "    nonreturn_df : dataframe\n",
        "        Dataframe containing Non-returning customers only\n",
        "    return_df : dataframe\n",
        "        Dataframe containing Returning customers only\n",
        "    contns_col : srtring\n",
        "        Continuous variable name\n",
        "\n",
        "    Output\n",
        "    -------\n",
        "    Histogram in subplots (2 plots)\n",
        "        Side-by-side histograms of the continuous variable for Non-returning and Returning Customers\n",
        "    '''\n",
        "    fig, axes = plt.subplots(1, 2)\n",
        "    fig.set_size_inches(12, 4)\n",
        "    nonreturn_df.hist(contns_col, bins=100, ax=axes[0])\n",
        "    axes[0].set_title('non-returning')\n",
        "    axes[0].set_xlabel(contns_col)\n",
        "    return_df.hist(contns_col, bins=100, ax=axes[1])\n",
        "    axes[1].set_title('returning')\n",
        "    axes[1].set_xlabel(contns_col)\n",
        "    plt.show()\n",
        "\n",
        "def bivar_multi_cat(df, feature, target_ftr, label_rotation=False, horizontal_layout=True):\n",
        "    '''\n",
        "    Plots the multi-value categorical variable's bar-graph showing categories in x-axis and #returning_customers in y-axis\n",
        "\n",
        "    Parameters\n",
        "    ----------\n",
        "    df : dataframe\n",
        "        Dataframe containing Non-returning customers only\n",
        "    feature : string\n",
        "        Categorical variable name\n",
        "    target_ftr : srtring\n",
        "        Target variable name\n",
        "\n",
        "    Returns\n",
        "    -------\n",
        "    Bar-graph\n",
        "        Bar graph: x-axis->Unique categories, y-axis->#Returning_customers\n",
        "    '''\n",
        "    plt.figure(figsize=(8,6))\n",
        "    temp = df[feature].value_counts()\n",
        "    df1 = pd.DataFrame({feature: temp.index,'# Returning Customers': temp.values})\n",
        "    cat_perc = df[[feature, target_ftr]].groupby([feature],as_index=False).mean() # Calculate the percentage of target=1 per category value\n",
        "    cat_perc.sort_values(by=target_ftr, ascending=False, inplace=True)\n",
        "    sns.set_color_codes(\"pastel\")\n",
        "    s = sns.barplot(x = feature, y=\"# Returning Customers\",data=df1)\n",
        "    if(label_rotation):\n",
        "        s.set_xticklabels('',rotation=60)\n",
        "    s.set_title(feature)\n",
        "    plt.tick_params(axis='both', which='major', labelsize=10)\n",
        "    plt.show()\n",
        "\n",
        "def bivar_binary_cat(df, feature, target_var):\n",
        "    '''\n",
        "    Plots Bar-graph using Cross-tab for binary categorical variable and target class\n",
        "\n",
        "    Parameters\n",
        "    ----------\n",
        "    df : dataframe\n",
        "        Dataframe containing Non-returning customers only\n",
        "    feature : string\n",
        "        Binary categorical variable name\n",
        "    target_ftr : srtring\n",
        "        Target variable name\n",
        "\n",
        "    Returns\n",
        "    -------\n",
        "    Bar-graph\n",
        "        Bar graph: x-axis->target_ftr, y-axis->Binary categorical variable\n",
        "    '''\n",
        "    ct = pd.crosstab(df[target_var],df_order_label[feature]).apply(lambda r: round((r/r.sum())*100,1), axis=1)\n",
        "    ct.plot.bar(stacked=True) \n",
        "    plt.xlabel(target_var)\n",
        "    plt.ylabel(feature)\n",
        "    plt.title(f\"{target_var}  vs  {feature}\") \n",
        "    plt.legend(bbox_to_anchor=(1.25,1.15), loc=\"upper right\")\n",
        "    plt.show()"
      ],
      "execution_count": null,
      "outputs": []
    }
  ]
}