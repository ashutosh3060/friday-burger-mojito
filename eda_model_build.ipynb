{
  "nbformat": 4,
  "nbformat_minor": 0,
  "metadata": {
    "colab": {
      "name": "eda-model-build.ipynb",
      "provenance": [],
      "authorship_tag": "ABX9TyPUtyEbSAwTCNQ3T/I+wpnB",
      "include_colab_link": true
    },
    "kernelspec": {
      "name": "python3",
      "display_name": "Python 3"
    }
  },
  "cells": [
    {
      "cell_type": "markdown",
      "metadata": {
        "id": "view-in-github",
        "colab_type": "text"
      },
      "source": [
        "<a href=\"https://colab.research.google.com/github/ashutosh3060/friday-burger-mojito/blob/master/eda_model_build.ipynb\" target=\"_parent\"><img src=\"https://colab.research.google.com/assets/colab-badge.svg\" alt=\"Open In Colab\"/></a>"
      ]
    },
    {
      "cell_type": "markdown",
      "metadata": {
        "id": "bCUC1Osbt1k-",
        "colab_type": "text"
      },
      "source": [
        "## Table of Contents:\n",
        "\n",
        "0. Libraries\n",
        "1. User-Defined Functions\n",
        "2. Import Data\n",
        "4. Exploratory Data Analysis\n",
        "6. Data Preparation for Model Building\n",
        "7. Model Build\n",
        "8. Hyperparameter Tuning\n",
        "9. Evaluation\n",
        "10. Final Recommendation"
      ]
    },
    {
      "cell_type": "markdown",
      "metadata": {
        "id": "Mz0jID2Bt-zQ",
        "colab_type": "text"
      },
      "source": [
        "## 0. Libraries"
      ]
    },
    {
      "cell_type": "code",
      "metadata": {
        "id": "4u-1Jm-kkwQj",
        "colab_type": "code",
        "colab": {}
      },
      "source": [
        "# warnings\n",
        "import warnings\n",
        "warnings.filterwarnings(\"ignore\")\n",
        "\n",
        "# Dataframe, numerical exp and other python-native libraries\n",
        "import time\n",
        "from collections import Counter\n",
        "import pickle\n",
        "import numpy as np\n",
        "import pandas as pd\n",
        "\n",
        "# Visualization\n",
        "import matplotlib.pyplot as plt\n",
        "import seaborn as sns\n",
        "from pprint import pprint\n",
        "\n",
        "# sklearn\n",
        "from sklearn.feature_selection import SelectKBest, f_classif\n",
        "from sklearn.model_selection import train_test_split, cross_val_score, KFold, RandomizedSearchCV\n",
        "from sklearn.linear_model import LogisticRegression\n",
        "from sklearn.neighbors import KNeighborsClassifier\n",
        "from sklearn.tree import DecisionTreeClassifier\n",
        "from sklearn.ensemble import RandomForestClassifier\n",
        "from sklearn.metrics import roc_auc_score, roc_curve, auc, accuracy_score, confusion_matrix, classification_report, f1_score\n",
        "# XGBoost\n",
        "from xgboost import XGBClassifier, plot_importance\n",
        "\n",
        "# imblearn for imbalanced data handling\n",
        "from imblearn.over_sampling import RandomOverSampler, SMOTE\n",
        "from imblearn.under_sampling import RandomUnderSampler\n",
        "\n",
        "# Display Settings\n",
        "sns.set_style('whitegrid')\n",
        "sns.set(font_scale=1.25)\n",
        "pd.set_option('display.max_rows', 1000)\n",
        "pd.set_option('display.max_columns', 500)\n",
        "pd.set_option('display.max_colwidth', 100)"
      ],
      "execution_count": 1,
      "outputs": []
    }
  ]
}