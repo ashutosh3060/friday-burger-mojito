{
  "nbformat": 4,
  "nbformat_minor": 0,
  "metadata": {
    "colab": {
      "name": "data_transformation.ipynb",
      "provenance": [],
      "collapsed_sections": [],
      "authorship_tag": "ABX9TyPaICqYg6Bab9Dfxtvd1jr+",
      "include_colab_link": true
    },
    "kernelspec": {
      "name": "python3",
      "display_name": "Python 3"
    }
  },
  "cells": [
    {
      "cell_type": "markdown",
      "metadata": {
        "id": "view-in-github",
        "colab_type": "text"
      },
      "source": [
        "<a href=\"https://colab.research.google.com/github/ashutosh3060/friday-burger-mojito/blob/master/data_transformation.ipynb\" target=\"_parent\"><img src=\"https://colab.research.google.com/assets/colab-badge.svg\" alt=\"Open In Colab\"/></a>"
      ]
    },
    {
      "cell_type": "markdown",
      "metadata": {
        "id": "jHRhCQgwIVCA",
        "colab_type": "text"
      },
      "source": [
        "## Table of Contents\n",
        "\n",
        "0. Libraries\n",
        "1. User-Defined Functions\n",
        "2. Import Data and Basic Understanding\n",
        "3. Data Quality Checks   \n",
        "  3.1Duplicate    \n",
        "        3.1.1 Complete row duplicate\n",
        "        3.1.2 Unique Id duplicate\n",
        "  3.2 Missing value\n",
        "4. Feature Engineering\n",
        "5. Save Final Dataset with new features"
      ]
    },
    {
      "cell_type": "markdown",
      "metadata": {
        "id": "WWrAC-a5I7SY",
        "colab_type": "text"
      },
      "source": [
        "## 0. Libraries "
      ]
    },
    {
      "cell_type": "code",
      "metadata": {
        "id": "_lQ9nucSGhMk",
        "colab_type": "code",
        "colab": {}
      },
      "source": [
        "# warnings\n",
        "import warnings\n",
        "warnings.filterwarnings(\"ignore\")\n",
        "\n",
        "# Numpy, Pandas\n",
        "import numpy as np\n",
        "import pandas as pd\n",
        "\n",
        "# Display settings\n",
        "pd.set_option('display.max_rows', 500)\n",
        "pd.set_option('display.max_columns', 100)\n",
        "pd.set_option('display.max_colwidth', 15)"
      ],
      "execution_count": 1,
      "outputs": []
    },
    {
      "cell_type": "markdown",
      "metadata": {
        "id": "CreG3lWZKVdO",
        "colab_type": "text"
      },
      "source": [
        "## 1. User-defined Functions"
      ]
    },
    {
      "cell_type": "code",
      "metadata": {
        "id": "CsI3ZNxrJluH",
        "colab_type": "code",
        "colab": {}
      },
      "source": [
        "def null_perc_check (df):\n",
        "    '''\n",
        "    Calculates missing value count and percentage for all the columns in a dataframe\n",
        "\n",
        "    Inputs\n",
        "    -------\n",
        "    df : dataframe\n",
        "        The dataframe for which missing value distribution needs to checked\n",
        "\n",
        "    Output\n",
        "    -------\n",
        "    dataframe\n",
        "        a dataframe showing missing value count and percentage for all the columns\n",
        "    '''\n",
        "    missing_value_df = pd.DataFrame(index = df.keys(), data =df.isnull().sum(), columns = ['Missing_Value_Count'])\n",
        "    missing_value_df['Missing_Value_Percentage'] = np.round(((df.isnull().mean())*100),1)\n",
        "    sorted_df = missing_value_df.sort_values('Missing_Value_Count',ascending= False)\n",
        "    return sorted_df"
      ],
      "execution_count": 15,
      "outputs": []
    },
    {
      "cell_type": "markdown",
      "metadata": {
        "id": "eVTWl1z4LdsH",
        "colab_type": "text"
      },
      "source": [
        "## 2. Import Data and Basic Understanding"
      ]
    },
    {
      "cell_type": "code",
      "metadata": {
        "id": "sU74VMXyLhXf",
        "colab_type": "code",
        "colab": {}
      },
      "source": [
        "# Define the path, filename\n",
        "\n",
        "order_path = \"/content/\"\n",
        "order_file = \"machine_learning_challenge_order_data.csv\"\n",
        "label_path = \"/content/\"\n",
        "label_file = \"machine_learning_challenge_labeled_data.csv\""
      ],
      "execution_count": 3,
      "outputs": []
    },
    {
      "cell_type": "code",
      "metadata": {
        "id": "yYjqLPhTLto_",
        "colab_type": "code",
        "colab": {}
      },
      "source": [
        "# import the dataset as a dataframe\n",
        "\n",
        "df_order = pd.read_csv(order_path+order_file)\n",
        "df_label = pd.read_csv(label_path+label_file)"
      ],
      "execution_count": 4,
      "outputs": []
    },
    {
      "cell_type": "code",
      "metadata": {
        "id": "6VETccoIMDKi",
        "colab_type": "code",
        "colab": {
          "base_uri": "https://localhost:8080/",
          "height": 178
        },
        "outputId": "e1ff52fd-2b77-4060-aa9e-bfd7952d0e95"
      },
      "source": [
        "# df_order: shape and first few records\n",
        "\n",
        "print(df_order.shape)\n",
        "df_order.head(3)"
      ],
      "execution_count": 7,
      "outputs": [
        {
          "output_type": "stream",
          "text": [
            "(786600, 13)\n"
          ],
          "name": "stdout"
        },
        {
          "output_type": "execute_result",
          "data": {
            "text/html": [
              "<div>\n",
              "<style scoped>\n",
              "    .dataframe tbody tr th:only-of-type {\n",
              "        vertical-align: middle;\n",
              "    }\n",
              "\n",
              "    .dataframe tbody tr th {\n",
              "        vertical-align: top;\n",
              "    }\n",
              "\n",
              "    .dataframe thead th {\n",
              "        text-align: right;\n",
              "    }\n",
              "</style>\n",
              "<table border=\"1\" class=\"dataframe\">\n",
              "  <thead>\n",
              "    <tr style=\"text-align: right;\">\n",
              "      <th></th>\n",
              "      <th>customer_id</th>\n",
              "      <th>order_date</th>\n",
              "      <th>order_hour</th>\n",
              "      <th>customer_order_rank</th>\n",
              "      <th>is_failed</th>\n",
              "      <th>voucher_amount</th>\n",
              "      <th>delivery_fee</th>\n",
              "      <th>amount_paid</th>\n",
              "      <th>restaurant_id</th>\n",
              "      <th>city_id</th>\n",
              "      <th>payment_id</th>\n",
              "      <th>platform_id</th>\n",
              "      <th>transmission_id</th>\n",
              "    </tr>\n",
              "  </thead>\n",
              "  <tbody>\n",
              "    <tr>\n",
              "      <th>0</th>\n",
              "      <td>000097eabfd9</td>\n",
              "      <td>2015-06-20</td>\n",
              "      <td>19</td>\n",
              "      <td>1.0</td>\n",
              "      <td>0</td>\n",
              "      <td>0.0</td>\n",
              "      <td>0.000</td>\n",
              "      <td>11.46960</td>\n",
              "      <td>5803498</td>\n",
              "      <td>20326</td>\n",
              "      <td>1779</td>\n",
              "      <td>30231</td>\n",
              "      <td>4356</td>\n",
              "    </tr>\n",
              "    <tr>\n",
              "      <th>1</th>\n",
              "      <td>0000e2c6d9be</td>\n",
              "      <td>2016-01-29</td>\n",
              "      <td>20</td>\n",
              "      <td>1.0</td>\n",
              "      <td>0</td>\n",
              "      <td>0.0</td>\n",
              "      <td>0.000</td>\n",
              "      <td>9.55800</td>\n",
              "      <td>239303498</td>\n",
              "      <td>76547</td>\n",
              "      <td>1619</td>\n",
              "      <td>30359</td>\n",
              "      <td>4356</td>\n",
              "    </tr>\n",
              "    <tr>\n",
              "      <th>2</th>\n",
              "      <td>000133bb597f</td>\n",
              "      <td>2017-02-26</td>\n",
              "      <td>19</td>\n",
              "      <td>1.0</td>\n",
              "      <td>0</td>\n",
              "      <td>0.0</td>\n",
              "      <td>0.493</td>\n",
              "      <td>5.93658</td>\n",
              "      <td>206463498</td>\n",
              "      <td>33833</td>\n",
              "      <td>1619</td>\n",
              "      <td>30359</td>\n",
              "      <td>4324</td>\n",
              "    </tr>\n",
              "  </tbody>\n",
              "</table>\n",
              "</div>"
            ],
            "text/plain": [
              "    customer_id  order_date  order_hour  customer_order_rank  is_failed  \\\n",
              "0  000097eabfd9  2015-06-20          19             1.0               0   \n",
              "1  0000e2c6d9be  2016-01-29          20             1.0               0   \n",
              "2  000133bb597f  2017-02-26          19             1.0               0   \n",
              "\n",
              "   voucher_amount  delivery_fee  amount_paid  restaurant_id  city_id  \\\n",
              "0             0.0         0.000     11.46960        5803498    20326   \n",
              "1             0.0         0.000      9.55800      239303498    76547   \n",
              "2             0.0         0.493      5.93658      206463498    33833   \n",
              "\n",
              "   payment_id  platform_id  transmission_id  \n",
              "0        1779        30231            4356   \n",
              "1        1619        30359            4356   \n",
              "2        1619        30359            4324   "
            ]
          },
          "metadata": {
            "tags": []
          },
          "execution_count": 7
        }
      ]
    },
    {
      "cell_type": "code",
      "metadata": {
        "id": "lypwXjWLMIEq",
        "colab_type": "code",
        "colab": {
          "base_uri": "https://localhost:8080/",
          "height": 158
        },
        "outputId": "f6ca795d-6343-40f0-8cf3-0a0a61077a6a"
      },
      "source": [
        "# df_label: shape and first few records\n",
        "\n",
        "print(df_label.shape)\n",
        "df_label.head(3)"
      ],
      "execution_count": 8,
      "outputs": [
        {
          "output_type": "stream",
          "text": [
            "(245455, 2)\n"
          ],
          "name": "stdout"
        },
        {
          "output_type": "execute_result",
          "data": {
            "text/html": [
              "<div>\n",
              "<style scoped>\n",
              "    .dataframe tbody tr th:only-of-type {\n",
              "        vertical-align: middle;\n",
              "    }\n",
              "\n",
              "    .dataframe tbody tr th {\n",
              "        vertical-align: top;\n",
              "    }\n",
              "\n",
              "    .dataframe thead th {\n",
              "        text-align: right;\n",
              "    }\n",
              "</style>\n",
              "<table border=\"1\" class=\"dataframe\">\n",
              "  <thead>\n",
              "    <tr style=\"text-align: right;\">\n",
              "      <th></th>\n",
              "      <th>customer_id</th>\n",
              "      <th>is_returning_customer</th>\n",
              "    </tr>\n",
              "  </thead>\n",
              "  <tbody>\n",
              "    <tr>\n",
              "      <th>0</th>\n",
              "      <td>000097eabfd9</td>\n",
              "      <td>0</td>\n",
              "    </tr>\n",
              "    <tr>\n",
              "      <th>1</th>\n",
              "      <td>0000e2c6d9be</td>\n",
              "      <td>0</td>\n",
              "    </tr>\n",
              "    <tr>\n",
              "      <th>2</th>\n",
              "      <td>000133bb597f</td>\n",
              "      <td>1</td>\n",
              "    </tr>\n",
              "  </tbody>\n",
              "</table>\n",
              "</div>"
            ],
            "text/plain": [
              "    customer_id  is_returning_customer\n",
              "0  000097eabfd9               0       \n",
              "1  0000e2c6d9be               0       \n",
              "2  000133bb597f               1       "
            ]
          },
          "metadata": {
            "tags": []
          },
          "execution_count": 8
        }
      ]
    },
    {
      "cell_type": "code",
      "metadata": {
        "id": "6KaZSFytMNqq",
        "colab_type": "code",
        "colab": {
          "base_uri": "https://localhost:8080/",
          "height": 52
        },
        "outputId": "d7f32fbb-b1f6-468f-e8e3-8880fe4b9587"
      },
      "source": [
        "# Number of unique customers in both the datasets\n",
        "\n",
        "print(f'df_order: {df_order.customer_id.nunique()}')\n",
        "print(f'df_label: {df_label.customer_id.nunique()}')"
      ],
      "execution_count": 9,
      "outputs": [
        {
          "output_type": "stream",
          "text": [
            "df_order: 245455\n",
            "df_label: 245455\n"
          ],
          "name": "stdout"
        }
      ]
    },
    {
      "cell_type": "markdown",
      "metadata": {
        "id": "kbSf9rM-MnkS",
        "colab_type": "text"
      },
      "source": [
        "* As mentioned in the problem document, it seems like multiple records are present for a single customer (Historical data)\n",
        "\n",
        "* In both order and label datasets, #unique customers are same.\n",
        "\n",
        "* Before merging both the datasets, need to check the intersection of the unique customer_id"
      ]
    },
    {
      "cell_type": "code",
      "metadata": {
        "id": "VS_FKH6PMkSi",
        "colab_type": "code",
        "colab": {
          "base_uri": "https://localhost:8080/",
          "height": 35
        },
        "outputId": "e844879b-e9ed-48a6-bda6-bf40743ecede"
      },
      "source": [
        "# Intersection of unique customers in both the datasets\n",
        "\n",
        "cust_intersect = pd.merge(df_order[\"customer_id\"], df_label[\"customer_id\"], how='inner', on=['customer_id'])\n",
        "print(f'Number of common unique customers in both the datasets: {cust_intersect[\"customer_id\"].nunique()}')"
      ],
      "execution_count": 10,
      "outputs": [
        {
          "output_type": "stream",
          "text": [
            "Number of common unique customers in both the datasets: 245455\n"
          ],
          "name": "stdout"
        }
      ]
    },
    {
      "cell_type": "markdown",
      "metadata": {
        "id": "Net8RfLKNaoD",
        "colab_type": "text"
      },
      "source": [
        "* This confirms, all the unique customer_id in both the datasets are same.\n",
        "\n",
        "* So, I will try to extract all the features by grouping, aggregating and other thought process. And then will merge the target variable from the label dataset\n",
        "\n",
        "* For now, I can make the df_order as the primary dataset for independent feature extraction."
      ]
    },
    {
      "cell_type": "code",
      "metadata": {
        "id": "rV4LRdlVNTxq",
        "colab_type": "code",
        "colab": {
          "base_uri": "https://localhost:8080/",
          "height": 364
        },
        "outputId": "802216e9-f7db-4883-d0cf-817206dfe709"
      },
      "source": [
        "# Datatypes overview of the order dataset\n",
        "\n",
        "df = df_order.copy()\n",
        "df.info()"
      ],
      "execution_count": 11,
      "outputs": [
        {
          "output_type": "stream",
          "text": [
            "<class 'pandas.core.frame.DataFrame'>\n",
            "RangeIndex: 786600 entries, 0 to 786599\n",
            "Data columns (total 13 columns):\n",
            " #   Column               Non-Null Count   Dtype  \n",
            "---  ------               --------------   -----  \n",
            " 0   customer_id          786600 non-null  object \n",
            " 1   order_date           786600 non-null  object \n",
            " 2   order_hour           786600 non-null  int64  \n",
            " 3   customer_order_rank  761833 non-null  float64\n",
            " 4   is_failed            786600 non-null  int64  \n",
            " 5   voucher_amount       786600 non-null  float64\n",
            " 6   delivery_fee         786600 non-null  float64\n",
            " 7   amount_paid          786600 non-null  float64\n",
            " 8   restaurant_id        786600 non-null  int64  \n",
            " 9   city_id              786600 non-null  int64  \n",
            " 10  payment_id           786600 non-null  int64  \n",
            " 11  platform_id          786600 non-null  int64  \n",
            " 12  transmission_id      786600 non-null  int64  \n",
            "dtypes: float64(4), int64(7), object(2)\n",
            "memory usage: 78.0+ MB\n"
          ],
          "name": "stdout"
        }
      ]
    },
    {
      "cell_type": "markdown",
      "metadata": {
        "id": "VFdYdOVbN6DR",
        "colab_type": "text"
      },
      "source": [
        "* Only **customer_order_rank**  has missing values.\n",
        "* order_date is object, datatype casting is needed for operation."
      ]
    },
    {
      "cell_type": "code",
      "metadata": {
        "id": "1lXT-hyeReXk",
        "colab_type": "code",
        "colab": {
          "base_uri": "https://localhost:8080/",
          "height": 173
        },
        "outputId": "eb3c5445-b838-4bf8-805c-18ecb4c2558d"
      },
      "source": [
        "# Datatypes overview of the customer label dataset\n",
        "\n",
        "df_label.info()"
      ],
      "execution_count": 21,
      "outputs": [
        {
          "output_type": "stream",
          "text": [
            "<class 'pandas.core.frame.DataFrame'>\n",
            "RangeIndex: 245455 entries, 0 to 245454\n",
            "Data columns (total 2 columns):\n",
            " #   Column                 Non-Null Count   Dtype \n",
            "---  ------                 --------------   ----- \n",
            " 0   customer_id            245455 non-null  object\n",
            " 1   is_returning_customer  245455 non-null  int64 \n",
            "dtypes: int64(1), object(1)\n",
            "memory usage: 3.7+ MB\n"
          ],
          "name": "stdout"
        }
      ]
    },
    {
      "cell_type": "markdown",
      "metadata": {
        "id": "kAmL5nA9Rqvm",
        "colab_type": "text"
      },
      "source": [
        "* No missing values\n",
        "* Also the datatype seems okay."
      ]
    },
    {
      "cell_type": "markdown",
      "metadata": {
        "id": "EIvnsVS-PPdo",
        "colab_type": "text"
      },
      "source": [
        "## 3. Data Quality Checks"
      ]
    },
    {
      "cell_type": "markdown",
      "metadata": {
        "id": "vYn2DmPmPS1z",
        "colab_type": "text"
      },
      "source": [
        "### 3.1 Duplicate record checks"
      ]
    },
    {
      "cell_type": "markdown",
      "metadata": {
        "id": "cSTjywjWPWgK",
        "colab_type": "text"
      },
      "source": [
        "#### 3.1.1 Complete Row Duplicate"
      ]
    },
    {
      "cell_type": "code",
      "metadata": {
        "id": "rdBEQp5zNyEF",
        "colab_type": "code",
        "colab": {
          "base_uri": "https://localhost:8080/",
          "height": 69
        },
        "outputId": "0eddd8ed-4700-42d2-fa70-8df2c7114ba9"
      },
      "source": [
        "# Check duplicates\n",
        "\n",
        "check_dup = df.duplicated(subset=None, keep='first')\n",
        "print(f'Number of Total records:  {df.shape[0]}')\n",
        "print(f'Number of Unique records: {check_dup.shape[0]}')\n",
        "print(f'Number of Duplicates: {df.shape[0] - check_dup.shape[0]}')"
      ],
      "execution_count": 12,
      "outputs": [
        {
          "output_type": "stream",
          "text": [
            "Number of Total records:  786600\n",
            "Number of Unique records: 786600\n",
            "Number of Duplicates: 0\n"
          ],
          "name": "stdout"
        }
      ]
    },
    {
      "cell_type": "markdown",
      "metadata": {
        "id": "TQk6LWfqPlLl",
        "colab_type": "text"
      },
      "source": [
        "* Both the total and unique records are same, so there are no duplicate present."
      ]
    },
    {
      "cell_type": "markdown",
      "metadata": {
        "id": "q4N0ChtFPuLs",
        "colab_type": "text"
      },
      "source": [
        "#### 3.1.2 customer_id (unique identifier) Duplicate"
      ]
    },
    {
      "cell_type": "code",
      "metadata": {
        "id": "T6vLQu8BPkVs",
        "colab_type": "code",
        "colab": {
          "base_uri": "https://localhost:8080/",
          "height": 225
        },
        "outputId": "f6d12858-3ac0-4115-cced-f3ad6425b568"
      },
      "source": [
        "# Number of records for each customer_id\n",
        "\n",
        "df[\"customer_id\"].value_counts()"
      ],
      "execution_count": 13,
      "outputs": [
        {
          "output_type": "execute_result",
          "data": {
            "text/plain": [
              "15edce943edd    386\n",
              "8745a335e9cf    288\n",
              "d956116d863d    286\n",
              "0063666607bb    273\n",
              "ae60dce05485    270\n",
              "               ... \n",
              "ba7d5a6e6638      1\n",
              "4324cbb32eb8      1\n",
              "9aafd98d48b6      1\n",
              "bea68ff2ad49      1\n",
              "ca16c3a1e1af      1\n",
              "Name: customer_id, Length: 245455, dtype: int64"
            ]
          },
          "metadata": {
            "tags": []
          },
          "execution_count": 13
        }
      ]
    },
    {
      "cell_type": "markdown",
      "metadata": {
        "id": "0Pk0L1DLQLws",
        "colab_type": "text"
      },
      "source": [
        "* As mentioned in the Data Dictionary, a customer_id can appear for multiple times as multiple orders in different dates are present, so a valid business scenario."
      ]
    },
    {
      "cell_type": "markdown",
      "metadata": {
        "id": "EpM58KuuQYqR",
        "colab_type": "text"
      },
      "source": [
        "### 3.2 Null check - Missing value percentage"
      ]
    },
    {
      "cell_type": "code",
      "metadata": {
        "id": "TrKeJ7CvQKuW",
        "colab_type": "code",
        "colab": {
          "base_uri": "https://localhost:8080/",
          "height": 447
        },
        "outputId": "b92f27c6-dc15-4e43-b8a3-3395588b75da"
      },
      "source": [
        "# Missing value count and percentage check\n",
        "\n",
        "null_perc_check(df)"
      ],
      "execution_count": 16,
      "outputs": [
        {
          "output_type": "execute_result",
          "data": {
            "text/html": [
              "<div>\n",
              "<style scoped>\n",
              "    .dataframe tbody tr th:only-of-type {\n",
              "        vertical-align: middle;\n",
              "    }\n",
              "\n",
              "    .dataframe tbody tr th {\n",
              "        vertical-align: top;\n",
              "    }\n",
              "\n",
              "    .dataframe thead th {\n",
              "        text-align: right;\n",
              "    }\n",
              "</style>\n",
              "<table border=\"1\" class=\"dataframe\">\n",
              "  <thead>\n",
              "    <tr style=\"text-align: right;\">\n",
              "      <th></th>\n",
              "      <th>Missing_Value_Count</th>\n",
              "      <th>Missing_Value_Percentage</th>\n",
              "    </tr>\n",
              "  </thead>\n",
              "  <tbody>\n",
              "    <tr>\n",
              "      <th>customer_order_rank</th>\n",
              "      <td>24767</td>\n",
              "      <td>3.1</td>\n",
              "    </tr>\n",
              "    <tr>\n",
              "      <th>customer_id</th>\n",
              "      <td>0</td>\n",
              "      <td>0.0</td>\n",
              "    </tr>\n",
              "    <tr>\n",
              "      <th>order_date</th>\n",
              "      <td>0</td>\n",
              "      <td>0.0</td>\n",
              "    </tr>\n",
              "    <tr>\n",
              "      <th>order_hour</th>\n",
              "      <td>0</td>\n",
              "      <td>0.0</td>\n",
              "    </tr>\n",
              "    <tr>\n",
              "      <th>is_failed</th>\n",
              "      <td>0</td>\n",
              "      <td>0.0</td>\n",
              "    </tr>\n",
              "    <tr>\n",
              "      <th>voucher_amount</th>\n",
              "      <td>0</td>\n",
              "      <td>0.0</td>\n",
              "    </tr>\n",
              "    <tr>\n",
              "      <th>delivery_fee</th>\n",
              "      <td>0</td>\n",
              "      <td>0.0</td>\n",
              "    </tr>\n",
              "    <tr>\n",
              "      <th>amount_paid</th>\n",
              "      <td>0</td>\n",
              "      <td>0.0</td>\n",
              "    </tr>\n",
              "    <tr>\n",
              "      <th>restaurant_id</th>\n",
              "      <td>0</td>\n",
              "      <td>0.0</td>\n",
              "    </tr>\n",
              "    <tr>\n",
              "      <th>city_id</th>\n",
              "      <td>0</td>\n",
              "      <td>0.0</td>\n",
              "    </tr>\n",
              "    <tr>\n",
              "      <th>payment_id</th>\n",
              "      <td>0</td>\n",
              "      <td>0.0</td>\n",
              "    </tr>\n",
              "    <tr>\n",
              "      <th>platform_id</th>\n",
              "      <td>0</td>\n",
              "      <td>0.0</td>\n",
              "    </tr>\n",
              "    <tr>\n",
              "      <th>transmission_id</th>\n",
              "      <td>0</td>\n",
              "      <td>0.0</td>\n",
              "    </tr>\n",
              "  </tbody>\n",
              "</table>\n",
              "</div>"
            ],
            "text/plain": [
              "                 Missing_Value_Count  Missing_Value_Percentage\n",
              "customer_ord...           24767                  3.1          \n",
              "customer_id                   0                  0.0          \n",
              "order_date                    0                  0.0          \n",
              "order_hour                    0                  0.0          \n",
              "is_failed                     0                  0.0          \n",
              "voucher_amount                0                  0.0          \n",
              "delivery_fee                  0                  0.0          \n",
              "amount_paid                   0                  0.0          \n",
              "restaurant_id                 0                  0.0          \n",
              "city_id                       0                  0.0          \n",
              "payment_id                    0                  0.0          \n",
              "platform_id                   0                  0.0          \n",
              "transmission_id               0                  0.0          "
            ]
          },
          "metadata": {
            "tags": []
          },
          "execution_count": 16
        }
      ]
    },
    {
      "cell_type": "markdown",
      "metadata": {
        "id": "jg1kzy70Qou4",
        "colab_type": "text"
      },
      "source": [
        "* There are no missing values except for customer_order_rank.\n",
        "* customer_order_rank can be null whenever an order is failed.\n",
        "* Once this condition is checked, we can confirm the actual missing percentage of customer_order_rank"
      ]
    },
    {
      "cell_type": "code",
      "metadata": {
        "id": "iZX3RFdlQiNj",
        "colab_type": "code",
        "colab": {
          "base_uri": "https://localhost:8080/",
          "height": 52
        },
        "outputId": "c75e1e52-f9fe-4a11-8c54-e49d7fce4f79"
      },
      "source": [
        "# Check number of failed orders and the customer_order_rank for the same\n",
        "\n",
        "print(f'#Failed orders: {df.loc[df[\"is_failed\"]==1].shape[0]}')\n",
        "print(f'unique customer_rank_order values:  {df.loc[df[\"is_failed\"]==1][\"customer_order_rank\"].unique()}')"
      ],
      "execution_count": 18,
      "outputs": [
        {
          "output_type": "stream",
          "text": [
            "#Failed orders: 24767\n",
            "unique customer_rank_order values:  [nan]\n"
          ],
          "name": "stdout"
        }
      ]
    },
    {
      "cell_type": "markdown",
      "metadata": {
        "id": "WiEn8-wJRPOK",
        "colab_type": "text"
      },
      "source": [
        "1. #Failed orders = #Missing values for customer_order_rank\n",
        "2. For all failed orders, customer_order_rank is null    \n",
        "* Above 2 statements prove that the Nulls are business case wise correct; hence these are not semantically missing values."
      ]
    },
    {
      "cell_type": "code",
      "metadata": {
        "id": "5KahGE8XQ31N",
        "colab_type": "code",
        "colab": {
          "base_uri": "https://localhost:8080/",
          "height": 110
        },
        "outputId": "2544968a-4af0-44e7-f7aa-fac665fd6cc8"
      },
      "source": [
        "# Check the missing value percentage for label dataset\n",
        "\n",
        "null_perc_check(df_label)"
      ],
      "execution_count": 19,
      "outputs": [
        {
          "output_type": "execute_result",
          "data": {
            "text/html": [
              "<div>\n",
              "<style scoped>\n",
              "    .dataframe tbody tr th:only-of-type {\n",
              "        vertical-align: middle;\n",
              "    }\n",
              "\n",
              "    .dataframe tbody tr th {\n",
              "        vertical-align: top;\n",
              "    }\n",
              "\n",
              "    .dataframe thead th {\n",
              "        text-align: right;\n",
              "    }\n",
              "</style>\n",
              "<table border=\"1\" class=\"dataframe\">\n",
              "  <thead>\n",
              "    <tr style=\"text-align: right;\">\n",
              "      <th></th>\n",
              "      <th>Missing_Value_Count</th>\n",
              "      <th>Missing_Value_Percentage</th>\n",
              "    </tr>\n",
              "  </thead>\n",
              "  <tbody>\n",
              "    <tr>\n",
              "      <th>customer_id</th>\n",
              "      <td>0</td>\n",
              "      <td>0.0</td>\n",
              "    </tr>\n",
              "    <tr>\n",
              "      <th>is_returning_customer</th>\n",
              "      <td>0</td>\n",
              "      <td>0.0</td>\n",
              "    </tr>\n",
              "  </tbody>\n",
              "</table>\n",
              "</div>"
            ],
            "text/plain": [
              "                 Missing_Value_Count  Missing_Value_Percentage\n",
              "customer_id                   0                  0.0          \n",
              "is_returning...               0                  0.0          "
            ]
          },
          "metadata": {
            "tags": []
          },
          "execution_count": 19
        }
      ]
    },
    {
      "cell_type": "markdown",
      "metadata": {
        "id": "2mcGppHBR1Cc",
        "colab_type": "text"
      },
      "source": [
        "* There are no missing values for customer label dataset."
      ]
    },
    {
      "cell_type": "markdown",
      "metadata": {
        "id": "IET2pWN_UNLJ",
        "colab_type": "text"
      },
      "source": [
        "## 4. Feature Engineering"
      ]
    },
    {
      "cell_type": "code",
      "metadata": {
        "id": "Gnzpne34USi-",
        "colab_type": "code",
        "colab": {
          "base_uri": "https://localhost:8080/",
          "height": 104
        },
        "outputId": "566d9bf2-9663-4767-af31-b44705e92ff5"
      },
      "source": [
        "df.columns"
      ],
      "execution_count": 22,
      "outputs": [
        {
          "output_type": "execute_result",
          "data": {
            "text/plain": [
              "Index(['customer_id', 'order_date', 'order_hour', 'customer_order_rank',\n",
              "       'is_failed', 'voucher_amount', 'delivery_fee', 'amount_paid',\n",
              "       'restaurant_id', 'city_id', 'payment_id', 'platform_id',\n",
              "       'transmission_id'],\n",
              "      dtype='object')"
            ]
          },
          "metadata": {
            "tags": []
          },
          "execution_count": 22
        }
      ]
    },
    {
      "cell_type": "code",
      "metadata": {
        "id": "Hz7J7lS9X6dC",
        "colab_type": "code",
        "colab": {
          "base_uri": "https://localhost:8080/",
          "height": 222
        },
        "outputId": "adec2390-d385-4c4e-8259-939a7182f70f"
      },
      "source": [
        "df.tail(5)"
      ],
      "execution_count": 30,
      "outputs": [
        {
          "output_type": "execute_result",
          "data": {
            "text/html": [
              "<div>\n",
              "<style scoped>\n",
              "    .dataframe tbody tr th:only-of-type {\n",
              "        vertical-align: middle;\n",
              "    }\n",
              "\n",
              "    .dataframe tbody tr th {\n",
              "        vertical-align: top;\n",
              "    }\n",
              "\n",
              "    .dataframe thead th {\n",
              "        text-align: right;\n",
              "    }\n",
              "</style>\n",
              "<table border=\"1\" class=\"dataframe\">\n",
              "  <thead>\n",
              "    <tr style=\"text-align: right;\">\n",
              "      <th></th>\n",
              "      <th>customer_id</th>\n",
              "      <th>order_date</th>\n",
              "      <th>order_hour</th>\n",
              "      <th>customer_order_rank</th>\n",
              "      <th>is_failed</th>\n",
              "      <th>voucher_amount</th>\n",
              "      <th>delivery_fee</th>\n",
              "      <th>amount_paid</th>\n",
              "      <th>restaurant_id</th>\n",
              "      <th>city_id</th>\n",
              "      <th>payment_id</th>\n",
              "      <th>platform_id</th>\n",
              "      <th>transmission_id</th>\n",
              "    </tr>\n",
              "  </thead>\n",
              "  <tbody>\n",
              "    <tr>\n",
              "      <th>786595</th>\n",
              "      <td>fffe9d5a8d41</td>\n",
              "      <td>2016-09-30</td>\n",
              "      <td>20</td>\n",
              "      <td>NaN</td>\n",
              "      <td>1</td>\n",
              "      <td>0.0</td>\n",
              "      <td>0.0</td>\n",
              "      <td>10.7262</td>\n",
              "      <td>983498</td>\n",
              "      <td>10346</td>\n",
              "      <td>1779</td>\n",
              "      <td>29463</td>\n",
              "      <td>212</td>\n",
              "    </tr>\n",
              "    <tr>\n",
              "      <th>786596</th>\n",
              "      <td>ffff347c3cfa</td>\n",
              "      <td>2016-08-17</td>\n",
              "      <td>21</td>\n",
              "      <td>1.0</td>\n",
              "      <td>0</td>\n",
              "      <td>0.0</td>\n",
              "      <td>0.0</td>\n",
              "      <td>7.5933</td>\n",
              "      <td>52893498</td>\n",
              "      <td>41978</td>\n",
              "      <td>1619</td>\n",
              "      <td>30359</td>\n",
              "      <td>4356</td>\n",
              "    </tr>\n",
              "    <tr>\n",
              "      <th>786597</th>\n",
              "      <td>ffff347c3cfa</td>\n",
              "      <td>2016-09-15</td>\n",
              "      <td>21</td>\n",
              "      <td>2.0</td>\n",
              "      <td>0</td>\n",
              "      <td>0.0</td>\n",
              "      <td>0.0</td>\n",
              "      <td>5.9472</td>\n",
              "      <td>164653498</td>\n",
              "      <td>41978</td>\n",
              "      <td>1619</td>\n",
              "      <td>30359</td>\n",
              "      <td>4356</td>\n",
              "    </tr>\n",
              "    <tr>\n",
              "      <th>786598</th>\n",
              "      <td>ffff4519b52d</td>\n",
              "      <td>2016-04-02</td>\n",
              "      <td>19</td>\n",
              "      <td>1.0</td>\n",
              "      <td>0</td>\n",
              "      <td>0.0</td>\n",
              "      <td>0.0</td>\n",
              "      <td>21.7710</td>\n",
              "      <td>16363498</td>\n",
              "      <td>80562</td>\n",
              "      <td>1491</td>\n",
              "      <td>29751</td>\n",
              "      <td>4228</td>\n",
              "    </tr>\n",
              "    <tr>\n",
              "      <th>786599</th>\n",
              "      <td>ffffccbfc8a4</td>\n",
              "      <td>2015-05-30</td>\n",
              "      <td>20</td>\n",
              "      <td>1.0</td>\n",
              "      <td>0</td>\n",
              "      <td>0.0</td>\n",
              "      <td>0.0</td>\n",
              "      <td>16.4610</td>\n",
              "      <td>150293498</td>\n",
              "      <td>45952</td>\n",
              "      <td>1619</td>\n",
              "      <td>29463</td>\n",
              "      <td>4324</td>\n",
              "    </tr>\n",
              "  </tbody>\n",
              "</table>\n",
              "</div>"
            ],
            "text/plain": [
              "         customer_id  order_date  order_hour  customer_order_rank  is_failed  \\\n",
              "786595  fffe9d5a8d41  2016-09-30          20             NaN               1   \n",
              "786596  ffff347c3cfa  2016-08-17          21             1.0               0   \n",
              "786597  ffff347c3cfa  2016-09-15          21             2.0               0   \n",
              "786598  ffff4519b52d  2016-04-02          19             1.0               0   \n",
              "786599  ffffccbfc8a4  2015-05-30          20             1.0               0   \n",
              "\n",
              "        voucher_amount  delivery_fee  amount_paid  restaurant_id  city_id  \\\n",
              "786595             0.0           0.0      10.7262         983498    10346   \n",
              "786596             0.0           0.0       7.5933       52893498    41978   \n",
              "786597             0.0           0.0       5.9472      164653498    41978   \n",
              "786598             0.0           0.0      21.7710       16363498    80562   \n",
              "786599             0.0           0.0      16.4610      150293498    45952   \n",
              "\n",
              "        payment_id  platform_id  transmission_id  \n",
              "786595        1779        29463             212   \n",
              "786596        1619        30359            4356   \n",
              "786597        1619        30359            4356   \n",
              "786598        1491        29751            4228   \n",
              "786599        1619        29463            4324   "
            ]
          },
          "metadata": {
            "tags": []
          },
          "execution_count": 30
        }
      ]
    },
    {
      "cell_type": "markdown",
      "metadata": {
        "id": "WFfe5E5UUXHb",
        "colab_type": "text"
      },
      "source": [
        "### List of features to be created\n",
        "\n",
        "**1. How old the customer in business according to order_date**   \n",
        "i.e. need to extract customer's first order date within this 2 years time span   \n",
        "**2. From how many days Customer has not ordered**   \n",
        "i.e. Last order before how many days   \n",
        "**3. Customer ordered for a period of n days (continuously)**   \n",
        "i.e. Difference between first_order_date and last_order_date    \n",
        "**4. Common order hour**   \n",
        "i.e. Most occuring / mode of order_hour   \n",
        "**5. Number of successful orders**   \n",
        "i.e. count of customer_order_rank (need to exclude null values)   \n",
        "**6. Number of failed orders**   \n",
        "i.e. count of is_failed==1 \n",
        "**7. Average voucher amount used**      \n",
        "i.e. Mean of voucher amount    \n",
        "**8. Average delivery fee paid**    \n",
        "i.e. Mean of delivery_fee       \n",
        "**9. Average amount paid**    \n",
        "i.e. Mean of voucher amount   \n",
        "**10. Customer has ordered from how many unique number of restaurants**     \n",
        "i.e. # unique restaurant_id         \n",
        "**11. Customer has ordered from how many unique number of cities**     \n",
        "i.e. # unique city_id     \n",
        "**12. Customer has used how many unique number of payment_id**     \n",
        "i.e. # unique payment_id     \n",
        "**13. Customer has ordered from how many unique number of platforms**     \n",
        "i.e. # unique platform_id         \n",
        "**14. Customer has used how many unique number of transmission_id**  "
      ]
    },
    {
      "cell_type": "code",
      "metadata": {
        "id": "APAB8n2OUVnh",
        "colab_type": "code",
        "colab": {
          "base_uri": "https://localhost:8080/",
          "height": 161
        },
        "outputId": "71d05305-229b-4e76-9b67-1aff91652c5f"
      },
      "source": [
        "df.loc[df[\"customer_id\"]==\"fffe9d5a8d41\"]"
      ],
      "execution_count": 31,
      "outputs": [
        {
          "output_type": "execute_result",
          "data": {
            "text/html": [
              "<div>\n",
              "<style scoped>\n",
              "    .dataframe tbody tr th:only-of-type {\n",
              "        vertical-align: middle;\n",
              "    }\n",
              "\n",
              "    .dataframe tbody tr th {\n",
              "        vertical-align: top;\n",
              "    }\n",
              "\n",
              "    .dataframe thead th {\n",
              "        text-align: right;\n",
              "    }\n",
              "</style>\n",
              "<table border=\"1\" class=\"dataframe\">\n",
              "  <thead>\n",
              "    <tr style=\"text-align: right;\">\n",
              "      <th></th>\n",
              "      <th>customer_id</th>\n",
              "      <th>order_date</th>\n",
              "      <th>order_hour</th>\n",
              "      <th>customer_order_rank</th>\n",
              "      <th>is_failed</th>\n",
              "      <th>voucher_amount</th>\n",
              "      <th>delivery_fee</th>\n",
              "      <th>amount_paid</th>\n",
              "      <th>restaurant_id</th>\n",
              "      <th>city_id</th>\n",
              "      <th>payment_id</th>\n",
              "      <th>platform_id</th>\n",
              "      <th>transmission_id</th>\n",
              "    </tr>\n",
              "  </thead>\n",
              "  <tbody>\n",
              "    <tr>\n",
              "      <th>786593</th>\n",
              "      <td>fffe9d5a8d41</td>\n",
              "      <td>2016-07-31</td>\n",
              "      <td>21</td>\n",
              "      <td>NaN</td>\n",
              "      <td>1</td>\n",
              "      <td>0.0</td>\n",
              "      <td>0.0</td>\n",
              "      <td>8.4429</td>\n",
              "      <td>156133498</td>\n",
              "      <td>10346</td>\n",
              "      <td>1811</td>\n",
              "      <td>29463</td>\n",
              "      <td>212</td>\n",
              "    </tr>\n",
              "    <tr>\n",
              "      <th>786594</th>\n",
              "      <td>fffe9d5a8d41</td>\n",
              "      <td>2016-09-30</td>\n",
              "      <td>20</td>\n",
              "      <td>1.0</td>\n",
              "      <td>0</td>\n",
              "      <td>0.0</td>\n",
              "      <td>0.0</td>\n",
              "      <td>10.7262</td>\n",
              "      <td>983498</td>\n",
              "      <td>10346</td>\n",
              "      <td>1779</td>\n",
              "      <td>29463</td>\n",
              "      <td>4228</td>\n",
              "    </tr>\n",
              "    <tr>\n",
              "      <th>786595</th>\n",
              "      <td>fffe9d5a8d41</td>\n",
              "      <td>2016-09-30</td>\n",
              "      <td>20</td>\n",
              "      <td>NaN</td>\n",
              "      <td>1</td>\n",
              "      <td>0.0</td>\n",
              "      <td>0.0</td>\n",
              "      <td>10.7262</td>\n",
              "      <td>983498</td>\n",
              "      <td>10346</td>\n",
              "      <td>1779</td>\n",
              "      <td>29463</td>\n",
              "      <td>212</td>\n",
              "    </tr>\n",
              "  </tbody>\n",
              "</table>\n",
              "</div>"
            ],
            "text/plain": [
              "         customer_id  order_date  order_hour  customer_order_rank  is_failed  \\\n",
              "786593  fffe9d5a8d41  2016-07-31          21             NaN               1   \n",
              "786594  fffe9d5a8d41  2016-09-30          20             1.0               0   \n",
              "786595  fffe9d5a8d41  2016-09-30          20             NaN               1   \n",
              "\n",
              "        voucher_amount  delivery_fee  amount_paid  restaurant_id  city_id  \\\n",
              "786593             0.0           0.0       8.4429      156133498    10346   \n",
              "786594             0.0           0.0      10.7262         983498    10346   \n",
              "786595             0.0           0.0      10.7262         983498    10346   \n",
              "\n",
              "        payment_id  platform_id  transmission_id  \n",
              "786593        1811        29463             212   \n",
              "786594        1779        29463            4228   \n",
              "786595        1779        29463             212   "
            ]
          },
          "metadata": {
            "tags": []
          },
          "execution_count": 31
        }
      ]
    },
    {
      "cell_type": "markdown",
      "metadata": {
        "id": "MzVVSzI0YBqU",
        "colab_type": "text"
      },
      "source": [
        "* Need to think, how to process the failed and successful orders"
      ]
    },
    {
      "cell_type": "code",
      "metadata": {
        "id": "s6TyR3GHX-J0",
        "colab_type": "code",
        "colab": {}
      },
      "source": [
        ""
      ],
      "execution_count": null,
      "outputs": []
    }
  ]
}