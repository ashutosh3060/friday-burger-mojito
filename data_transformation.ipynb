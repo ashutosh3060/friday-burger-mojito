{
  "nbformat": 4,
  "nbformat_minor": 0,
  "metadata": {
    "colab": {
      "name": "data_transformation.ipynb",
      "provenance": [],
      "collapsed_sections": [],
      "authorship_tag": "ABX9TyOblheoIaoARPQtSemQ2+ZK",
      "include_colab_link": true
    },
    "kernelspec": {
      "name": "python3",
      "display_name": "Python 3"
    }
  },
  "cells": [
    {
      "cell_type": "markdown",
      "metadata": {
        "id": "view-in-github",
        "colab_type": "text"
      },
      "source": [
        "<a href=\"https://colab.research.google.com/github/ashutosh3060/friday-burger-mojito/blob/master/data_transformation.ipynb\" target=\"_parent\"><img src=\"https://colab.research.google.com/assets/colab-badge.svg\" alt=\"Open In Colab\"/></a>"
      ]
    },
    {
      "cell_type": "markdown",
      "metadata": {
        "id": "jHRhCQgwIVCA",
        "colab_type": "text"
      },
      "source": [
        "## Table of Contents\n",
        "\n",
        "0. Libraries\n",
        "1. User-Defined Functions\n",
        "2. Import Data and Basic Understanding\n",
        "3. Data Quality Checks   \n",
        "  3.1Duplicate    \n",
        "        3.1.1 Complete row duplicate\n",
        "        3.1.2 Unique Id duplicate\n",
        "  3.2 Missing value\n",
        "4. Feature Engineering   \n",
        "  4.1 Independent Feature Creation   \n",
        "  4.2 Join all independently created datasets      \n",
        "5. Save Final Dataset having new features"
      ]
    },
    {
      "cell_type": "markdown",
      "metadata": {
        "id": "WWrAC-a5I7SY",
        "colab_type": "text"
      },
      "source": [
        "## 0. Libraries "
      ]
    },
    {
      "cell_type": "code",
      "metadata": {
        "id": "_lQ9nucSGhMk",
        "colab_type": "code",
        "colab": {}
      },
      "source": [
        "# warnings\n",
        "import warnings\n",
        "warnings.filterwarnings(\"ignore\")\n",
        "\n",
        "# Numpy, Pandas\n",
        "import numpy as np\n",
        "import pandas as pd\n",
        "\n",
        "# Display settings\n",
        "pd.set_option('display.max_rows', 500)\n",
        "pd.set_option('display.max_columns', 100)\n",
        "pd.set_option('display.max_colwidth', 15)"
      ],
      "execution_count": 1,
      "outputs": []
    },
    {
      "cell_type": "markdown",
      "metadata": {
        "id": "CreG3lWZKVdO",
        "colab_type": "text"
      },
      "source": [
        "## 1. User-defined Functions"
      ]
    },
    {
      "cell_type": "code",
      "metadata": {
        "id": "CsI3ZNxrJluH",
        "colab_type": "code",
        "colab": {}
      },
      "source": [
        "def null_perc_check (df):\n",
        "    '''\n",
        "    Calculates missing value count and percentage for all the columns in a dataframe\n",
        "\n",
        "    Inputs\n",
        "    -------\n",
        "    df : dataframe\n",
        "        The dataframe for which missing value distribution needs to checked\n",
        "\n",
        "    Output\n",
        "    -------\n",
        "    dataframe\n",
        "        a dataframe showing missing value count and percentage for all the columns\n",
        "    '''\n",
        "    missing_value_df = pd.DataFrame(index = df.keys(), data =df.isnull().sum(), columns = ['Missing_Value_Count'])\n",
        "    missing_value_df['Missing_Value_Percentage'] = np.round(((df.isnull().mean())*100),1)\n",
        "    sorted_df = missing_value_df.sort_values('Missing_Value_Count',ascending= False)\n",
        "    return sorted_df\n",
        "\n",
        "def order_dist_perc_calc(df, unique_id, feature):   \n",
        "    '''\n",
        "    Calculates the order % for unique categories from the given independent variable\n",
        "    \n",
        "    Inputs\n",
        "    ----------\n",
        "    df : dataframe\n",
        "        The raw dataframe which is used for new feature creation\n",
        "    unique_id : string\n",
        "        Unique id name\n",
        "    feature : string\n",
        "        Name of the feature for which order % of unique categories need to be calculated\n",
        "\n",
        "    Output\n",
        "    -------\n",
        "    dataframe\n",
        "        a dataframe showing order percentage of unique categories for each customer\n",
        "    '''\n",
        "    feature_grp = df.groupby([unique_id, feature]).agg({feature: 'count'})\n",
        "    feature_pct = feature_grp.groupby(level=0).apply(lambda x: round(100 * x / float(x.sum()),2))\n",
        "    feature_pct.rename(columns={feature: f\"{feature}_pct\"}, inplace=True)\n",
        "    feature_id = feature_pct.reset_index()\n",
        "    df_feature_id = pd.DataFrame(feature_id.pivot(index=unique_id, columns=feature, values=f'{feature}_pct'))\n",
        "    df_feature_id.reset_index()\n",
        "    df_feature_id = df_feature_id.fillna(0)\n",
        "    df_feature_id = df_feature_id.apply(pd.to_numeric)\n",
        "    df_feature_id = df_feature_id.add_prefix(f'{feature}_')\n",
        "    return df_feature_id"
      ],
      "execution_count": 63,
      "outputs": []
    },
    {
      "cell_type": "markdown",
      "metadata": {
        "id": "eVTWl1z4LdsH",
        "colab_type": "text"
      },
      "source": [
        "## 2. Import Data and Basic Understanding"
      ]
    },
    {
      "cell_type": "code",
      "metadata": {
        "id": "sU74VMXyLhXf",
        "colab_type": "code",
        "colab": {}
      },
      "source": [
        "# Define the path, filename\n",
        "\n",
        "order_path = \"/content/\"\n",
        "order_file = \"machine_learning_challenge_order_data.csv\"\n",
        "label_path = \"/content/\"\n",
        "label_file = \"machine_learning_challenge_labeled_data.csv\""
      ],
      "execution_count": 3,
      "outputs": []
    },
    {
      "cell_type": "code",
      "metadata": {
        "id": "yYjqLPhTLto_",
        "colab_type": "code",
        "colab": {}
      },
      "source": [
        "# import the dataset as a dataframe\n",
        "\n",
        "df_order = pd.read_csv(order_path+order_file)\n",
        "df_label = pd.read_csv(label_path+label_file)"
      ],
      "execution_count": 4,
      "outputs": []
    },
    {
      "cell_type": "code",
      "metadata": {
        "id": "6VETccoIMDKi",
        "colab_type": "code",
        "colab": {
          "base_uri": "https://localhost:8080/",
          "height": 178
        },
        "outputId": "e1ff52fd-2b77-4060-aa9e-bfd7952d0e95"
      },
      "source": [
        "# df_order: shape and first few records\n",
        "\n",
        "print(df_order.shape)\n",
        "df_order.head(3)"
      ],
      "execution_count": 7,
      "outputs": [
        {
          "output_type": "stream",
          "text": [
            "(786600, 13)\n"
          ],
          "name": "stdout"
        },
        {
          "output_type": "execute_result",
          "data": {
            "text/html": [
              "<div>\n",
              "<style scoped>\n",
              "    .dataframe tbody tr th:only-of-type {\n",
              "        vertical-align: middle;\n",
              "    }\n",
              "\n",
              "    .dataframe tbody tr th {\n",
              "        vertical-align: top;\n",
              "    }\n",
              "\n",
              "    .dataframe thead th {\n",
              "        text-align: right;\n",
              "    }\n",
              "</style>\n",
              "<table border=\"1\" class=\"dataframe\">\n",
              "  <thead>\n",
              "    <tr style=\"text-align: right;\">\n",
              "      <th></th>\n",
              "      <th>customer_id</th>\n",
              "      <th>order_date</th>\n",
              "      <th>order_hour</th>\n",
              "      <th>customer_order_rank</th>\n",
              "      <th>is_failed</th>\n",
              "      <th>voucher_amount</th>\n",
              "      <th>delivery_fee</th>\n",
              "      <th>amount_paid</th>\n",
              "      <th>restaurant_id</th>\n",
              "      <th>city_id</th>\n",
              "      <th>payment_id</th>\n",
              "      <th>platform_id</th>\n",
              "      <th>transmission_id</th>\n",
              "    </tr>\n",
              "  </thead>\n",
              "  <tbody>\n",
              "    <tr>\n",
              "      <th>0</th>\n",
              "      <td>000097eabfd9</td>\n",
              "      <td>2015-06-20</td>\n",
              "      <td>19</td>\n",
              "      <td>1.0</td>\n",
              "      <td>0</td>\n",
              "      <td>0.0</td>\n",
              "      <td>0.000</td>\n",
              "      <td>11.46960</td>\n",
              "      <td>5803498</td>\n",
              "      <td>20326</td>\n",
              "      <td>1779</td>\n",
              "      <td>30231</td>\n",
              "      <td>4356</td>\n",
              "    </tr>\n",
              "    <tr>\n",
              "      <th>1</th>\n",
              "      <td>0000e2c6d9be</td>\n",
              "      <td>2016-01-29</td>\n",
              "      <td>20</td>\n",
              "      <td>1.0</td>\n",
              "      <td>0</td>\n",
              "      <td>0.0</td>\n",
              "      <td>0.000</td>\n",
              "      <td>9.55800</td>\n",
              "      <td>239303498</td>\n",
              "      <td>76547</td>\n",
              "      <td>1619</td>\n",
              "      <td>30359</td>\n",
              "      <td>4356</td>\n",
              "    </tr>\n",
              "    <tr>\n",
              "      <th>2</th>\n",
              "      <td>000133bb597f</td>\n",
              "      <td>2017-02-26</td>\n",
              "      <td>19</td>\n",
              "      <td>1.0</td>\n",
              "      <td>0</td>\n",
              "      <td>0.0</td>\n",
              "      <td>0.493</td>\n",
              "      <td>5.93658</td>\n",
              "      <td>206463498</td>\n",
              "      <td>33833</td>\n",
              "      <td>1619</td>\n",
              "      <td>30359</td>\n",
              "      <td>4324</td>\n",
              "    </tr>\n",
              "  </tbody>\n",
              "</table>\n",
              "</div>"
            ],
            "text/plain": [
              "    customer_id  order_date  order_hour  customer_order_rank  is_failed  \\\n",
              "0  000097eabfd9  2015-06-20          19             1.0               0   \n",
              "1  0000e2c6d9be  2016-01-29          20             1.0               0   \n",
              "2  000133bb597f  2017-02-26          19             1.0               0   \n",
              "\n",
              "   voucher_amount  delivery_fee  amount_paid  restaurant_id  city_id  \\\n",
              "0             0.0         0.000     11.46960        5803498    20326   \n",
              "1             0.0         0.000      9.55800      239303498    76547   \n",
              "2             0.0         0.493      5.93658      206463498    33833   \n",
              "\n",
              "   payment_id  platform_id  transmission_id  \n",
              "0        1779        30231            4356   \n",
              "1        1619        30359            4356   \n",
              "2        1619        30359            4324   "
            ]
          },
          "metadata": {
            "tags": []
          },
          "execution_count": 7
        }
      ]
    },
    {
      "cell_type": "code",
      "metadata": {
        "id": "lypwXjWLMIEq",
        "colab_type": "code",
        "colab": {
          "base_uri": "https://localhost:8080/",
          "height": 158
        },
        "outputId": "f6ca795d-6343-40f0-8cf3-0a0a61077a6a"
      },
      "source": [
        "# df_label: shape and first few records\n",
        "\n",
        "print(df_label.shape)\n",
        "df_label.head(3)"
      ],
      "execution_count": 8,
      "outputs": [
        {
          "output_type": "stream",
          "text": [
            "(245455, 2)\n"
          ],
          "name": "stdout"
        },
        {
          "output_type": "execute_result",
          "data": {
            "text/html": [
              "<div>\n",
              "<style scoped>\n",
              "    .dataframe tbody tr th:only-of-type {\n",
              "        vertical-align: middle;\n",
              "    }\n",
              "\n",
              "    .dataframe tbody tr th {\n",
              "        vertical-align: top;\n",
              "    }\n",
              "\n",
              "    .dataframe thead th {\n",
              "        text-align: right;\n",
              "    }\n",
              "</style>\n",
              "<table border=\"1\" class=\"dataframe\">\n",
              "  <thead>\n",
              "    <tr style=\"text-align: right;\">\n",
              "      <th></th>\n",
              "      <th>customer_id</th>\n",
              "      <th>is_returning_customer</th>\n",
              "    </tr>\n",
              "  </thead>\n",
              "  <tbody>\n",
              "    <tr>\n",
              "      <th>0</th>\n",
              "      <td>000097eabfd9</td>\n",
              "      <td>0</td>\n",
              "    </tr>\n",
              "    <tr>\n",
              "      <th>1</th>\n",
              "      <td>0000e2c6d9be</td>\n",
              "      <td>0</td>\n",
              "    </tr>\n",
              "    <tr>\n",
              "      <th>2</th>\n",
              "      <td>000133bb597f</td>\n",
              "      <td>1</td>\n",
              "    </tr>\n",
              "  </tbody>\n",
              "</table>\n",
              "</div>"
            ],
            "text/plain": [
              "    customer_id  is_returning_customer\n",
              "0  000097eabfd9               0       \n",
              "1  0000e2c6d9be               0       \n",
              "2  000133bb597f               1       "
            ]
          },
          "metadata": {
            "tags": []
          },
          "execution_count": 8
        }
      ]
    },
    {
      "cell_type": "code",
      "metadata": {
        "id": "6KaZSFytMNqq",
        "colab_type": "code",
        "colab": {
          "base_uri": "https://localhost:8080/",
          "height": 52
        },
        "outputId": "d7f32fbb-b1f6-468f-e8e3-8880fe4b9587"
      },
      "source": [
        "# Number of unique customers in both the datasets\n",
        "\n",
        "print(f'df_order: {df_order.customer_id.nunique()}')\n",
        "print(f'df_label: {df_label.customer_id.nunique()}')"
      ],
      "execution_count": 9,
      "outputs": [
        {
          "output_type": "stream",
          "text": [
            "df_order: 245455\n",
            "df_label: 245455\n"
          ],
          "name": "stdout"
        }
      ]
    },
    {
      "cell_type": "markdown",
      "metadata": {
        "id": "kbSf9rM-MnkS",
        "colab_type": "text"
      },
      "source": [
        "* As mentioned in the problem document, it seems like multiple records are present for a single customer (Historical data)\n",
        "\n",
        "* In both order and label datasets, #unique customers are same.\n",
        "\n",
        "* Before merging both the datasets, need to check the intersection of the unique customer_id"
      ]
    },
    {
      "cell_type": "code",
      "metadata": {
        "id": "VS_FKH6PMkSi",
        "colab_type": "code",
        "colab": {
          "base_uri": "https://localhost:8080/",
          "height": 35
        },
        "outputId": "e844879b-e9ed-48a6-bda6-bf40743ecede"
      },
      "source": [
        "# Intersection of unique customers in both the datasets\n",
        "\n",
        "cust_intersect = pd.merge(df_order[\"customer_id\"], df_label[\"customer_id\"], how='inner', on=['customer_id'])\n",
        "print(f'Number of common unique customers in both the datasets: {cust_intersect[\"customer_id\"].nunique()}')"
      ],
      "execution_count": 10,
      "outputs": [
        {
          "output_type": "stream",
          "text": [
            "Number of common unique customers in both the datasets: 245455\n"
          ],
          "name": "stdout"
        }
      ]
    },
    {
      "cell_type": "markdown",
      "metadata": {
        "id": "Net8RfLKNaoD",
        "colab_type": "text"
      },
      "source": [
        "* This confirms, all the unique customer_id in both the datasets are same.\n",
        "\n",
        "* So, I will try to extract all the features by grouping, aggregating and other thought process. And then will merge the target variable from the label dataset\n",
        "\n",
        "* For now, I can make the df_order as the primary dataset for independent feature extraction."
      ]
    },
    {
      "cell_type": "code",
      "metadata": {
        "id": "rV4LRdlVNTxq",
        "colab_type": "code",
        "colab": {
          "base_uri": "https://localhost:8080/",
          "height": 364
        },
        "outputId": "802216e9-f7db-4883-d0cf-817206dfe709"
      },
      "source": [
        "# Datatypes overview of the order dataset\n",
        "\n",
        "df = df_order.copy()\n",
        "df.info()"
      ],
      "execution_count": 11,
      "outputs": [
        {
          "output_type": "stream",
          "text": [
            "<class 'pandas.core.frame.DataFrame'>\n",
            "RangeIndex: 786600 entries, 0 to 786599\n",
            "Data columns (total 13 columns):\n",
            " #   Column               Non-Null Count   Dtype  \n",
            "---  ------               --------------   -----  \n",
            " 0   customer_id          786600 non-null  object \n",
            " 1   order_date           786600 non-null  object \n",
            " 2   order_hour           786600 non-null  int64  \n",
            " 3   customer_order_rank  761833 non-null  float64\n",
            " 4   is_failed            786600 non-null  int64  \n",
            " 5   voucher_amount       786600 non-null  float64\n",
            " 6   delivery_fee         786600 non-null  float64\n",
            " 7   amount_paid          786600 non-null  float64\n",
            " 8   restaurant_id        786600 non-null  int64  \n",
            " 9   city_id              786600 non-null  int64  \n",
            " 10  payment_id           786600 non-null  int64  \n",
            " 11  platform_id          786600 non-null  int64  \n",
            " 12  transmission_id      786600 non-null  int64  \n",
            "dtypes: float64(4), int64(7), object(2)\n",
            "memory usage: 78.0+ MB\n"
          ],
          "name": "stdout"
        }
      ]
    },
    {
      "cell_type": "markdown",
      "metadata": {
        "id": "VFdYdOVbN6DR",
        "colab_type": "text"
      },
      "source": [
        "* Only **customer_order_rank**  has missing values.\n",
        "* order_date is object, datatype casting is needed for operation."
      ]
    },
    {
      "cell_type": "code",
      "metadata": {
        "id": "1lXT-hyeReXk",
        "colab_type": "code",
        "colab": {
          "base_uri": "https://localhost:8080/",
          "height": 173
        },
        "outputId": "eb3c5445-b838-4bf8-805c-18ecb4c2558d"
      },
      "source": [
        "# Datatypes overview of the customer label dataset\n",
        "\n",
        "df_label.info()"
      ],
      "execution_count": 21,
      "outputs": [
        {
          "output_type": "stream",
          "text": [
            "<class 'pandas.core.frame.DataFrame'>\n",
            "RangeIndex: 245455 entries, 0 to 245454\n",
            "Data columns (total 2 columns):\n",
            " #   Column                 Non-Null Count   Dtype \n",
            "---  ------                 --------------   ----- \n",
            " 0   customer_id            245455 non-null  object\n",
            " 1   is_returning_customer  245455 non-null  int64 \n",
            "dtypes: int64(1), object(1)\n",
            "memory usage: 3.7+ MB\n"
          ],
          "name": "stdout"
        }
      ]
    },
    {
      "cell_type": "markdown",
      "metadata": {
        "id": "kAmL5nA9Rqvm",
        "colab_type": "text"
      },
      "source": [
        "* No missing values\n",
        "* Also the datatype seems okay."
      ]
    },
    {
      "cell_type": "markdown",
      "metadata": {
        "id": "EIvnsVS-PPdo",
        "colab_type": "text"
      },
      "source": [
        "## 3. Data Quality Checks"
      ]
    },
    {
      "cell_type": "markdown",
      "metadata": {
        "id": "vYn2DmPmPS1z",
        "colab_type": "text"
      },
      "source": [
        "### 3.1 Duplicate record checks"
      ]
    },
    {
      "cell_type": "markdown",
      "metadata": {
        "id": "cSTjywjWPWgK",
        "colab_type": "text"
      },
      "source": [
        "#### 3.1.1 Complete Row Duplicate"
      ]
    },
    {
      "cell_type": "code",
      "metadata": {
        "id": "rdBEQp5zNyEF",
        "colab_type": "code",
        "colab": {
          "base_uri": "https://localhost:8080/",
          "height": 69
        },
        "outputId": "0eddd8ed-4700-42d2-fa70-8df2c7114ba9"
      },
      "source": [
        "# Check duplicates\n",
        "\n",
        "check_dup = df.duplicated(subset=None, keep='first')\n",
        "print(f'Number of Total records:  {df.shape[0]}')\n",
        "print(f'Number of Unique records: {check_dup.shape[0]}')\n",
        "print(f'Number of Duplicates: {df.shape[0] - check_dup.shape[0]}')"
      ],
      "execution_count": 12,
      "outputs": [
        {
          "output_type": "stream",
          "text": [
            "Number of Total records:  786600\n",
            "Number of Unique records: 786600\n",
            "Number of Duplicates: 0\n"
          ],
          "name": "stdout"
        }
      ]
    },
    {
      "cell_type": "markdown",
      "metadata": {
        "id": "TQk6LWfqPlLl",
        "colab_type": "text"
      },
      "source": [
        "* Both the total and unique records are same, so there are no duplicate present."
      ]
    },
    {
      "cell_type": "markdown",
      "metadata": {
        "id": "q4N0ChtFPuLs",
        "colab_type": "text"
      },
      "source": [
        "#### 3.1.2 customer_id (unique identifier) Duplicate"
      ]
    },
    {
      "cell_type": "code",
      "metadata": {
        "id": "T6vLQu8BPkVs",
        "colab_type": "code",
        "colab": {
          "base_uri": "https://localhost:8080/",
          "height": 225
        },
        "outputId": "f6d12858-3ac0-4115-cced-f3ad6425b568"
      },
      "source": [
        "# Number of records for each customer_id\n",
        "\n",
        "df[\"customer_id\"].value_counts()"
      ],
      "execution_count": 13,
      "outputs": [
        {
          "output_type": "execute_result",
          "data": {
            "text/plain": [
              "15edce943edd    386\n",
              "8745a335e9cf    288\n",
              "d956116d863d    286\n",
              "0063666607bb    273\n",
              "ae60dce05485    270\n",
              "               ... \n",
              "ba7d5a6e6638      1\n",
              "4324cbb32eb8      1\n",
              "9aafd98d48b6      1\n",
              "bea68ff2ad49      1\n",
              "ca16c3a1e1af      1\n",
              "Name: customer_id, Length: 245455, dtype: int64"
            ]
          },
          "metadata": {
            "tags": []
          },
          "execution_count": 13
        }
      ]
    },
    {
      "cell_type": "markdown",
      "metadata": {
        "id": "0Pk0L1DLQLws",
        "colab_type": "text"
      },
      "source": [
        "* As mentioned in the Data Dictionary, a customer_id can appear for multiple times as multiple orders in different dates are present, so a valid business scenario."
      ]
    },
    {
      "cell_type": "markdown",
      "metadata": {
        "id": "EpM58KuuQYqR",
        "colab_type": "text"
      },
      "source": [
        "### 3.2 Null check - Missing value percentage"
      ]
    },
    {
      "cell_type": "code",
      "metadata": {
        "id": "TrKeJ7CvQKuW",
        "colab_type": "code",
        "colab": {
          "base_uri": "https://localhost:8080/",
          "height": 447
        },
        "outputId": "b92f27c6-dc15-4e43-b8a3-3395588b75da"
      },
      "source": [
        "# Missing value count and percentage check\n",
        "\n",
        "null_perc_check(df)"
      ],
      "execution_count": 16,
      "outputs": [
        {
          "output_type": "execute_result",
          "data": {
            "text/html": [
              "<div>\n",
              "<style scoped>\n",
              "    .dataframe tbody tr th:only-of-type {\n",
              "        vertical-align: middle;\n",
              "    }\n",
              "\n",
              "    .dataframe tbody tr th {\n",
              "        vertical-align: top;\n",
              "    }\n",
              "\n",
              "    .dataframe thead th {\n",
              "        text-align: right;\n",
              "    }\n",
              "</style>\n",
              "<table border=\"1\" class=\"dataframe\">\n",
              "  <thead>\n",
              "    <tr style=\"text-align: right;\">\n",
              "      <th></th>\n",
              "      <th>Missing_Value_Count</th>\n",
              "      <th>Missing_Value_Percentage</th>\n",
              "    </tr>\n",
              "  </thead>\n",
              "  <tbody>\n",
              "    <tr>\n",
              "      <th>customer_order_rank</th>\n",
              "      <td>24767</td>\n",
              "      <td>3.1</td>\n",
              "    </tr>\n",
              "    <tr>\n",
              "      <th>customer_id</th>\n",
              "      <td>0</td>\n",
              "      <td>0.0</td>\n",
              "    </tr>\n",
              "    <tr>\n",
              "      <th>order_date</th>\n",
              "      <td>0</td>\n",
              "      <td>0.0</td>\n",
              "    </tr>\n",
              "    <tr>\n",
              "      <th>order_hour</th>\n",
              "      <td>0</td>\n",
              "      <td>0.0</td>\n",
              "    </tr>\n",
              "    <tr>\n",
              "      <th>is_failed</th>\n",
              "      <td>0</td>\n",
              "      <td>0.0</td>\n",
              "    </tr>\n",
              "    <tr>\n",
              "      <th>voucher_amount</th>\n",
              "      <td>0</td>\n",
              "      <td>0.0</td>\n",
              "    </tr>\n",
              "    <tr>\n",
              "      <th>delivery_fee</th>\n",
              "      <td>0</td>\n",
              "      <td>0.0</td>\n",
              "    </tr>\n",
              "    <tr>\n",
              "      <th>amount_paid</th>\n",
              "      <td>0</td>\n",
              "      <td>0.0</td>\n",
              "    </tr>\n",
              "    <tr>\n",
              "      <th>restaurant_id</th>\n",
              "      <td>0</td>\n",
              "      <td>0.0</td>\n",
              "    </tr>\n",
              "    <tr>\n",
              "      <th>city_id</th>\n",
              "      <td>0</td>\n",
              "      <td>0.0</td>\n",
              "    </tr>\n",
              "    <tr>\n",
              "      <th>payment_id</th>\n",
              "      <td>0</td>\n",
              "      <td>0.0</td>\n",
              "    </tr>\n",
              "    <tr>\n",
              "      <th>platform_id</th>\n",
              "      <td>0</td>\n",
              "      <td>0.0</td>\n",
              "    </tr>\n",
              "    <tr>\n",
              "      <th>transmission_id</th>\n",
              "      <td>0</td>\n",
              "      <td>0.0</td>\n",
              "    </tr>\n",
              "  </tbody>\n",
              "</table>\n",
              "</div>"
            ],
            "text/plain": [
              "                 Missing_Value_Count  Missing_Value_Percentage\n",
              "customer_ord...           24767                  3.1          \n",
              "customer_id                   0                  0.0          \n",
              "order_date                    0                  0.0          \n",
              "order_hour                    0                  0.0          \n",
              "is_failed                     0                  0.0          \n",
              "voucher_amount                0                  0.0          \n",
              "delivery_fee                  0                  0.0          \n",
              "amount_paid                   0                  0.0          \n",
              "restaurant_id                 0                  0.0          \n",
              "city_id                       0                  0.0          \n",
              "payment_id                    0                  0.0          \n",
              "platform_id                   0                  0.0          \n",
              "transmission_id               0                  0.0          "
            ]
          },
          "metadata": {
            "tags": []
          },
          "execution_count": 16
        }
      ]
    },
    {
      "cell_type": "markdown",
      "metadata": {
        "id": "jg1kzy70Qou4",
        "colab_type": "text"
      },
      "source": [
        "* There are no missing values except for customer_order_rank.\n",
        "* customer_order_rank can be null whenever an order is failed.\n",
        "* Once this condition is checked, we can confirm the actual missing percentage of customer_order_rank"
      ]
    },
    {
      "cell_type": "code",
      "metadata": {
        "id": "iZX3RFdlQiNj",
        "colab_type": "code",
        "colab": {
          "base_uri": "https://localhost:8080/",
          "height": 52
        },
        "outputId": "c75e1e52-f9fe-4a11-8c54-e49d7fce4f79"
      },
      "source": [
        "# Check number of failed orders and the customer_order_rank for the same\n",
        "\n",
        "print(f'#Failed orders: {df.loc[df[\"is_failed\"]==1].shape[0]}')\n",
        "print(f'unique customer_rank_order values:  {df.loc[df[\"is_failed\"]==1][\"customer_order_rank\"].unique()}')"
      ],
      "execution_count": 18,
      "outputs": [
        {
          "output_type": "stream",
          "text": [
            "#Failed orders: 24767\n",
            "unique customer_rank_order values:  [nan]\n"
          ],
          "name": "stdout"
        }
      ]
    },
    {
      "cell_type": "markdown",
      "metadata": {
        "id": "WiEn8-wJRPOK",
        "colab_type": "text"
      },
      "source": [
        "1. #Failed orders = #Missing values for customer_order_rank\n",
        "2. For all failed orders, customer_order_rank is null    \n",
        "* Above 2 statements prove that the Nulls are business case wise correct; hence these are not semantically missing values."
      ]
    },
    {
      "cell_type": "code",
      "metadata": {
        "id": "5KahGE8XQ31N",
        "colab_type": "code",
        "colab": {
          "base_uri": "https://localhost:8080/",
          "height": 110
        },
        "outputId": "2544968a-4af0-44e7-f7aa-fac665fd6cc8"
      },
      "source": [
        "# Check the missing value percentage for label dataset\n",
        "\n",
        "null_perc_check(df_label)"
      ],
      "execution_count": 19,
      "outputs": [
        {
          "output_type": "execute_result",
          "data": {
            "text/html": [
              "<div>\n",
              "<style scoped>\n",
              "    .dataframe tbody tr th:only-of-type {\n",
              "        vertical-align: middle;\n",
              "    }\n",
              "\n",
              "    .dataframe tbody tr th {\n",
              "        vertical-align: top;\n",
              "    }\n",
              "\n",
              "    .dataframe thead th {\n",
              "        text-align: right;\n",
              "    }\n",
              "</style>\n",
              "<table border=\"1\" class=\"dataframe\">\n",
              "  <thead>\n",
              "    <tr style=\"text-align: right;\">\n",
              "      <th></th>\n",
              "      <th>Missing_Value_Count</th>\n",
              "      <th>Missing_Value_Percentage</th>\n",
              "    </tr>\n",
              "  </thead>\n",
              "  <tbody>\n",
              "    <tr>\n",
              "      <th>customer_id</th>\n",
              "      <td>0</td>\n",
              "      <td>0.0</td>\n",
              "    </tr>\n",
              "    <tr>\n",
              "      <th>is_returning_customer</th>\n",
              "      <td>0</td>\n",
              "      <td>0.0</td>\n",
              "    </tr>\n",
              "  </tbody>\n",
              "</table>\n",
              "</div>"
            ],
            "text/plain": [
              "                 Missing_Value_Count  Missing_Value_Percentage\n",
              "customer_id                   0                  0.0          \n",
              "is_returning...               0                  0.0          "
            ]
          },
          "metadata": {
            "tags": []
          },
          "execution_count": 19
        }
      ]
    },
    {
      "cell_type": "markdown",
      "metadata": {
        "id": "2mcGppHBR1Cc",
        "colab_type": "text"
      },
      "source": [
        "* There are no missing values for customer label dataset."
      ]
    },
    {
      "cell_type": "markdown",
      "metadata": {
        "id": "IET2pWN_UNLJ",
        "colab_type": "text"
      },
      "source": [
        "## 4. Feature Engineering"
      ]
    },
    {
      "cell_type": "markdown",
      "metadata": {
        "id": "eAnHQba33CWS",
        "colab_type": "text"
      },
      "source": [
        "### 4.1 Independent Feature Creation"
      ]
    },
    {
      "cell_type": "code",
      "metadata": {
        "id": "Gnzpne34USi-",
        "colab_type": "code",
        "colab": {
          "base_uri": "https://localhost:8080/",
          "height": 104
        },
        "outputId": "566d9bf2-9663-4767-af31-b44705e92ff5"
      },
      "source": [
        "df.columns"
      ],
      "execution_count": 22,
      "outputs": [
        {
          "output_type": "execute_result",
          "data": {
            "text/plain": [
              "Index(['customer_id', 'order_date', 'order_hour', 'customer_order_rank',\n",
              "       'is_failed', 'voucher_amount', 'delivery_fee', 'amount_paid',\n",
              "       'restaurant_id', 'city_id', 'payment_id', 'platform_id',\n",
              "       'transmission_id'],\n",
              "      dtype='object')"
            ]
          },
          "metadata": {
            "tags": []
          },
          "execution_count": 22
        }
      ]
    },
    {
      "cell_type": "code",
      "metadata": {
        "id": "Hz7J7lS9X6dC",
        "colab_type": "code",
        "colab": {
          "base_uri": "https://localhost:8080/",
          "height": 222
        },
        "outputId": "adec2390-d385-4c4e-8259-939a7182f70f"
      },
      "source": [
        "df.tail(5)"
      ],
      "execution_count": 30,
      "outputs": [
        {
          "output_type": "execute_result",
          "data": {
            "text/html": [
              "<div>\n",
              "<style scoped>\n",
              "    .dataframe tbody tr th:only-of-type {\n",
              "        vertical-align: middle;\n",
              "    }\n",
              "\n",
              "    .dataframe tbody tr th {\n",
              "        vertical-align: top;\n",
              "    }\n",
              "\n",
              "    .dataframe thead th {\n",
              "        text-align: right;\n",
              "    }\n",
              "</style>\n",
              "<table border=\"1\" class=\"dataframe\">\n",
              "  <thead>\n",
              "    <tr style=\"text-align: right;\">\n",
              "      <th></th>\n",
              "      <th>customer_id</th>\n",
              "      <th>order_date</th>\n",
              "      <th>order_hour</th>\n",
              "      <th>customer_order_rank</th>\n",
              "      <th>is_failed</th>\n",
              "      <th>voucher_amount</th>\n",
              "      <th>delivery_fee</th>\n",
              "      <th>amount_paid</th>\n",
              "      <th>restaurant_id</th>\n",
              "      <th>city_id</th>\n",
              "      <th>payment_id</th>\n",
              "      <th>platform_id</th>\n",
              "      <th>transmission_id</th>\n",
              "    </tr>\n",
              "  </thead>\n",
              "  <tbody>\n",
              "    <tr>\n",
              "      <th>786595</th>\n",
              "      <td>fffe9d5a8d41</td>\n",
              "      <td>2016-09-30</td>\n",
              "      <td>20</td>\n",
              "      <td>NaN</td>\n",
              "      <td>1</td>\n",
              "      <td>0.0</td>\n",
              "      <td>0.0</td>\n",
              "      <td>10.7262</td>\n",
              "      <td>983498</td>\n",
              "      <td>10346</td>\n",
              "      <td>1779</td>\n",
              "      <td>29463</td>\n",
              "      <td>212</td>\n",
              "    </tr>\n",
              "    <tr>\n",
              "      <th>786596</th>\n",
              "      <td>ffff347c3cfa</td>\n",
              "      <td>2016-08-17</td>\n",
              "      <td>21</td>\n",
              "      <td>1.0</td>\n",
              "      <td>0</td>\n",
              "      <td>0.0</td>\n",
              "      <td>0.0</td>\n",
              "      <td>7.5933</td>\n",
              "      <td>52893498</td>\n",
              "      <td>41978</td>\n",
              "      <td>1619</td>\n",
              "      <td>30359</td>\n",
              "      <td>4356</td>\n",
              "    </tr>\n",
              "    <tr>\n",
              "      <th>786597</th>\n",
              "      <td>ffff347c3cfa</td>\n",
              "      <td>2016-09-15</td>\n",
              "      <td>21</td>\n",
              "      <td>2.0</td>\n",
              "      <td>0</td>\n",
              "      <td>0.0</td>\n",
              "      <td>0.0</td>\n",
              "      <td>5.9472</td>\n",
              "      <td>164653498</td>\n",
              "      <td>41978</td>\n",
              "      <td>1619</td>\n",
              "      <td>30359</td>\n",
              "      <td>4356</td>\n",
              "    </tr>\n",
              "    <tr>\n",
              "      <th>786598</th>\n",
              "      <td>ffff4519b52d</td>\n",
              "      <td>2016-04-02</td>\n",
              "      <td>19</td>\n",
              "      <td>1.0</td>\n",
              "      <td>0</td>\n",
              "      <td>0.0</td>\n",
              "      <td>0.0</td>\n",
              "      <td>21.7710</td>\n",
              "      <td>16363498</td>\n",
              "      <td>80562</td>\n",
              "      <td>1491</td>\n",
              "      <td>29751</td>\n",
              "      <td>4228</td>\n",
              "    </tr>\n",
              "    <tr>\n",
              "      <th>786599</th>\n",
              "      <td>ffffccbfc8a4</td>\n",
              "      <td>2015-05-30</td>\n",
              "      <td>20</td>\n",
              "      <td>1.0</td>\n",
              "      <td>0</td>\n",
              "      <td>0.0</td>\n",
              "      <td>0.0</td>\n",
              "      <td>16.4610</td>\n",
              "      <td>150293498</td>\n",
              "      <td>45952</td>\n",
              "      <td>1619</td>\n",
              "      <td>29463</td>\n",
              "      <td>4324</td>\n",
              "    </tr>\n",
              "  </tbody>\n",
              "</table>\n",
              "</div>"
            ],
            "text/plain": [
              "         customer_id  order_date  order_hour  customer_order_rank  is_failed  \\\n",
              "786595  fffe9d5a8d41  2016-09-30          20             NaN               1   \n",
              "786596  ffff347c3cfa  2016-08-17          21             1.0               0   \n",
              "786597  ffff347c3cfa  2016-09-15          21             2.0               0   \n",
              "786598  ffff4519b52d  2016-04-02          19             1.0               0   \n",
              "786599  ffffccbfc8a4  2015-05-30          20             1.0               0   \n",
              "\n",
              "        voucher_amount  delivery_fee  amount_paid  restaurant_id  city_id  \\\n",
              "786595             0.0           0.0      10.7262         983498    10346   \n",
              "786596             0.0           0.0       7.5933       52893498    41978   \n",
              "786597             0.0           0.0       5.9472      164653498    41978   \n",
              "786598             0.0           0.0      21.7710       16363498    80562   \n",
              "786599             0.0           0.0      16.4610      150293498    45952   \n",
              "\n",
              "        payment_id  platform_id  transmission_id  \n",
              "786595        1779        29463             212   \n",
              "786596        1619        30359            4356   \n",
              "786597        1619        30359            4356   \n",
              "786598        1491        29751            4228   \n",
              "786599        1619        29463            4324   "
            ]
          },
          "metadata": {
            "tags": []
          },
          "execution_count": 30
        }
      ]
    },
    {
      "cell_type": "markdown",
      "metadata": {
        "id": "WFfe5E5UUXHb",
        "colab_type": "text"
      },
      "source": [
        "### List of features to be created\n",
        "\n",
        "**1. How old the customer in business according to order_date**   \n",
        "i.e. need to extract customer's first order date within this 2 years time span   \n",
        "**2. From how many days Customer has not ordered**   \n",
        "i.e. Last order before how many days   \n",
        "**3. Customer ordered for a period of n days (continuously)**   \n",
        "i.e. Difference between first_order_date and last_order_date    \n",
        "**4. Most Common order hour**   \n",
        "i.e. Most occuring / mode of order_hour   \n",
        "**5. Number of successful orders**   \n",
        "i.e. count of customer_order_rank (need to exclude null values)   \n",
        "**6. Number of failed orders**   \n",
        "i.e. count of is_failed==1    \n",
        "**7. Average voucher amount used**      \n",
        "i.e. Mean of voucher amount    \n",
        "**8. Average delivery fee paid**    \n",
        "i.e. Mean of delivery_fee       \n",
        "**9. Average amount paid**    \n",
        "i.e. Mean of voucher amount   \n",
        "**10. Customer has ordered from how many unique number of restaurants**     \n",
        "i.e. # unique restaurant_id         \n",
        "**11. Customer has ordered from how many unique number of cities**     \n",
        "i.e. # unique city_id     \n",
        "**12. Customer has used how many unique number of payment_id**     \n",
        "i.e. # unique payment_id     \n",
        "**13. Customer has ordered from how many unique number of platforms**     \n",
        "i.e. # unique platform_id         \n",
        "**14. Customer has used how many unique number of transmission_id**  \n",
        "i.e. Need to create categorical encoding type features for each unique transmission_id and need to assign the respective percentage of use   \n",
        "**15. Has customer used any voucher**       \n",
        "i.e. if voucher_amount==0 then not used else used      \n",
        "**16. Has customer paid any delivery fee**       \n",
        "i.e. if delivery_fee==0 then not paid else paid       \n",
        "**17. Has customer paid any amount ever**    \n",
        "i.e. if amount_paid==0 then not paid else paid      \n",
        "**18 What is the order % distribution according to day-time**   \n",
        "i.e. How much orders are in morning, afternoon, evening etc (Need to assume day-time range according to business)\n"
      ]
    },
    {
      "cell_type": "markdown",
      "metadata": {
        "id": "MzVVSzI0YBqU",
        "colab_type": "text"
      },
      "source": [
        "* Need to think, how to process the failed and successful orders"
      ]
    },
    {
      "cell_type": "code",
      "metadata": {
        "id": "s6TyR3GHX-J0",
        "colab_type": "code",
        "colab": {
          "base_uri": "https://localhost:8080/",
          "height": 87
        },
        "outputId": "4ddbc958-8fd6-4239-8355-32de5d14b1da"
      },
      "source": [
        "## Create copy of original dataset for new feature creation\n",
        "df_ftr_crtn = df.copy()\n",
        "print(df.shape)\n",
        "print(df_ftr_crtn.shape)\n",
        "\n",
        "## Typecasting the date field for operation\n",
        "print(df_ftr_crtn[\"order_date\"].dtypes)\n",
        "df_ftr_crtn[\"order_date\"] = pd.to_datetime(df_ftr_crtn[\"order_date\"])\n",
        "print(df_ftr_crtn[\"order_date\"].dtypes)"
      ],
      "execution_count": 33,
      "outputs": [
        {
          "output_type": "stream",
          "text": [
            "(786600, 13)\n",
            "(786600, 13)\n",
            "object\n",
            "datetime64[ns]\n"
          ],
          "name": "stdout"
        }
      ]
    },
    {
      "cell_type": "markdown",
      "metadata": {
        "id": "yGir7t39deIo",
        "colab_type": "text"
      },
      "source": [
        "1. How old the customer in business according to order_date\n",
        "2. From how many days Customer has not ordered \n",
        "3. Customer ordered for a period of n days (continuously)  "
      ]
    },
    {
      "cell_type": "code",
      "metadata": {
        "id": "Yg7bNDymgXeW",
        "colab_type": "code",
        "colab": {
          "base_uri": "https://localhost:8080/",
          "height": 222
        },
        "outputId": "50557b6b-5204-42c4-a572-46afe57ff371"
      },
      "source": [
        "# days before first, last order and period of continuous orders \n",
        "#(Including failed order for simplicity. This shows customer first interacted and last interacted irrespective of failed order)\n",
        "\n",
        "min_max_order_date = pd.DataFrame(df_ftr_crtn.groupby(\"customer_id\")[\"order_date\"].agg(['min', 'max'])).reset_index()\n",
        "min_max_order_date[\"first_order_before\"] = (pd.to_datetime('2017-03-01') - min_max_order_date[\"min\"]).dt.days\n",
        "min_max_order_date[\"last_order_before\"] = (pd.to_datetime('2017-03-01') - min_max_order_date[\"max\"]).dt.days\n",
        "min_max_order_date[\"cntns_order_period\"] = np.where((min_max_order_date[\"first_order_before\"] - min_max_order_date[\"last_order_before\"])==0, 1, min_max_order_date[\"first_order_before\"] - min_max_order_date[\"last_order_before\"])\n",
        "min_max_order_date.rename(columns={\"min\":\"first_order_date\", \"max\":\"last_order_date\"}, inplace=True)\n",
        "min_max_order_date.tail()"
      ],
      "execution_count": 41,
      "outputs": [
        {
          "output_type": "execute_result",
          "data": {
            "text/html": [
              "<div>\n",
              "<style scoped>\n",
              "    .dataframe tbody tr th:only-of-type {\n",
              "        vertical-align: middle;\n",
              "    }\n",
              "\n",
              "    .dataframe tbody tr th {\n",
              "        vertical-align: top;\n",
              "    }\n",
              "\n",
              "    .dataframe thead th {\n",
              "        text-align: right;\n",
              "    }\n",
              "</style>\n",
              "<table border=\"1\" class=\"dataframe\">\n",
              "  <thead>\n",
              "    <tr style=\"text-align: right;\">\n",
              "      <th></th>\n",
              "      <th>customer_id</th>\n",
              "      <th>first_order_date</th>\n",
              "      <th>last_order_date</th>\n",
              "      <th>first_order_before</th>\n",
              "      <th>last_order_before</th>\n",
              "      <th>cntns_order_period</th>\n",
              "    </tr>\n",
              "  </thead>\n",
              "  <tbody>\n",
              "    <tr>\n",
              "      <th>245450</th>\n",
              "      <td>fffd696eaedd</td>\n",
              "      <td>2015-09-14</td>\n",
              "      <td>2015-09-14</td>\n",
              "      <td>534</td>\n",
              "      <td>534</td>\n",
              "      <td>1</td>\n",
              "    </tr>\n",
              "    <tr>\n",
              "      <th>245451</th>\n",
              "      <td>fffe9d5a8d41</td>\n",
              "      <td>2016-07-31</td>\n",
              "      <td>2016-09-30</td>\n",
              "      <td>213</td>\n",
              "      <td>152</td>\n",
              "      <td>61</td>\n",
              "    </tr>\n",
              "    <tr>\n",
              "      <th>245452</th>\n",
              "      <td>ffff347c3cfa</td>\n",
              "      <td>2016-08-17</td>\n",
              "      <td>2016-09-15</td>\n",
              "      <td>196</td>\n",
              "      <td>167</td>\n",
              "      <td>29</td>\n",
              "    </tr>\n",
              "    <tr>\n",
              "      <th>245453</th>\n",
              "      <td>ffff4519b52d</td>\n",
              "      <td>2016-04-02</td>\n",
              "      <td>2016-04-02</td>\n",
              "      <td>333</td>\n",
              "      <td>333</td>\n",
              "      <td>1</td>\n",
              "    </tr>\n",
              "    <tr>\n",
              "      <th>245454</th>\n",
              "      <td>ffffccbfc8a4</td>\n",
              "      <td>2015-05-30</td>\n",
              "      <td>2015-05-30</td>\n",
              "      <td>641</td>\n",
              "      <td>641</td>\n",
              "      <td>1</td>\n",
              "    </tr>\n",
              "  </tbody>\n",
              "</table>\n",
              "</div>"
            ],
            "text/plain": [
              "         customer_id first_order_date last_order_date  first_order_before  \\\n",
              "245450  fffd696eaedd      2015-09-14       2015-09-14             534       \n",
              "245451  fffe9d5a8d41      2016-07-31       2016-09-30             213       \n",
              "245452  ffff347c3cfa      2016-08-17       2016-09-15             196       \n",
              "245453  ffff4519b52d      2016-04-02       2016-04-02             333       \n",
              "245454  ffffccbfc8a4      2015-05-30       2015-05-30             641       \n",
              "\n",
              "        last_order_before  cntns_order_period  \n",
              "245450             534                  1      \n",
              "245451             152                 61      \n",
              "245452             167                 29      \n",
              "245453             333                  1      \n",
              "245454             641                  1      "
            ]
          },
          "metadata": {
            "tags": []
          },
          "execution_count": 41
        }
      ]
    },
    {
      "cell_type": "markdown",
      "metadata": {
        "id": "jhA94gNBgeH8",
        "colab_type": "text"
      },
      "source": [
        "6. Number of failed orders"
      ]
    },
    {
      "cell_type": "code",
      "metadata": {
        "id": "6xbh-pefgltO",
        "colab_type": "code",
        "colab": {
          "base_uri": "https://localhost:8080/",
          "height": 202
        },
        "outputId": "c9e36890-0041-4384-dc31-92960c92ca23"
      },
      "source": [
        "# Number of Failed orders\n",
        "num_fail_order = pd.DataFrame(df_ftr_crtn.groupby(\"customer_id\")[\"is_failed\"].agg(['sum'])).reset_index()\n",
        "num_fail_order.rename(columns={\"sum\":\"num_fail_order\"}, inplace=True)\n",
        "num_fail_order.tail(5)"
      ],
      "execution_count": 42,
      "outputs": [
        {
          "output_type": "execute_result",
          "data": {
            "text/html": [
              "<div>\n",
              "<style scoped>\n",
              "    .dataframe tbody tr th:only-of-type {\n",
              "        vertical-align: middle;\n",
              "    }\n",
              "\n",
              "    .dataframe tbody tr th {\n",
              "        vertical-align: top;\n",
              "    }\n",
              "\n",
              "    .dataframe thead th {\n",
              "        text-align: right;\n",
              "    }\n",
              "</style>\n",
              "<table border=\"1\" class=\"dataframe\">\n",
              "  <thead>\n",
              "    <tr style=\"text-align: right;\">\n",
              "      <th></th>\n",
              "      <th>customer_id</th>\n",
              "      <th>num_fail_order</th>\n",
              "    </tr>\n",
              "  </thead>\n",
              "  <tbody>\n",
              "    <tr>\n",
              "      <th>245450</th>\n",
              "      <td>fffd696eaedd</td>\n",
              "      <td>0</td>\n",
              "    </tr>\n",
              "    <tr>\n",
              "      <th>245451</th>\n",
              "      <td>fffe9d5a8d41</td>\n",
              "      <td>2</td>\n",
              "    </tr>\n",
              "    <tr>\n",
              "      <th>245452</th>\n",
              "      <td>ffff347c3cfa</td>\n",
              "      <td>0</td>\n",
              "    </tr>\n",
              "    <tr>\n",
              "      <th>245453</th>\n",
              "      <td>ffff4519b52d</td>\n",
              "      <td>0</td>\n",
              "    </tr>\n",
              "    <tr>\n",
              "      <th>245454</th>\n",
              "      <td>ffffccbfc8a4</td>\n",
              "      <td>0</td>\n",
              "    </tr>\n",
              "  </tbody>\n",
              "</table>\n",
              "</div>"
            ],
            "text/plain": [
              "         customer_id  num_fail_order\n",
              "245450  fffd696eaedd               0\n",
              "245451  fffe9d5a8d41               2\n",
              "245452  ffff347c3cfa               0\n",
              "245453  ffff4519b52d               0\n",
              "245454  ffffccbfc8a4               0"
            ]
          },
          "metadata": {
            "tags": []
          },
          "execution_count": 42
        }
      ]
    },
    {
      "cell_type": "markdown",
      "metadata": {
        "id": "PlJaAdmSgs-f",
        "colab_type": "text"
      },
      "source": [
        "* Can we exclude the customers having failed orders can be excluded for other new features creation ?"
      ]
    },
    {
      "cell_type": "code",
      "metadata": {
        "id": "HoA4Ljk-gziw",
        "colab_type": "code",
        "colab": {
          "base_uri": "https://localhost:8080/",
          "height": 52
        },
        "outputId": "f5445548-008b-413a-f937-96174b0a367a"
      },
      "source": [
        "# Check record count excluding all thge failed cases\n",
        "\n",
        "print(df_ftr_crtn.shape)\n",
        "df_ftr_crtn = df_ftr_crtn.loc[df_ftr_crtn[\"is_failed\"]==0]\n",
        "print(df_ftr_crtn.shape)"
      ],
      "execution_count": 44,
      "outputs": [
        {
          "output_type": "stream",
          "text": [
            "(761833, 13)\n",
            "(761833, 13)\n"
          ],
          "name": "stdout"
        }
      ]
    },
    {
      "cell_type": "code",
      "metadata": {
        "id": "n9N8goD_g1z_",
        "colab_type": "code",
        "colab": {
          "base_uri": "https://localhost:8080/",
          "height": 35
        },
        "outputId": "d1604557-fc84-4d89-d1cc-142565050c70"
      },
      "source": [
        "# Create another dataset by keeping only single customer_id\n",
        "\n",
        "df_new_ftr_1 = df_ftr_crtn.drop_duplicates(subset=\"customer_id\", keep=\"first\")\n",
        "print(df_new_ftr_1.shape)"
      ],
      "execution_count": 46,
      "outputs": [
        {
          "output_type": "stream",
          "text": [
            "(244937, 13)\n"
          ],
          "name": "stdout"
        }
      ]
    },
    {
      "cell_type": "code",
      "metadata": {
        "id": "MIhV3gUXhoQN",
        "colab_type": "code",
        "colab": {
          "base_uri": "https://localhost:8080/",
          "height": 156
        },
        "outputId": "d2c9f2e1-23b7-49f3-e5ce-c9846dc47ebc"
      },
      "source": [
        "# Total unique customers and customers having only failed records\n",
        "\n",
        "print('Total unique number of customers:')\n",
        "print(df.customer_id.nunique())\n",
        "print('--'*20)\n",
        "print('Records having only successful orders of customers:')\n",
        "print(df_new_ftr_1.customer_id.nunique())\n",
        "print('--'*20)\n",
        "print('Customers having only failed orders:')\n",
        "print(df.customer_id.nunique() - df_new_ftr_1.shape[0])"
      ],
      "execution_count": 47,
      "outputs": [
        {
          "output_type": "stream",
          "text": [
            "Total unique number of customers:\n",
            "245455\n",
            "----------------------------------------\n",
            "Records having only successful orders of customers:\n",
            "244937\n",
            "----------------------------------------\n",
            "Customers having only failed orders:\n",
            "518\n"
          ],
          "name": "stdout"
        }
      ]
    },
    {
      "cell_type": "markdown",
      "metadata": {
        "id": "-dlSgydAh3PR",
        "colab_type": "text"
      },
      "source": [
        "* After excluding customers who has only failed orders, but no successful order: we get 244937 unique customers.\n",
        "* Let's check if there are any returning customers in those 518 records."
      ]
    },
    {
      "cell_type": "code",
      "metadata": {
        "id": "4XBA_OqZhoUC",
        "colab_type": "code",
        "colab": {
          "base_uri": "https://localhost:8080/",
          "height": 69
        },
        "outputId": "8b2dd196-e547-4b2e-fd8f-96bc1a02d33e"
      },
      "source": [
        "# Create list of unique customers from both the datasets\n",
        "list_df_customer_id = list(df.customer_id.unique())\n",
        "list_df_ftr_crtn_customer_id = list(df_ftr_crtn.customer_id.unique())\n",
        "\n",
        "# Create set for 518 customers which are having only failed records\n",
        "fail_customers = set(list_df_customer_id) - set(list_df_ftr_crtn_customer_id)\n",
        "# Check what is their returning status in label dataset\n",
        "df_label.loc[df_label[\"customer_id\"].isin(list(fail_customers))][\"is_returning_customer\"].value_counts()"
      ],
      "execution_count": 48,
      "outputs": [
        {
          "output_type": "execute_result",
          "data": {
            "text/plain": [
              "1    488\n",
              "0     30\n",
              "Name: is_returning_customer, dtype: int64"
            ]
          },
          "metadata": {
            "tags": []
          },
          "execution_count": 48
        }
      ]
    },
    {
      "cell_type": "markdown",
      "metadata": {
        "id": "te6iBuByh93U",
        "colab_type": "text"
      },
      "source": [
        "* Let's check for a sample record"
      ]
    },
    {
      "cell_type": "code",
      "metadata": {
        "id": "5WhAU10ehoSt",
        "colab_type": "code",
        "colab": {
          "base_uri": "https://localhost:8080/",
          "height": 202
        },
        "outputId": "cdf5cf27-8f30-49ce-b762-48db23f4b0ca"
      },
      "source": [
        "df_fail_customer = pd.DataFrame(fail_customers)\n",
        "df_fail_customer.head()"
      ],
      "execution_count": 49,
      "outputs": [
        {
          "output_type": "execute_result",
          "data": {
            "text/html": [
              "<div>\n",
              "<style scoped>\n",
              "    .dataframe tbody tr th:only-of-type {\n",
              "        vertical-align: middle;\n",
              "    }\n",
              "\n",
              "    .dataframe tbody tr th {\n",
              "        vertical-align: top;\n",
              "    }\n",
              "\n",
              "    .dataframe thead th {\n",
              "        text-align: right;\n",
              "    }\n",
              "</style>\n",
              "<table border=\"1\" class=\"dataframe\">\n",
              "  <thead>\n",
              "    <tr style=\"text-align: right;\">\n",
              "      <th></th>\n",
              "      <th>0</th>\n",
              "    </tr>\n",
              "  </thead>\n",
              "  <tbody>\n",
              "    <tr>\n",
              "      <th>0</th>\n",
              "      <td>2f927c7cd42e</td>\n",
              "    </tr>\n",
              "    <tr>\n",
              "      <th>1</th>\n",
              "      <td>20c4908fd6cb</td>\n",
              "    </tr>\n",
              "    <tr>\n",
              "      <th>2</th>\n",
              "      <td>c8d828742879</td>\n",
              "    </tr>\n",
              "    <tr>\n",
              "      <th>3</th>\n",
              "      <td>2182883b7600</td>\n",
              "    </tr>\n",
              "    <tr>\n",
              "      <th>4</th>\n",
              "      <td>4e03febae7de</td>\n",
              "    </tr>\n",
              "  </tbody>\n",
              "</table>\n",
              "</div>"
            ],
            "text/plain": [
              "              0\n",
              "0  2f927c7cd42e\n",
              "1  20c4908fd6cb\n",
              "2  c8d828742879\n",
              "3  2182883b7600\n",
              "4  4e03febae7de"
            ]
          },
          "metadata": {
            "tags": []
          },
          "execution_count": 49
        }
      ]
    },
    {
      "cell_type": "code",
      "metadata": {
        "id": "I2l0zluUiG7U",
        "colab_type": "code",
        "colab": {
          "base_uri": "https://localhost:8080/",
          "height": 169
        },
        "outputId": "fd9667d8-2449-4e00-80c4-d46109cbc2ae"
      },
      "source": [
        "print(df_label.loc[df_label[\"customer_id\"]==\"2f927c7cd42e\"][\"is_returning_customer\"])\n",
        "print('--'*25)\n",
        "print('--'*25)\n",
        "df[df[\"customer_id\"]==\"2f927c7cd42e\"]"
      ],
      "execution_count": 54,
      "outputs": [
        {
          "output_type": "stream",
          "text": [
            "45896    1\n",
            "Name: is_returning_customer, dtype: int64\n",
            "--------------------------------------------------\n",
            "--------------------------------------------------\n"
          ],
          "name": "stdout"
        },
        {
          "output_type": "execute_result",
          "data": {
            "text/html": [
              "<div>\n",
              "<style scoped>\n",
              "    .dataframe tbody tr th:only-of-type {\n",
              "        vertical-align: middle;\n",
              "    }\n",
              "\n",
              "    .dataframe tbody tr th {\n",
              "        vertical-align: top;\n",
              "    }\n",
              "\n",
              "    .dataframe thead th {\n",
              "        text-align: right;\n",
              "    }\n",
              "</style>\n",
              "<table border=\"1\" class=\"dataframe\">\n",
              "  <thead>\n",
              "    <tr style=\"text-align: right;\">\n",
              "      <th></th>\n",
              "      <th>customer_id</th>\n",
              "      <th>order_date</th>\n",
              "      <th>order_hour</th>\n",
              "      <th>customer_order_rank</th>\n",
              "      <th>is_failed</th>\n",
              "      <th>voucher_amount</th>\n",
              "      <th>delivery_fee</th>\n",
              "      <th>amount_paid</th>\n",
              "      <th>restaurant_id</th>\n",
              "      <th>city_id</th>\n",
              "      <th>payment_id</th>\n",
              "      <th>platform_id</th>\n",
              "      <th>transmission_id</th>\n",
              "    </tr>\n",
              "  </thead>\n",
              "  <tbody>\n",
              "    <tr>\n",
              "      <th>148570</th>\n",
              "      <td>2f927c7cd42e</td>\n",
              "      <td>2016-05-20</td>\n",
              "      <td>21</td>\n",
              "      <td>NaN</td>\n",
              "      <td>1</td>\n",
              "      <td>0.0</td>\n",
              "      <td>0.986</td>\n",
              "      <td>9.6111</td>\n",
              "      <td>187213498</td>\n",
              "      <td>39335</td>\n",
              "      <td>1619</td>\n",
              "      <td>30359</td>\n",
              "      <td>4228</td>\n",
              "    </tr>\n",
              "  </tbody>\n",
              "</table>\n",
              "</div>"
            ],
            "text/plain": [
              "         customer_id  order_date  order_hour  customer_order_rank  is_failed  \\\n",
              "148570  2f927c7cd42e  2016-05-20          21             NaN               1   \n",
              "\n",
              "        voucher_amount  delivery_fee  amount_paid  restaurant_id  city_id  \\\n",
              "148570             0.0         0.986       9.6111      187213498    39335   \n",
              "\n",
              "        payment_id  platform_id  transmission_id  \n",
              "148570        1619        30359            4228   "
            ]
          },
          "metadata": {
            "tags": []
          },
          "execution_count": 54
        }
      ]
    },
    {
      "cell_type": "markdown",
      "metadata": {
        "id": "DqkaJgEkictM",
        "colab_type": "text"
      },
      "source": [
        "* We can see customer_id \"2f927c7cd42e\" has **1 failed order in May 2016, but still returning in 2017**."
      ]
    },
    {
      "cell_type": "markdown",
      "metadata": {
        "id": "pIyXTtclipSr",
        "colab_type": "text"
      },
      "source": [
        "* This is pretty strange that customers having only failed orders are returning in next 6 months.\n",
        "\n",
        "* In future, want to analyze the cohort:\n",
        "         1.what are their first order date, last order date\n",
        "         2.Is the data correct\n",
        "         3.Want to understand how customer_id is generated ?\n",
        "\n",
        "There can be 2 approaches:\n",
        "1. Exclude the failed ones and build model with successful ones to avoid feeding any misinformation and also bias.\n",
        "2. Include the failed orders and assume the amount, voucher and other features normal as successful ones.\n",
        "\n",
        "For 2nd approach it needs proper analysis, an extra pipeline to process/ transform data and also cross-check the accuracy or impact of this on the model.\n",
        "* For now, keeping an eye on time-constraint I will exclude these 518 records."
      ]
    },
    {
      "cell_type": "markdown",
      "metadata": {
        "id": "UFMz2VXHjxZF",
        "colab_type": "text"
      },
      "source": [
        "4. Common order hour\n",
        "5. Number of successful orders\n",
        "7. Average voucher amount used\n",
        "8. Average delivery fee paid\n",
        "9. Average amount paid\n",
        "10. Customer has ordered from how many unique number of restaurants\n",
        "11. Customer has ordered from how many unique number of cities\n",
        "12. Customer has used how many unique number of payment_id\n",
        "13. Customer has ordered from how many unique number of platforms\n",
        "14. Customer has used how many unique number of transmission_id"
      ]
    },
    {
      "cell_type": "code",
      "metadata": {
        "id": "MGysj4eNkFhN",
        "colab_type": "code",
        "colab": {
          "base_uri": "https://localhost:8080/",
          "height": 222
        },
        "outputId": "1af762f5-4ab0-40e8-ad5a-4479563328a5"
      },
      "source": [
        "df_grp_agg = df_ftr_crtn.groupby('customer_id').agg({'order_hour' : lambda x:x.value_counts().index[0], \n",
        "                         'customer_order_rank' : 'count', \n",
        "                         'voucher_amount' : 'mean',\n",
        "                         'delivery_fee' : 'mean',\n",
        "                         'amount_paid' : 'mean',\n",
        "                         'restaurant_id' : lambda x:x.nunique(),\n",
        "                         'city_id' : lambda x:x.nunique(),\n",
        "                         'payment_id' : lambda x:x.nunique(),\n",
        "                         'platform_id' : lambda x:x.nunique(),\n",
        "                         'transmission_id' : lambda x:x.nunique()})\n",
        "df_grp_agg = df_grp_agg.reset_index()\n",
        "df_grp_agg.rename(columns={\"order_hour\": \"comm_orderhour\", \"customer_order_rank\": \"num_success_order\",\n",
        "                           \"voucher_amount\": \"avg_voucher_amnt\", \"delivery_fee\": \"avg_deliveryfee\",\n",
        "                           \"amount_paid\": \"avg_amount\", \"restaurant_id\": \"num_restaurant\",\n",
        "                           \"city_id\" : \"num_city\", \"payment_id\" : \"num_paymentid\",\n",
        "                           \"platform_id\" : \"num_platform\", \"transmission_id\" : \"num_transmission\"}, inplace=True)\n",
        "df_grp_agg.tail()"
      ],
      "execution_count": 55,
      "outputs": [
        {
          "output_type": "execute_result",
          "data": {
            "text/html": [
              "<div>\n",
              "<style scoped>\n",
              "    .dataframe tbody tr th:only-of-type {\n",
              "        vertical-align: middle;\n",
              "    }\n",
              "\n",
              "    .dataframe tbody tr th {\n",
              "        vertical-align: top;\n",
              "    }\n",
              "\n",
              "    .dataframe thead th {\n",
              "        text-align: right;\n",
              "    }\n",
              "</style>\n",
              "<table border=\"1\" class=\"dataframe\">\n",
              "  <thead>\n",
              "    <tr style=\"text-align: right;\">\n",
              "      <th></th>\n",
              "      <th>customer_id</th>\n",
              "      <th>comm_orderhour</th>\n",
              "      <th>num_success_order</th>\n",
              "      <th>avg_voucher_amnt</th>\n",
              "      <th>avg_deliveryfee</th>\n",
              "      <th>avg_amount</th>\n",
              "      <th>num_restaurant</th>\n",
              "      <th>num_city</th>\n",
              "      <th>num_paymentid</th>\n",
              "      <th>num_platform</th>\n",
              "      <th>num_transmission</th>\n",
              "    </tr>\n",
              "  </thead>\n",
              "  <tbody>\n",
              "    <tr>\n",
              "      <th>244932</th>\n",
              "      <td>fffd696eaedd</td>\n",
              "      <td>12</td>\n",
              "      <td>1</td>\n",
              "      <td>0.0</td>\n",
              "      <td>1.4297</td>\n",
              "      <td>24.13395</td>\n",
              "      <td>1</td>\n",
              "      <td>1</td>\n",
              "      <td>1</td>\n",
              "      <td>1</td>\n",
              "      <td>1</td>\n",
              "    </tr>\n",
              "    <tr>\n",
              "      <th>244933</th>\n",
              "      <td>fffe9d5a8d41</td>\n",
              "      <td>20</td>\n",
              "      <td>1</td>\n",
              "      <td>0.0</td>\n",
              "      <td>0.0000</td>\n",
              "      <td>10.72620</td>\n",
              "      <td>1</td>\n",
              "      <td>1</td>\n",
              "      <td>1</td>\n",
              "      <td>1</td>\n",
              "      <td>1</td>\n",
              "    </tr>\n",
              "    <tr>\n",
              "      <th>244934</th>\n",
              "      <td>ffff347c3cfa</td>\n",
              "      <td>21</td>\n",
              "      <td>2</td>\n",
              "      <td>0.0</td>\n",
              "      <td>0.0000</td>\n",
              "      <td>6.77025</td>\n",
              "      <td>2</td>\n",
              "      <td>1</td>\n",
              "      <td>1</td>\n",
              "      <td>1</td>\n",
              "      <td>1</td>\n",
              "    </tr>\n",
              "    <tr>\n",
              "      <th>244935</th>\n",
              "      <td>ffff4519b52d</td>\n",
              "      <td>19</td>\n",
              "      <td>1</td>\n",
              "      <td>0.0</td>\n",
              "      <td>0.0000</td>\n",
              "      <td>21.77100</td>\n",
              "      <td>1</td>\n",
              "      <td>1</td>\n",
              "      <td>1</td>\n",
              "      <td>1</td>\n",
              "      <td>1</td>\n",
              "    </tr>\n",
              "    <tr>\n",
              "      <th>244936</th>\n",
              "      <td>ffffccbfc8a4</td>\n",
              "      <td>20</td>\n",
              "      <td>1</td>\n",
              "      <td>0.0</td>\n",
              "      <td>0.0000</td>\n",
              "      <td>16.46100</td>\n",
              "      <td>1</td>\n",
              "      <td>1</td>\n",
              "      <td>1</td>\n",
              "      <td>1</td>\n",
              "      <td>1</td>\n",
              "    </tr>\n",
              "  </tbody>\n",
              "</table>\n",
              "</div>"
            ],
            "text/plain": [
              "         customer_id  comm_orderhour  num_success_order  avg_voucher_amnt  \\\n",
              "244932  fffd696eaedd              12               1                0.0     \n",
              "244933  fffe9d5a8d41              20               1                0.0     \n",
              "244934  ffff347c3cfa              21               2                0.0     \n",
              "244935  ffff4519b52d              19               1                0.0     \n",
              "244936  ffffccbfc8a4              20               1                0.0     \n",
              "\n",
              "        avg_deliveryfee  avg_amount  num_restaurant  num_city  num_paymentid  \\\n",
              "244932          1.4297     24.13395               1         1              1   \n",
              "244933          0.0000     10.72620               1         1              1   \n",
              "244934          0.0000      6.77025               2         1              1   \n",
              "244935          0.0000     21.77100               1         1              1   \n",
              "244936          0.0000     16.46100               1         1              1   \n",
              "\n",
              "        num_platform  num_transmission  \n",
              "244932             1               1    \n",
              "244933             1               1    \n",
              "244934             1               1    \n",
              "244935             1               1    \n",
              "244936             1               1    "
            ]
          },
          "metadata": {
            "tags": []
          },
          "execution_count": 55
        }
      ]
    },
    {
      "cell_type": "code",
      "metadata": {
        "id": "XPuAG8N-d6gG",
        "colab_type": "code",
        "colab": {
          "base_uri": "https://localhost:8080/",
          "height": 130
        },
        "outputId": "484bbf39-ec8e-4e37-b5d7-026c3bbff40e"
      },
      "source": [
        "# Cross check aggregation for 1 customer\n",
        "\n",
        "df_ftr_crtn.loc[df_ftr_crtn[\"customer_id\"]==\"ffff347c3cfa\"]"
      ],
      "execution_count": 56,
      "outputs": [
        {
          "output_type": "execute_result",
          "data": {
            "text/html": [
              "<div>\n",
              "<style scoped>\n",
              "    .dataframe tbody tr th:only-of-type {\n",
              "        vertical-align: middle;\n",
              "    }\n",
              "\n",
              "    .dataframe tbody tr th {\n",
              "        vertical-align: top;\n",
              "    }\n",
              "\n",
              "    .dataframe thead th {\n",
              "        text-align: right;\n",
              "    }\n",
              "</style>\n",
              "<table border=\"1\" class=\"dataframe\">\n",
              "  <thead>\n",
              "    <tr style=\"text-align: right;\">\n",
              "      <th></th>\n",
              "      <th>customer_id</th>\n",
              "      <th>order_date</th>\n",
              "      <th>order_hour</th>\n",
              "      <th>customer_order_rank</th>\n",
              "      <th>is_failed</th>\n",
              "      <th>voucher_amount</th>\n",
              "      <th>delivery_fee</th>\n",
              "      <th>amount_paid</th>\n",
              "      <th>restaurant_id</th>\n",
              "      <th>city_id</th>\n",
              "      <th>payment_id</th>\n",
              "      <th>platform_id</th>\n",
              "      <th>transmission_id</th>\n",
              "    </tr>\n",
              "  </thead>\n",
              "  <tbody>\n",
              "    <tr>\n",
              "      <th>786596</th>\n",
              "      <td>ffff347c3cfa</td>\n",
              "      <td>2016-08-17</td>\n",
              "      <td>21</td>\n",
              "      <td>1.0</td>\n",
              "      <td>0</td>\n",
              "      <td>0.0</td>\n",
              "      <td>0.0</td>\n",
              "      <td>7.5933</td>\n",
              "      <td>52893498</td>\n",
              "      <td>41978</td>\n",
              "      <td>1619</td>\n",
              "      <td>30359</td>\n",
              "      <td>4356</td>\n",
              "    </tr>\n",
              "    <tr>\n",
              "      <th>786597</th>\n",
              "      <td>ffff347c3cfa</td>\n",
              "      <td>2016-09-15</td>\n",
              "      <td>21</td>\n",
              "      <td>2.0</td>\n",
              "      <td>0</td>\n",
              "      <td>0.0</td>\n",
              "      <td>0.0</td>\n",
              "      <td>5.9472</td>\n",
              "      <td>164653498</td>\n",
              "      <td>41978</td>\n",
              "      <td>1619</td>\n",
              "      <td>30359</td>\n",
              "      <td>4356</td>\n",
              "    </tr>\n",
              "  </tbody>\n",
              "</table>\n",
              "</div>"
            ],
            "text/plain": [
              "         customer_id order_date  order_hour  customer_order_rank  is_failed  \\\n",
              "786596  ffff347c3cfa 2016-08-17          21             1.0               0   \n",
              "786597  ffff347c3cfa 2016-09-15          21             2.0               0   \n",
              "\n",
              "        voucher_amount  delivery_fee  amount_paid  restaurant_id  city_id  \\\n",
              "786596             0.0           0.0       7.5933       52893498    41978   \n",
              "786597             0.0           0.0       5.9472      164653498    41978   \n",
              "\n",
              "        payment_id  platform_id  transmission_id  \n",
              "786596        1619        30359            4356   \n",
              "786597        1619        30359            4356   "
            ]
          },
          "metadata": {
            "tags": []
          },
          "execution_count": 56
        }
      ]
    },
    {
      "cell_type": "markdown",
      "metadata": {
        "id": "7Bt_cap_llUD",
        "colab_type": "text"
      },
      "source": [
        "* Aggregation looks good"
      ]
    },
    {
      "cell_type": "markdown",
      "metadata": {
        "id": "wLnb0zgYmIH0",
        "colab_type": "text"
      },
      "source": [
        "15. Has customer used any voucher\n",
        "16. Has customer paid any delivery fee\n",
        "17. Has customer paid any amount ever"
      ]
    },
    {
      "cell_type": "code",
      "metadata": {
        "id": "qWWlRVqwleDl",
        "colab_type": "code",
        "colab": {}
      },
      "source": [
        "# % Voucher used vs not used\n",
        "df_ftr_crtn[\"is_voucher\"] = np.where((df_ftr_crtn[\"voucher_amount\"]==0), \"0\", df_ftr_crtn[\"voucher_amount\"])\n",
        "df_ftr_crtn[\"is_voucher\"] = np.where((df_ftr_crtn[\"voucher_amount\"]!=0), \"1\", df_ftr_crtn[\"is_voucher\"])\n",
        "\n",
        "# Delivery fee charged or not ?\n",
        "df_ftr_crtn[\"is_deliveryfee\"] = np.where((df_ftr_crtn[\"delivery_fee\"]==0), \"0\", df_ftr_crtn[\"delivery_fee\"])\n",
        "df_ftr_crtn[\"is_deliveryfee\"] = np.where((df_ftr_crtn[\"delivery_fee\"]!=0), \"1\", df_ftr_crtn[\"is_deliveryfee\"])\n",
        "\n",
        "# Customers who have never paid\n",
        "df_ftr_crtn[\"is_amount\"] = np.where((df_ftr_crtn[\"amount_paid\"]==0), \"0\", df_ftr_crtn[\"amount_paid\"])\n",
        "df_ftr_crtn[\"is_amount\"] = np.where((df_ftr_crtn[\"amount_paid\"]!=0), \"1\", df_ftr_crtn[\"is_amount\"])"
      ],
      "execution_count": 57,
      "outputs": []
    },
    {
      "cell_type": "markdown",
      "metadata": {
        "id": "NCwzvaYtnvTg",
        "colab_type": "text"
      },
      "source": [
        "18. What is the order % distribution according to day-time"
      ]
    },
    {
      "cell_type": "code",
      "metadata": {
        "id": "YFEl5NgamO8o",
        "colab_type": "code",
        "colab": {
          "base_uri": "https://localhost:8080/",
          "height": 253
        },
        "outputId": "4f1e30c4-04de-44a0-d3bc-41d54a455364"
      },
      "source": [
        "# Create new column for order daytime and define various day-time values\n",
        "df_ftr_crtn[\"order_daytime\"] = np.where((df_ftr_crtn[\"order_hour\"]>=0)&(df_ftr_crtn[\"order_hour\"]<3), \"order_late_night\", df_ftr_crtn[\"order_hour\"])\n",
        "df_ftr_crtn[\"order_daytime\"] = np.where((df_ftr_crtn[\"order_hour\"]>=3)&(df_ftr_crtn[\"order_hour\"]<6), \"order_early_morning\", df_ftr_crtn[\"order_daytime\"])\n",
        "df_ftr_crtn[\"order_daytime\"] = np.where((df_ftr_crtn[\"order_hour\"]>=6)&(df_ftr_crtn[\"order_hour\"]<=12), \"order_morning\", df_ftr_crtn[\"order_daytime\"])\n",
        "df_ftr_crtn[\"order_daytime\"] = np.where((df_ftr_crtn[\"order_hour\"]>12)&(df_ftr_crtn[\"order_hour\"]<17), \"order_afternoon\", df_ftr_crtn[\"order_daytime\"])\n",
        "df_ftr_crtn[\"order_daytime\"] = np.where((df_ftr_crtn[\"order_hour\"]>=17)&(df_ftr_crtn[\"order_hour\"]<21), \"order_evening\", df_ftr_crtn[\"order_daytime\"])\n",
        "df_ftr_crtn[\"order_daytime\"] = np.where((df_ftr_crtn[\"order_hour\"]>=21)&(df_ftr_crtn[\"order_hour\"]<=23), \"order_night\", df_ftr_crtn[\"order_daytime\"])\n",
        "\n",
        "# % distribution of orders in different day-time\n",
        "order_daytime_grp = df_ftr_crtn.groupby([\"customer_id\", \"order_daytime\"]).agg({\"order_daytime\": \"count\"})\n",
        "order_daytime_pct = order_daytime_grp.groupby(level=0).apply(lambda x:\n",
        "                                                 round(100 * x / float(x.sum()),2))\n",
        "order_daytime_pct.rename(columns={\"order_daytime\": \"order_daytime_pct\"}, inplace=True)\n",
        "order_daytime = order_daytime_pct.reset_index()\n",
        "df_order_daytime = pd.DataFrame(order_daytime.pivot(index=\"customer_id\", columns=\"order_daytime\", values=\"order_daytime_pct\"))\n",
        "df_order_daytime.reset_index()\n",
        "df_order_daytime = df_order_daytime.fillna(0)\n",
        "df_order_daytime = df_order_daytime.apply(pd.to_numeric)\n",
        "df_order_daytime.head()"
      ],
      "execution_count": 58,
      "outputs": [
        {
          "output_type": "execute_result",
          "data": {
            "text/html": [
              "<div>\n",
              "<style scoped>\n",
              "    .dataframe tbody tr th:only-of-type {\n",
              "        vertical-align: middle;\n",
              "    }\n",
              "\n",
              "    .dataframe tbody tr th {\n",
              "        vertical-align: top;\n",
              "    }\n",
              "\n",
              "    .dataframe thead th {\n",
              "        text-align: right;\n",
              "    }\n",
              "</style>\n",
              "<table border=\"1\" class=\"dataframe\">\n",
              "  <thead>\n",
              "    <tr style=\"text-align: right;\">\n",
              "      <th>order_daytime</th>\n",
              "      <th>order_afternoon</th>\n",
              "      <th>order_early_morning</th>\n",
              "      <th>order_evening</th>\n",
              "      <th>order_late_night</th>\n",
              "      <th>order_morning</th>\n",
              "      <th>order_night</th>\n",
              "    </tr>\n",
              "    <tr>\n",
              "      <th>customer_id</th>\n",
              "      <th></th>\n",
              "      <th></th>\n",
              "      <th></th>\n",
              "      <th></th>\n",
              "      <th></th>\n",
              "      <th></th>\n",
              "    </tr>\n",
              "  </thead>\n",
              "  <tbody>\n",
              "    <tr>\n",
              "      <th>000097eabfd9</th>\n",
              "      <td>0.0</td>\n",
              "      <td>0.0</td>\n",
              "      <td>100.0</td>\n",
              "      <td>0.0</td>\n",
              "      <td>0.0</td>\n",
              "      <td>0.0</td>\n",
              "    </tr>\n",
              "    <tr>\n",
              "      <th>0000e2c6d9be</th>\n",
              "      <td>0.0</td>\n",
              "      <td>0.0</td>\n",
              "      <td>100.0</td>\n",
              "      <td>0.0</td>\n",
              "      <td>0.0</td>\n",
              "      <td>0.0</td>\n",
              "    </tr>\n",
              "    <tr>\n",
              "      <th>000133bb597f</th>\n",
              "      <td>0.0</td>\n",
              "      <td>0.0</td>\n",
              "      <td>100.0</td>\n",
              "      <td>0.0</td>\n",
              "      <td>0.0</td>\n",
              "      <td>0.0</td>\n",
              "    </tr>\n",
              "    <tr>\n",
              "      <th>00018269939b</th>\n",
              "      <td>0.0</td>\n",
              "      <td>0.0</td>\n",
              "      <td>100.0</td>\n",
              "      <td>0.0</td>\n",
              "      <td>0.0</td>\n",
              "      <td>0.0</td>\n",
              "    </tr>\n",
              "    <tr>\n",
              "      <th>0001a00468a6</th>\n",
              "      <td>0.0</td>\n",
              "      <td>0.0</td>\n",
              "      <td>100.0</td>\n",
              "      <td>0.0</td>\n",
              "      <td>0.0</td>\n",
              "      <td>0.0</td>\n",
              "    </tr>\n",
              "  </tbody>\n",
              "</table>\n",
              "</div>"
            ],
            "text/plain": [
              "order_daytime  order_afternoon  order_early_morning  order_evening  \\\n",
              "customer_id                                                          \n",
              "000097eabfd9              0.0              0.0               100.0   \n",
              "0000e2c6d9be              0.0              0.0               100.0   \n",
              "000133bb597f              0.0              0.0               100.0   \n",
              "00018269939b              0.0              0.0               100.0   \n",
              "0001a00468a6              0.0              0.0               100.0   \n",
              "\n",
              "order_daytime  order_late_night  order_morning  order_night  \n",
              "customer_id                                                  \n",
              "000097eabfd9              0.0              0.0          0.0  \n",
              "0000e2c6d9be              0.0              0.0          0.0  \n",
              "000133bb597f              0.0              0.0          0.0  \n",
              "00018269939b              0.0              0.0          0.0  \n",
              "0001a00468a6              0.0              0.0          0.0  "
            ]
          },
          "metadata": {
            "tags": []
          },
          "execution_count": 58
        }
      ]
    },
    {
      "cell_type": "code",
      "metadata": {
        "id": "6PANG5dvrHru",
        "colab_type": "code",
        "colab": {
          "base_uri": "https://localhost:8080/",
          "height": 253
        },
        "outputId": "e9504d10-2630-48a3-9370-48cabb19520f"
      },
      "source": [
        "# Sample record where orders are present in the early morning\n",
        "\n",
        "df_order_daytime.loc[df_order_daytime[\"order_early_morning\"]!=0].head()"
      ],
      "execution_count": 60,
      "outputs": [
        {
          "output_type": "execute_result",
          "data": {
            "text/html": [
              "<div>\n",
              "<style scoped>\n",
              "    .dataframe tbody tr th:only-of-type {\n",
              "        vertical-align: middle;\n",
              "    }\n",
              "\n",
              "    .dataframe tbody tr th {\n",
              "        vertical-align: top;\n",
              "    }\n",
              "\n",
              "    .dataframe thead th {\n",
              "        text-align: right;\n",
              "    }\n",
              "</style>\n",
              "<table border=\"1\" class=\"dataframe\">\n",
              "  <thead>\n",
              "    <tr style=\"text-align: right;\">\n",
              "      <th>order_daytime</th>\n",
              "      <th>order_afternoon</th>\n",
              "      <th>order_early_morning</th>\n",
              "      <th>order_evening</th>\n",
              "      <th>order_late_night</th>\n",
              "      <th>order_morning</th>\n",
              "      <th>order_night</th>\n",
              "    </tr>\n",
              "    <tr>\n",
              "      <th>customer_id</th>\n",
              "      <th></th>\n",
              "      <th></th>\n",
              "      <th></th>\n",
              "      <th></th>\n",
              "      <th></th>\n",
              "      <th></th>\n",
              "    </tr>\n",
              "  </thead>\n",
              "  <tbody>\n",
              "    <tr>\n",
              "      <th>00066870ca92</th>\n",
              "      <td>40.74</td>\n",
              "      <td>3.70</td>\n",
              "      <td>25.93</td>\n",
              "      <td>3.70</td>\n",
              "      <td>0.00</td>\n",
              "      <td>25.93</td>\n",
              "    </tr>\n",
              "    <tr>\n",
              "      <th>005cdc3317ed</th>\n",
              "      <td>0.00</td>\n",
              "      <td>20.00</td>\n",
              "      <td>60.00</td>\n",
              "      <td>0.00</td>\n",
              "      <td>20.00</td>\n",
              "      <td>0.00</td>\n",
              "    </tr>\n",
              "    <tr>\n",
              "      <th>0078a56bd418</th>\n",
              "      <td>33.33</td>\n",
              "      <td>16.67</td>\n",
              "      <td>0.00</td>\n",
              "      <td>0.00</td>\n",
              "      <td>33.33</td>\n",
              "      <td>16.67</td>\n",
              "    </tr>\n",
              "    <tr>\n",
              "      <th>00efda6e39da</th>\n",
              "      <td>0.00</td>\n",
              "      <td>100.00</td>\n",
              "      <td>0.00</td>\n",
              "      <td>0.00</td>\n",
              "      <td>0.00</td>\n",
              "      <td>0.00</td>\n",
              "    </tr>\n",
              "    <tr>\n",
              "      <th>01476b72cfa9</th>\n",
              "      <td>10.42</td>\n",
              "      <td>12.50</td>\n",
              "      <td>20.83</td>\n",
              "      <td>4.17</td>\n",
              "      <td>39.58</td>\n",
              "      <td>12.50</td>\n",
              "    </tr>\n",
              "  </tbody>\n",
              "</table>\n",
              "</div>"
            ],
            "text/plain": [
              "order_daytime  order_afternoon  order_early_morning  order_evening  \\\n",
              "customer_id                                                          \n",
              "00066870ca92            40.74             3.70               25.93   \n",
              "005cdc3317ed             0.00            20.00               60.00   \n",
              "0078a56bd418            33.33            16.67                0.00   \n",
              "00efda6e39da             0.00           100.00                0.00   \n",
              "01476b72cfa9            10.42            12.50               20.83   \n",
              "\n",
              "order_daytime  order_late_night  order_morning  order_night  \n",
              "customer_id                                                  \n",
              "00066870ca92             3.70             0.00        25.93  \n",
              "005cdc3317ed             0.00            20.00         0.00  \n",
              "0078a56bd418             0.00            33.33        16.67  \n",
              "00efda6e39da             0.00             0.00         0.00  \n",
              "01476b72cfa9             4.17            39.58        12.50  "
            ]
          },
          "metadata": {
            "tags": []
          },
          "execution_count": 60
        }
      ]
    },
    {
      "cell_type": "code",
      "metadata": {
        "id": "R99nfV5JrrRe",
        "colab_type": "code",
        "colab": {
          "base_uri": "https://localhost:8080/",
          "height": 222
        },
        "outputId": "6b51993f-2ea2-422d-ab87-752f84cf0cb7"
      },
      "source": [
        "# Cross check the order day-time % calculation with 1 sample customer_id\n",
        "\n",
        "df_ftr_crtn.loc[df_ftr_crtn[\"customer_id\"]==\"005cdc3317ed\"]"
      ],
      "execution_count": 62,
      "outputs": [
        {
          "output_type": "execute_result",
          "data": {
            "text/html": [
              "<div>\n",
              "<style scoped>\n",
              "    .dataframe tbody tr th:only-of-type {\n",
              "        vertical-align: middle;\n",
              "    }\n",
              "\n",
              "    .dataframe tbody tr th {\n",
              "        vertical-align: top;\n",
              "    }\n",
              "\n",
              "    .dataframe thead th {\n",
              "        text-align: right;\n",
              "    }\n",
              "</style>\n",
              "<table border=\"1\" class=\"dataframe\">\n",
              "  <thead>\n",
              "    <tr style=\"text-align: right;\">\n",
              "      <th></th>\n",
              "      <th>customer_id</th>\n",
              "      <th>order_date</th>\n",
              "      <th>order_hour</th>\n",
              "      <th>customer_order_rank</th>\n",
              "      <th>is_failed</th>\n",
              "      <th>voucher_amount</th>\n",
              "      <th>delivery_fee</th>\n",
              "      <th>amount_paid</th>\n",
              "      <th>restaurant_id</th>\n",
              "      <th>city_id</th>\n",
              "      <th>payment_id</th>\n",
              "      <th>platform_id</th>\n",
              "      <th>transmission_id</th>\n",
              "      <th>is_voucher</th>\n",
              "      <th>is_deliveryfee</th>\n",
              "      <th>is_amount</th>\n",
              "      <th>order_daytime</th>\n",
              "    </tr>\n",
              "  </thead>\n",
              "  <tbody>\n",
              "    <tr>\n",
              "      <th>1258</th>\n",
              "      <td>005cdc3317ed</td>\n",
              "      <td>2016-04-17</td>\n",
              "      <td>19</td>\n",
              "      <td>1.0</td>\n",
              "      <td>0</td>\n",
              "      <td>0.0</td>\n",
              "      <td>0.000</td>\n",
              "      <td>10.46601</td>\n",
              "      <td>284543498</td>\n",
              "      <td>90633</td>\n",
              "      <td>1619</td>\n",
              "      <td>30231</td>\n",
              "      <td>4228</td>\n",
              "      <td>0</td>\n",
              "      <td>0</td>\n",
              "      <td>1</td>\n",
              "      <td>order_evening</td>\n",
              "    </tr>\n",
              "    <tr>\n",
              "      <th>1259</th>\n",
              "      <td>005cdc3317ed</td>\n",
              "      <td>2016-05-08</td>\n",
              "      <td>4</td>\n",
              "      <td>2.0</td>\n",
              "      <td>0</td>\n",
              "      <td>0.0</td>\n",
              "      <td>0.000</td>\n",
              "      <td>6.63750</td>\n",
              "      <td>136523498</td>\n",
              "      <td>90633</td>\n",
              "      <td>1619</td>\n",
              "      <td>30231</td>\n",
              "      <td>4356</td>\n",
              "      <td>0</td>\n",
              "      <td>0</td>\n",
              "      <td>1</td>\n",
              "      <td>order_early...</td>\n",
              "    </tr>\n",
              "    <tr>\n",
              "      <th>1260</th>\n",
              "      <td>005cdc3317ed</td>\n",
              "      <td>2016-11-10</td>\n",
              "      <td>19</td>\n",
              "      <td>3.0</td>\n",
              "      <td>0</td>\n",
              "      <td>0.0</td>\n",
              "      <td>0.000</td>\n",
              "      <td>18.05400</td>\n",
              "      <td>195753498</td>\n",
              "      <td>90633</td>\n",
              "      <td>1619</td>\n",
              "      <td>30231</td>\n",
              "      <td>4356</td>\n",
              "      <td>0</td>\n",
              "      <td>0</td>\n",
              "      <td>1</td>\n",
              "      <td>order_evening</td>\n",
              "    </tr>\n",
              "    <tr>\n",
              "      <th>1261</th>\n",
              "      <td>005cdc3317ed</td>\n",
              "      <td>2016-11-11</td>\n",
              "      <td>20</td>\n",
              "      <td>4.0</td>\n",
              "      <td>0</td>\n",
              "      <td>0.0</td>\n",
              "      <td>0.493</td>\n",
              "      <td>16.67340</td>\n",
              "      <td>32463498</td>\n",
              "      <td>90633</td>\n",
              "      <td>1619</td>\n",
              "      <td>30231</td>\n",
              "      <td>4324</td>\n",
              "      <td>0</td>\n",
              "      <td>1</td>\n",
              "      <td>1</td>\n",
              "      <td>order_evening</td>\n",
              "    </tr>\n",
              "    <tr>\n",
              "      <th>1262</th>\n",
              "      <td>005cdc3317ed</td>\n",
              "      <td>2017-01-21</td>\n",
              "      <td>12</td>\n",
              "      <td>5.0</td>\n",
              "      <td>0</td>\n",
              "      <td>0.0</td>\n",
              "      <td>0.000</td>\n",
              "      <td>23.47020</td>\n",
              "      <td>93173498</td>\n",
              "      <td>90633</td>\n",
              "      <td>1619</td>\n",
              "      <td>29463</td>\n",
              "      <td>4324</td>\n",
              "      <td>0</td>\n",
              "      <td>0</td>\n",
              "      <td>1</td>\n",
              "      <td>order_morning</td>\n",
              "    </tr>\n",
              "  </tbody>\n",
              "</table>\n",
              "</div>"
            ],
            "text/plain": [
              "       customer_id order_date  order_hour  customer_order_rank  is_failed  \\\n",
              "1258  005cdc3317ed 2016-04-17          19             1.0               0   \n",
              "1259  005cdc3317ed 2016-05-08           4             2.0               0   \n",
              "1260  005cdc3317ed 2016-11-10          19             3.0               0   \n",
              "1261  005cdc3317ed 2016-11-11          20             4.0               0   \n",
              "1262  005cdc3317ed 2017-01-21          12             5.0               0   \n",
              "\n",
              "      voucher_amount  delivery_fee  amount_paid  restaurant_id  city_id  \\\n",
              "1258             0.0         0.000     10.46601      284543498    90633   \n",
              "1259             0.0         0.000      6.63750      136523498    90633   \n",
              "1260             0.0         0.000     18.05400      195753498    90633   \n",
              "1261             0.0         0.493     16.67340       32463498    90633   \n",
              "1262             0.0         0.000     23.47020       93173498    90633   \n",
              "\n",
              "      payment_id  platform_id  transmission_id is_voucher is_deliveryfee  \\\n",
              "1258        1619        30231            4228           0              0   \n",
              "1259        1619        30231            4356           0              0   \n",
              "1260        1619        30231            4356           0              0   \n",
              "1261        1619        30231            4324           0              1   \n",
              "1262        1619        29463            4324           0              0   \n",
              "\n",
              "     is_amount   order_daytime  \n",
              "1258         1   order_evening  \n",
              "1259         1  order_early...  \n",
              "1260         1   order_evening  \n",
              "1261         1   order_evening  \n",
              "1262         1   order_morning  "
            ]
          },
          "metadata": {
            "tags": []
          },
          "execution_count": 62
        }
      ]
    },
    {
      "cell_type": "markdown",
      "metadata": {
        "id": "y5qBiBQcr9Vw",
        "colab_type": "text"
      },
      "source": [
        "* Calculation seems okay"
      ]
    },
    {
      "cell_type": "markdown",
      "metadata": {
        "id": "cXbrs7QNzSpW",
        "colab_type": "text"
      },
      "source": [
        "* Now order percentage distribution can be calculated based on restaurants, cities, payment method, platform, transmission methods\n",
        "* Need to check the number of unique values for each of these features"
      ]
    },
    {
      "cell_type": "code",
      "metadata": {
        "id": "fZNta1gIznrB",
        "colab_type": "code",
        "colab": {
          "base_uri": "https://localhost:8080/",
          "height": 35
        },
        "outputId": "cad42a85-9b1e-4009-b393-0c0acc0bfd30"
      },
      "source": [
        "# Number of unique restaurants, cities, payment_id, platform_id, transmission_id used in order\n",
        "\n",
        "print(df.restaurant_id.nunique(), df.city_id.nunique(), df.payment_id.nunique(), df.platform_id.nunique(), df.transmission_id.nunique())"
      ],
      "execution_count": 68,
      "outputs": [
        {
          "output_type": "stream",
          "text": [
            "13569 3749 5 14 10\n"
          ],
          "name": "stdout"
        }
      ]
    },
    {
      "cell_type": "markdown",
      "metadata": {
        "id": "QRUqU3Pgzpcp",
        "colab_type": "text"
      },
      "source": [
        "* **Restaurants** and **Cities** are having so many unique categories, so these 2 can't be used for further % calculation\n",
        "* Meanwhile **payment_id**, **platform_id** and **transmission_id** are having few unique categories, so these 3 can be used to calculate order % distribution."
      ]
    },
    {
      "cell_type": "markdown",
      "metadata": {
        "id": "cV517NHeoNKP",
        "colab_type": "text"
      },
      "source": [
        "19. Distribution of percentage of order according to unique payment_id\n",
        "20. Distribution of percentage of order according to unique platform_id\n",
        "21. Distribution of percentage of order according to unique transmission_id"
      ]
    },
    {
      "cell_type": "code",
      "metadata": {
        "id": "w31BeWZUsRSt",
        "colab_type": "code",
        "colab": {}
      },
      "source": [
        "# Create 3 datframes for order % distribution among unique categories for payment_id, platform_id and transmission_id\n",
        "\n",
        "df_payment_id = order_dist_perc_calc(df_ftr_crtn, \"customer_id\", \"payment_id\")\n",
        "df_platform_id = order_dist_perc_calc(df_ftr_crtn, \"customer_id\", \"platform_id\")\n",
        "df_transmission_id = order_dist_perc_calc(df_ftr_crtn, \"customer_id\", \"transmission_id\")"
      ],
      "execution_count": 64,
      "outputs": []
    },
    {
      "cell_type": "markdown",
      "metadata": {
        "id": "GX2dkwQO3MfV",
        "colab_type": "text"
      },
      "source": [
        "### 4.2 Join all independently created datasets"
      ]
    },
    {
      "cell_type": "markdown",
      "metadata": {
        "id": "DZ8NaY7A2xVq",
        "colab_type": "text"
      },
      "source": [
        "#### Below dataframes need to be joined for final data preparation\n",
        "1. df_ftr_crtn\n",
        "2. min_max_order_date\n",
        "3. num_fail_order\n",
        "4. df_grp_agg\n",
        "5. df_order_daytime\n",
        "6. df_payment_id\n",
        "7. df_platform_id\n",
        "8. df_transmission_id\n",
        "9. df_label (target table)"
      ]
    },
    {
      "cell_type": "code",
      "metadata": {
        "id": "Li9PMgdLo-TL",
        "colab_type": "code",
        "colab": {
          "base_uri": "https://localhost:8080/",
          "height": 121
        },
        "outputId": "679c507e-422c-4fc0-a3a0-46b44c2d6000"
      },
      "source": [
        "df_ftr_crtn.columns"
      ],
      "execution_count": 71,
      "outputs": [
        {
          "output_type": "execute_result",
          "data": {
            "text/plain": [
              "Index(['customer_id', 'order_date', 'order_hour', 'customer_order_rank',\n",
              "       'is_failed', 'voucher_amount', 'delivery_fee', 'amount_paid',\n",
              "       'restaurant_id', 'city_id', 'payment_id', 'platform_id',\n",
              "       'transmission_id', 'is_voucher', 'is_deliveryfee', 'is_amount',\n",
              "       'order_daytime'],\n",
              "      dtype='object')"
            ]
          },
          "metadata": {
            "tags": []
          },
          "execution_count": 71
        }
      ]
    },
    {
      "cell_type": "markdown",
      "metadata": {
        "id": "8YXYv2RC3bM9",
        "colab_type": "text"
      },
      "source": [
        "* Define base dataframe for all the joins"
      ]
    },
    {
      "cell_type": "code",
      "metadata": {
        "id": "LVvvlQzu3YvV",
        "colab_type": "code",
        "colab": {
          "base_uri": "https://localhost:8080/",
          "height": 127
        },
        "outputId": "2965471a-9916-4309-b5cb-8d2aeba4a21a"
      },
      "source": [
        "# Create the base dataframe for new features from df_ftr_crtn\n",
        "\n",
        "df_new_ftr = df_ftr_crtn.drop_duplicates(subset=\"customer_id\", keep=\"first\")[[\"customer_id\", \"is_voucher\", \n",
        "                                                                              \"is_deliveryfee\", \"is_amount\"]]\n",
        "print(df_new_ftr.shape)\n",
        "df_new_ftr.tail(2)"
      ],
      "execution_count": 72,
      "outputs": [
        {
          "output_type": "stream",
          "text": [
            "(244937, 4)\n"
          ],
          "name": "stdout"
        },
        {
          "output_type": "execute_result",
          "data": {
            "text/html": [
              "<div>\n",
              "<style scoped>\n",
              "    .dataframe tbody tr th:only-of-type {\n",
              "        vertical-align: middle;\n",
              "    }\n",
              "\n",
              "    .dataframe tbody tr th {\n",
              "        vertical-align: top;\n",
              "    }\n",
              "\n",
              "    .dataframe thead th {\n",
              "        text-align: right;\n",
              "    }\n",
              "</style>\n",
              "<table border=\"1\" class=\"dataframe\">\n",
              "  <thead>\n",
              "    <tr style=\"text-align: right;\">\n",
              "      <th></th>\n",
              "      <th>customer_id</th>\n",
              "      <th>is_voucher</th>\n",
              "      <th>is_deliveryfee</th>\n",
              "      <th>is_amount</th>\n",
              "    </tr>\n",
              "  </thead>\n",
              "  <tbody>\n",
              "    <tr>\n",
              "      <th>786598</th>\n",
              "      <td>ffff4519b52d</td>\n",
              "      <td>0</td>\n",
              "      <td>0</td>\n",
              "      <td>1</td>\n",
              "    </tr>\n",
              "    <tr>\n",
              "      <th>786599</th>\n",
              "      <td>ffffccbfc8a4</td>\n",
              "      <td>0</td>\n",
              "      <td>0</td>\n",
              "      <td>1</td>\n",
              "    </tr>\n",
              "  </tbody>\n",
              "</table>\n",
              "</div>"
            ],
            "text/plain": [
              "         customer_id is_voucher is_deliveryfee is_amount\n",
              "786598  ffff4519b52d          0              0         1\n",
              "786599  ffffccbfc8a4          0              0         1"
            ]
          },
          "metadata": {
            "tags": []
          },
          "execution_count": 72
        }
      ]
    },
    {
      "cell_type": "code",
      "metadata": {
        "id": "eDyoilgQ3geP",
        "colab_type": "code",
        "colab": {
          "base_uri": "https://localhost:8080/",
          "height": 182
        },
        "outputId": "9437af4d-bc82-4d10-d102-c992354d5631"
      },
      "source": [
        "# Left join all the tables with base table (df_new_ftr)\n",
        "%time\n",
        "\n",
        "df_new_ftr =  df_new_ftr.merge(min_max_order_date, on='customer_id', how='left').merge(num_fail_order, on='customer_id', how='left')\n",
        "df_new_ftr =  df_new_ftr.merge(df_grp_agg, on='customer_id', how='left').merge(df_order_daytime, on='customer_id', how='left')\n",
        "df_new_ftr =  df_new_ftr.merge(df_payment_id, on='customer_id', how='left').merge(df_platform_id, on='customer_id', how='left').merge(df_transmission_id, on='customer_id', how='left')\n",
        "df_new_ftr =  df_new_ftr.merge(df_label, on='customer_id', how='left')\n",
        "print(df_new_ftr.shape)\n",
        "df_new_ftr.tail(2)"
      ],
      "execution_count": 73,
      "outputs": [
        {
          "output_type": "stream",
          "text": [
            "CPU times: user 2 µs, sys: 0 ns, total: 2 µs\n",
            "Wall time: 5.01 µs\n",
            "(244937, 55)\n"
          ],
          "name": "stdout"
        },
        {
          "output_type": "execute_result",
          "data": {
            "text/html": [
              "<div>\n",
              "<style scoped>\n",
              "    .dataframe tbody tr th:only-of-type {\n",
              "        vertical-align: middle;\n",
              "    }\n",
              "\n",
              "    .dataframe tbody tr th {\n",
              "        vertical-align: top;\n",
              "    }\n",
              "\n",
              "    .dataframe thead th {\n",
              "        text-align: right;\n",
              "    }\n",
              "</style>\n",
              "<table border=\"1\" class=\"dataframe\">\n",
              "  <thead>\n",
              "    <tr style=\"text-align: right;\">\n",
              "      <th></th>\n",
              "      <th>customer_id</th>\n",
              "      <th>is_voucher</th>\n",
              "      <th>is_deliveryfee</th>\n",
              "      <th>is_amount</th>\n",
              "      <th>first_order_date</th>\n",
              "      <th>last_order_date</th>\n",
              "      <th>first_order_before</th>\n",
              "      <th>last_order_before</th>\n",
              "      <th>cntns_order_period</th>\n",
              "      <th>num_fail_order</th>\n",
              "      <th>comm_orderhour</th>\n",
              "      <th>num_success_order</th>\n",
              "      <th>avg_voucher_amnt</th>\n",
              "      <th>avg_deliveryfee</th>\n",
              "      <th>avg_amount</th>\n",
              "      <th>num_restaurant</th>\n",
              "      <th>num_city</th>\n",
              "      <th>num_paymentid</th>\n",
              "      <th>num_platform</th>\n",
              "      <th>num_transmission</th>\n",
              "      <th>order_afternoon</th>\n",
              "      <th>order_early_morning</th>\n",
              "      <th>order_evening</th>\n",
              "      <th>order_late_night</th>\n",
              "      <th>order_morning</th>\n",
              "      <th>order_night</th>\n",
              "      <th>payment_id_1491</th>\n",
              "      <th>payment_id_1523</th>\n",
              "      <th>payment_id_1619</th>\n",
              "      <th>payment_id_1779</th>\n",
              "      <th>payment_id_1811</th>\n",
              "      <th>platform_id_525</th>\n",
              "      <th>platform_id_22167</th>\n",
              "      <th>platform_id_22263</th>\n",
              "      <th>platform_id_22295</th>\n",
              "      <th>platform_id_29463</th>\n",
              "      <th>platform_id_29495</th>\n",
              "      <th>platform_id_29751</th>\n",
              "      <th>platform_id_29815</th>\n",
              "      <th>platform_id_30135</th>\n",
              "      <th>platform_id_30199</th>\n",
              "      <th>platform_id_30231</th>\n",
              "      <th>platform_id_30359</th>\n",
              "      <th>platform_id_30391</th>\n",
              "      <th>platform_id_30423</th>\n",
              "      <th>transmission_id_212</th>\n",
              "      <th>transmission_id_1988</th>\n",
              "      <th>transmission_id_4196</th>\n",
              "      <th>transmission_id_4228</th>\n",
              "      <th>transmission_id_4260</th>\n",
              "      <th>transmission_id_4324</th>\n",
              "      <th>transmission_id_4356</th>\n",
              "      <th>transmission_id_4996</th>\n",
              "      <th>transmission_id_21124</th>\n",
              "      <th>is_returning_customer</th>\n",
              "    </tr>\n",
              "  </thead>\n",
              "  <tbody>\n",
              "    <tr>\n",
              "      <th>244935</th>\n",
              "      <td>ffff4519b52d</td>\n",
              "      <td>0</td>\n",
              "      <td>0</td>\n",
              "      <td>1</td>\n",
              "      <td>2016-04-02</td>\n",
              "      <td>2016-04-02</td>\n",
              "      <td>333</td>\n",
              "      <td>333</td>\n",
              "      <td>1</td>\n",
              "      <td>0</td>\n",
              "      <td>19</td>\n",
              "      <td>1</td>\n",
              "      <td>0.0</td>\n",
              "      <td>0.0</td>\n",
              "      <td>21.771</td>\n",
              "      <td>1</td>\n",
              "      <td>1</td>\n",
              "      <td>1</td>\n",
              "      <td>1</td>\n",
              "      <td>1</td>\n",
              "      <td>0.0</td>\n",
              "      <td>0.0</td>\n",
              "      <td>100.0</td>\n",
              "      <td>0.0</td>\n",
              "      <td>0.0</td>\n",
              "      <td>0.0</td>\n",
              "      <td>100.0</td>\n",
              "      <td>0.0</td>\n",
              "      <td>0.0</td>\n",
              "      <td>0.0</td>\n",
              "      <td>0.0</td>\n",
              "      <td>0.0</td>\n",
              "      <td>0.0</td>\n",
              "      <td>0.0</td>\n",
              "      <td>0.0</td>\n",
              "      <td>0.0</td>\n",
              "      <td>0.0</td>\n",
              "      <td>100.0</td>\n",
              "      <td>0.0</td>\n",
              "      <td>0.0</td>\n",
              "      <td>0.0</td>\n",
              "      <td>0.0</td>\n",
              "      <td>0.0</td>\n",
              "      <td>0.0</td>\n",
              "      <td>0.0</td>\n",
              "      <td>0.0</td>\n",
              "      <td>0.0</td>\n",
              "      <td>0.0</td>\n",
              "      <td>100.0</td>\n",
              "      <td>0.0</td>\n",
              "      <td>0.0</td>\n",
              "      <td>0.0</td>\n",
              "      <td>0.0</td>\n",
              "      <td>0.0</td>\n",
              "      <td>0</td>\n",
              "    </tr>\n",
              "    <tr>\n",
              "      <th>244936</th>\n",
              "      <td>ffffccbfc8a4</td>\n",
              "      <td>0</td>\n",
              "      <td>0</td>\n",
              "      <td>1</td>\n",
              "      <td>2015-05-30</td>\n",
              "      <td>2015-05-30</td>\n",
              "      <td>641</td>\n",
              "      <td>641</td>\n",
              "      <td>1</td>\n",
              "      <td>0</td>\n",
              "      <td>20</td>\n",
              "      <td>1</td>\n",
              "      <td>0.0</td>\n",
              "      <td>0.0</td>\n",
              "      <td>16.461</td>\n",
              "      <td>1</td>\n",
              "      <td>1</td>\n",
              "      <td>1</td>\n",
              "      <td>1</td>\n",
              "      <td>1</td>\n",
              "      <td>0.0</td>\n",
              "      <td>0.0</td>\n",
              "      <td>100.0</td>\n",
              "      <td>0.0</td>\n",
              "      <td>0.0</td>\n",
              "      <td>0.0</td>\n",
              "      <td>0.0</td>\n",
              "      <td>0.0</td>\n",
              "      <td>100.0</td>\n",
              "      <td>0.0</td>\n",
              "      <td>0.0</td>\n",
              "      <td>0.0</td>\n",
              "      <td>0.0</td>\n",
              "      <td>0.0</td>\n",
              "      <td>0.0</td>\n",
              "      <td>100.0</td>\n",
              "      <td>0.0</td>\n",
              "      <td>0.0</td>\n",
              "      <td>0.0</td>\n",
              "      <td>0.0</td>\n",
              "      <td>0.0</td>\n",
              "      <td>0.0</td>\n",
              "      <td>0.0</td>\n",
              "      <td>0.0</td>\n",
              "      <td>0.0</td>\n",
              "      <td>0.0</td>\n",
              "      <td>0.0</td>\n",
              "      <td>0.0</td>\n",
              "      <td>0.0</td>\n",
              "      <td>0.0</td>\n",
              "      <td>100.0</td>\n",
              "      <td>0.0</td>\n",
              "      <td>0.0</td>\n",
              "      <td>0.0</td>\n",
              "      <td>0</td>\n",
              "    </tr>\n",
              "  </tbody>\n",
              "</table>\n",
              "</div>"
            ],
            "text/plain": [
              "         customer_id is_voucher is_deliveryfee is_amount first_order_date  \\\n",
              "244935  ffff4519b52d          0              0         1      2016-04-02    \n",
              "244936  ffffccbfc8a4          0              0         1      2015-05-30    \n",
              "\n",
              "       last_order_date  first_order_before  last_order_before  \\\n",
              "244935      2016-04-02             333                 333      \n",
              "244936      2015-05-30             641                 641      \n",
              "\n",
              "        cntns_order_period  num_fail_order  comm_orderhour  num_success_order  \\\n",
              "244935               1                   0              19               1      \n",
              "244936               1                   0              20               1      \n",
              "\n",
              "        avg_voucher_amnt  avg_deliveryfee  avg_amount  num_restaurant  \\\n",
              "244935             0.0               0.0       21.771               1   \n",
              "244936             0.0               0.0       16.461               1   \n",
              "\n",
              "        num_city  num_paymentid  num_platform  num_transmission  \\\n",
              "244935         1              1             1               1     \n",
              "244936         1              1             1               1     \n",
              "\n",
              "        order_afternoon  order_early_morning  order_evening  order_late_night  \\\n",
              "244935             0.0              0.0               100.0             0.0     \n",
              "244936             0.0              0.0               100.0             0.0     \n",
              "\n",
              "        order_morning  order_night  payment_id_1491  payment_id_1523  \\\n",
              "244935            0.0          0.0           100.0              0.0    \n",
              "244936            0.0          0.0             0.0              0.0    \n",
              "\n",
              "        payment_id_1619  payment_id_1779  payment_id_1811  platform_id_525  \\\n",
              "244935             0.0              0.0              0.0              0.0    \n",
              "244936           100.0              0.0              0.0              0.0    \n",
              "\n",
              "        platform_id_22167  platform_id_22263  platform_id_22295  \\\n",
              "244935             0.0                0.0                0.0      \n",
              "244936             0.0                0.0                0.0      \n",
              "\n",
              "        platform_id_29463  platform_id_29495  platform_id_29751  \\\n",
              "244935             0.0                0.0              100.0      \n",
              "244936           100.0                0.0                0.0      \n",
              "\n",
              "        platform_id_29815  platform_id_30135  platform_id_30199  \\\n",
              "244935             0.0                0.0                0.0      \n",
              "244936             0.0                0.0                0.0      \n",
              "\n",
              "        platform_id_30231  platform_id_30359  platform_id_30391  \\\n",
              "244935             0.0                0.0                0.0      \n",
              "244936             0.0                0.0                0.0      \n",
              "\n",
              "        platform_id_30423  transmission_id_212  transmission_id_1988  \\\n",
              "244935             0.0                0.0                  0.0         \n",
              "244936             0.0                0.0                  0.0         \n",
              "\n",
              "        transmission_id_4196  transmission_id_4228  transmission_id_4260  \\\n",
              "244935             0.0                 100.0                   0.0         \n",
              "244936             0.0                   0.0                   0.0         \n",
              "\n",
              "        transmission_id_4324  transmission_id_4356  transmission_id_4996  \\\n",
              "244935             0.0                   0.0                   0.0         \n",
              "244936           100.0                   0.0                   0.0         \n",
              "\n",
              "        transmission_id_21124  is_returning_customer  \n",
              "244935             0.0                      0         \n",
              "244936             0.0                      0         "
            ]
          },
          "metadata": {
            "tags": []
          },
          "execution_count": 73
        }
      ]
    },
    {
      "cell_type": "code",
      "metadata": {
        "id": "cP0l4rLI3li7",
        "colab_type": "code",
        "colab": {
          "base_uri": "https://localhost:8080/",
          "height": 347
        },
        "outputId": "1eec1bff-de1a-4ec6-9b7a-bbb66c3778d2"
      },
      "source": [
        "df_new_ftr.columns"
      ],
      "execution_count": 74,
      "outputs": [
        {
          "output_type": "execute_result",
          "data": {
            "text/plain": [
              "Index(['customer_id', 'is_voucher', 'is_deliveryfee', 'is_amount',\n",
              "       'first_order_date', 'last_order_date', 'first_order_before',\n",
              "       'last_order_before', 'cntns_order_period', 'num_fail_order',\n",
              "       'comm_orderhour', 'num_success_order', 'avg_voucher_amnt',\n",
              "       'avg_deliveryfee', 'avg_amount', 'num_restaurant', 'num_city',\n",
              "       'num_paymentid', 'num_platform', 'num_transmission', 'order_afternoon',\n",
              "       'order_early_morning', 'order_evening', 'order_late_night',\n",
              "       'order_morning', 'order_night', 'payment_id_1491', 'payment_id_1523',\n",
              "       'payment_id_1619', 'payment_id_1779', 'payment_id_1811',\n",
              "       'platform_id_525', 'platform_id_22167', 'platform_id_22263',\n",
              "       'platform_id_22295', 'platform_id_29463', 'platform_id_29495',\n",
              "       'platform_id_29751', 'platform_id_29815', 'platform_id_30135',\n",
              "       'platform_id_30199', 'platform_id_30231', 'platform_id_30359',\n",
              "       'platform_id_30391', 'platform_id_30423', 'transmission_id_212',\n",
              "       'transmission_id_1988', 'transmission_id_4196', 'transmission_id_4228',\n",
              "       'transmission_id_4260', 'transmission_id_4324', 'transmission_id_4356',\n",
              "       'transmission_id_4996', 'transmission_id_21124',\n",
              "       'is_returning_customer'],\n",
              "      dtype='object')"
            ]
          },
          "metadata": {
            "tags": []
          },
          "execution_count": 74
        }
      ]
    },
    {
      "cell_type": "code",
      "metadata": {
        "id": "x3Rc7G573oly",
        "colab_type": "code",
        "colab": {
          "base_uri": "https://localhost:8080/",
          "height": 147
        },
        "outputId": "2eb3b1d7-64b9-4e4b-c88e-74ca4dcaa5b9"
      },
      "source": [
        "# Select the order of feature for better readability and ease of analysis\n",
        "\n",
        "df_new_ftr = df_new_ftr[['customer_id', 'is_returning_customer', 'first_order_before', 'last_order_before', 'cntns_order_period', \n",
        "                         'comm_orderhour', 'num_success_order', 'num_fail_order', \n",
        "                         'is_voucher', 'avg_voucher_amnt', 'is_deliveryfee', 'avg_deliveryfee', 'is_amount', 'avg_amount', \n",
        "                         'num_restaurant', 'num_city', 'num_paymentid', 'num_platform', 'num_transmission', \n",
        "                         'order_afternoon', 'order_early_morning', 'order_evening', 'order_late_night', 'order_morning', 'order_night',\n",
        "                         'payment_id_1491', 'payment_id_1523',\n",
        "       'payment_id_1619', 'payment_id_1779', 'payment_id_1811',\n",
        "       'platform_id_525', 'platform_id_22167', 'platform_id_22263',\n",
        "       'platform_id_22295', 'platform_id_29463', 'platform_id_29495',\n",
        "       'platform_id_29751', 'platform_id_29815', 'platform_id_30135',\n",
        "       'platform_id_30199', 'platform_id_30231', 'platform_id_30359',\n",
        "       'platform_id_30391', 'platform_id_30423', 'transmission_id_212',\n",
        "       'transmission_id_1988', 'transmission_id_4196', 'transmission_id_4228',\n",
        "       'transmission_id_4260', 'transmission_id_4324', 'transmission_id_4356',\n",
        "       'transmission_id_4996', 'transmission_id_21124']].copy()\n",
        "# df_new_ftr.index = np.arange(1, len(df_new_ftr)+1)\n",
        "print(df_new_ftr.shape)\n",
        "df_new_ftr.tail(2)"
      ],
      "execution_count": 78,
      "outputs": [
        {
          "output_type": "stream",
          "text": [
            "(244937, 53)\n"
          ],
          "name": "stdout"
        },
        {
          "output_type": "execute_result",
          "data": {
            "text/html": [
              "<div>\n",
              "<style scoped>\n",
              "    .dataframe tbody tr th:only-of-type {\n",
              "        vertical-align: middle;\n",
              "    }\n",
              "\n",
              "    .dataframe tbody tr th {\n",
              "        vertical-align: top;\n",
              "    }\n",
              "\n",
              "    .dataframe thead th {\n",
              "        text-align: right;\n",
              "    }\n",
              "</style>\n",
              "<table border=\"1\" class=\"dataframe\">\n",
              "  <thead>\n",
              "    <tr style=\"text-align: right;\">\n",
              "      <th></th>\n",
              "      <th>customer_id</th>\n",
              "      <th>is_returning_customer</th>\n",
              "      <th>first_order_before</th>\n",
              "      <th>last_order_before</th>\n",
              "      <th>cntns_order_period</th>\n",
              "      <th>comm_orderhour</th>\n",
              "      <th>num_success_order</th>\n",
              "      <th>num_fail_order</th>\n",
              "      <th>is_voucher</th>\n",
              "      <th>avg_voucher_amnt</th>\n",
              "      <th>is_deliveryfee</th>\n",
              "      <th>avg_deliveryfee</th>\n",
              "      <th>is_amount</th>\n",
              "      <th>avg_amount</th>\n",
              "      <th>num_restaurant</th>\n",
              "      <th>num_city</th>\n",
              "      <th>num_paymentid</th>\n",
              "      <th>num_platform</th>\n",
              "      <th>num_transmission</th>\n",
              "      <th>order_afternoon</th>\n",
              "      <th>order_early_morning</th>\n",
              "      <th>order_evening</th>\n",
              "      <th>order_late_night</th>\n",
              "      <th>order_morning</th>\n",
              "      <th>order_night</th>\n",
              "      <th>payment_id_1491</th>\n",
              "      <th>payment_id_1523</th>\n",
              "      <th>payment_id_1619</th>\n",
              "      <th>payment_id_1779</th>\n",
              "      <th>payment_id_1811</th>\n",
              "      <th>platform_id_525</th>\n",
              "      <th>platform_id_22167</th>\n",
              "      <th>platform_id_22263</th>\n",
              "      <th>platform_id_22295</th>\n",
              "      <th>platform_id_29463</th>\n",
              "      <th>platform_id_29495</th>\n",
              "      <th>platform_id_29751</th>\n",
              "      <th>platform_id_29815</th>\n",
              "      <th>platform_id_30135</th>\n",
              "      <th>platform_id_30199</th>\n",
              "      <th>platform_id_30231</th>\n",
              "      <th>platform_id_30359</th>\n",
              "      <th>platform_id_30391</th>\n",
              "      <th>platform_id_30423</th>\n",
              "      <th>transmission_id_212</th>\n",
              "      <th>transmission_id_1988</th>\n",
              "      <th>transmission_id_4196</th>\n",
              "      <th>transmission_id_4228</th>\n",
              "      <th>transmission_id_4260</th>\n",
              "      <th>transmission_id_4324</th>\n",
              "      <th>transmission_id_4356</th>\n",
              "      <th>transmission_id_4996</th>\n",
              "      <th>transmission_id_21124</th>\n",
              "    </tr>\n",
              "  </thead>\n",
              "  <tbody>\n",
              "    <tr>\n",
              "      <th>244935</th>\n",
              "      <td>ffff4519b52d</td>\n",
              "      <td>0</td>\n",
              "      <td>333</td>\n",
              "      <td>333</td>\n",
              "      <td>1</td>\n",
              "      <td>19</td>\n",
              "      <td>1</td>\n",
              "      <td>0</td>\n",
              "      <td>0</td>\n",
              "      <td>0.0</td>\n",
              "      <td>0</td>\n",
              "      <td>0.0</td>\n",
              "      <td>1</td>\n",
              "      <td>21.771</td>\n",
              "      <td>1</td>\n",
              "      <td>1</td>\n",
              "      <td>1</td>\n",
              "      <td>1</td>\n",
              "      <td>1</td>\n",
              "      <td>0.0</td>\n",
              "      <td>0.0</td>\n",
              "      <td>100.0</td>\n",
              "      <td>0.0</td>\n",
              "      <td>0.0</td>\n",
              "      <td>0.0</td>\n",
              "      <td>100.0</td>\n",
              "      <td>0.0</td>\n",
              "      <td>0.0</td>\n",
              "      <td>0.0</td>\n",
              "      <td>0.0</td>\n",
              "      <td>0.0</td>\n",
              "      <td>0.0</td>\n",
              "      <td>0.0</td>\n",
              "      <td>0.0</td>\n",
              "      <td>0.0</td>\n",
              "      <td>0.0</td>\n",
              "      <td>100.0</td>\n",
              "      <td>0.0</td>\n",
              "      <td>0.0</td>\n",
              "      <td>0.0</td>\n",
              "      <td>0.0</td>\n",
              "      <td>0.0</td>\n",
              "      <td>0.0</td>\n",
              "      <td>0.0</td>\n",
              "      <td>0.0</td>\n",
              "      <td>0.0</td>\n",
              "      <td>0.0</td>\n",
              "      <td>100.0</td>\n",
              "      <td>0.0</td>\n",
              "      <td>0.0</td>\n",
              "      <td>0.0</td>\n",
              "      <td>0.0</td>\n",
              "      <td>0.0</td>\n",
              "    </tr>\n",
              "    <tr>\n",
              "      <th>244936</th>\n",
              "      <td>ffffccbfc8a4</td>\n",
              "      <td>0</td>\n",
              "      <td>641</td>\n",
              "      <td>641</td>\n",
              "      <td>1</td>\n",
              "      <td>20</td>\n",
              "      <td>1</td>\n",
              "      <td>0</td>\n",
              "      <td>0</td>\n",
              "      <td>0.0</td>\n",
              "      <td>0</td>\n",
              "      <td>0.0</td>\n",
              "      <td>1</td>\n",
              "      <td>16.461</td>\n",
              "      <td>1</td>\n",
              "      <td>1</td>\n",
              "      <td>1</td>\n",
              "      <td>1</td>\n",
              "      <td>1</td>\n",
              "      <td>0.0</td>\n",
              "      <td>0.0</td>\n",
              "      <td>100.0</td>\n",
              "      <td>0.0</td>\n",
              "      <td>0.0</td>\n",
              "      <td>0.0</td>\n",
              "      <td>0.0</td>\n",
              "      <td>0.0</td>\n",
              "      <td>100.0</td>\n",
              "      <td>0.0</td>\n",
              "      <td>0.0</td>\n",
              "      <td>0.0</td>\n",
              "      <td>0.0</td>\n",
              "      <td>0.0</td>\n",
              "      <td>0.0</td>\n",
              "      <td>100.0</td>\n",
              "      <td>0.0</td>\n",
              "      <td>0.0</td>\n",
              "      <td>0.0</td>\n",
              "      <td>0.0</td>\n",
              "      <td>0.0</td>\n",
              "      <td>0.0</td>\n",
              "      <td>0.0</td>\n",
              "      <td>0.0</td>\n",
              "      <td>0.0</td>\n",
              "      <td>0.0</td>\n",
              "      <td>0.0</td>\n",
              "      <td>0.0</td>\n",
              "      <td>0.0</td>\n",
              "      <td>0.0</td>\n",
              "      <td>100.0</td>\n",
              "      <td>0.0</td>\n",
              "      <td>0.0</td>\n",
              "      <td>0.0</td>\n",
              "    </tr>\n",
              "  </tbody>\n",
              "</table>\n",
              "</div>"
            ],
            "text/plain": [
              "         customer_id  is_returning_customer  first_order_before  \\\n",
              "244935  ffff4519b52d               0                    333       \n",
              "244936  ffffccbfc8a4               0                    641       \n",
              "\n",
              "        last_order_before  cntns_order_period  comm_orderhour  \\\n",
              "244935             333                  1                  19   \n",
              "244936             641                  1                  20   \n",
              "\n",
              "        num_success_order  num_fail_order is_voucher  avg_voucher_amnt  \\\n",
              "244935               1                  0          0             0.0     \n",
              "244936               1                  0          0             0.0     \n",
              "\n",
              "       is_deliveryfee  avg_deliveryfee is_amount  avg_amount  num_restaurant  \\\n",
              "244935              0             0.0          1      21.771               1   \n",
              "244936              0             0.0          1      16.461               1   \n",
              "\n",
              "        num_city  num_paymentid  num_platform  num_transmission  \\\n",
              "244935         1              1             1               1     \n",
              "244936         1              1             1               1     \n",
              "\n",
              "        order_afternoon  order_early_morning  order_evening  order_late_night  \\\n",
              "244935             0.0              0.0               100.0             0.0     \n",
              "244936             0.0              0.0               100.0             0.0     \n",
              "\n",
              "        order_morning  order_night  payment_id_1491  payment_id_1523  \\\n",
              "244935            0.0          0.0           100.0              0.0    \n",
              "244936            0.0          0.0             0.0              0.0    \n",
              "\n",
              "        payment_id_1619  payment_id_1779  payment_id_1811  platform_id_525  \\\n",
              "244935             0.0              0.0              0.0              0.0    \n",
              "244936           100.0              0.0              0.0              0.0    \n",
              "\n",
              "        platform_id_22167  platform_id_22263  platform_id_22295  \\\n",
              "244935             0.0                0.0                0.0      \n",
              "244936             0.0                0.0                0.0      \n",
              "\n",
              "        platform_id_29463  platform_id_29495  platform_id_29751  \\\n",
              "244935             0.0                0.0              100.0      \n",
              "244936           100.0                0.0                0.0      \n",
              "\n",
              "        platform_id_29815  platform_id_30135  platform_id_30199  \\\n",
              "244935             0.0                0.0                0.0      \n",
              "244936             0.0                0.0                0.0      \n",
              "\n",
              "        platform_id_30231  platform_id_30359  platform_id_30391  \\\n",
              "244935             0.0                0.0                0.0      \n",
              "244936             0.0                0.0                0.0      \n",
              "\n",
              "        platform_id_30423  transmission_id_212  transmission_id_1988  \\\n",
              "244935             0.0                0.0                  0.0         \n",
              "244936             0.0                0.0                  0.0         \n",
              "\n",
              "        transmission_id_4196  transmission_id_4228  transmission_id_4260  \\\n",
              "244935             0.0                 100.0                   0.0         \n",
              "244936             0.0                   0.0                   0.0         \n",
              "\n",
              "        transmission_id_4324  transmission_id_4356  transmission_id_4996  \\\n",
              "244935             0.0                   0.0                   0.0         \n",
              "244936           100.0                   0.0                   0.0         \n",
              "\n",
              "        transmission_id_21124  \n",
              "244935             0.0         \n",
              "244936             0.0         "
            ]
          },
          "metadata": {
            "tags": []
          },
          "execution_count": 78
        }
      ]
    },
    {
      "cell_type": "markdown",
      "metadata": {
        "id": "ByWEU2lb41sx",
        "colab_type": "text"
      },
      "source": [
        "## 5. Save final dataset having new features"
      ]
    },
    {
      "cell_type": "code",
      "metadata": {
        "id": "6-mNJc-n439I",
        "colab_type": "code",
        "colab": {}
      },
      "source": [
        "# Export the dataframe to a csv\n",
        "df_new_ftr.to_csv('customer_order_label.csv', index=False)"
      ],
      "execution_count": 76,
      "outputs": []
    },
    {
      "cell_type": "code",
      "metadata": {
        "id": "e1IDxiSe3uJ6",
        "colab_type": "code",
        "colab": {
          "base_uri": "https://localhost:8080/",
          "height": 559
        },
        "outputId": "35b1a347-728c-4356-d8e6-14a6ffc34b30"
      },
      "source": [
        "# Cross-check the data in csv file\n",
        "\n",
        "df_customer_order_label = pd.read_csv('customer_order_label.csv')\n",
        "print(df_customer_order_label.shape)\n",
        "print('--'*20)\n",
        "print('--'*20)\n",
        "print(df_customer_order_label.columns)\n",
        "print('--'*20)\n",
        "print('--'*20)\n",
        "df_customer_order_label.head(3)"
      ],
      "execution_count": 77,
      "outputs": [
        {
          "output_type": "stream",
          "text": [
            "(244937, 53)\n",
            "----------------------------------------\n",
            "----------------------------------------\n",
            "Index(['customer_id', 'is_returning_customer', 'first_order_before',\n",
            "       'last_order_before', 'cntns_order_period', 'comm_orderhour',\n",
            "       'num_success_order', 'num_fail_order', 'is_voucher', 'avg_voucher_amnt',\n",
            "       'is_deliveryfee', 'avg_deliveryfee', 'is_amount', 'avg_amount',\n",
            "       'num_restaurant', 'num_city', 'num_paymentid', 'num_platform',\n",
            "       'num_transmission', 'order_afternoon', 'order_early_morning',\n",
            "       'order_evening', 'order_late_night', 'order_morning', 'order_night',\n",
            "       'payment_id_1491', 'payment_id_1523', 'payment_id_1619',\n",
            "       'payment_id_1779', 'payment_id_1811', 'platform_id_525',\n",
            "       'platform_id_22167', 'platform_id_22263', 'platform_id_22295',\n",
            "       'platform_id_29463', 'platform_id_29495', 'platform_id_29751',\n",
            "       'platform_id_29815', 'platform_id_30135', 'platform_id_30199',\n",
            "       'platform_id_30231', 'platform_id_30359', 'platform_id_30391',\n",
            "       'platform_id_30423', 'transmission_id_212', 'transmission_id_1988',\n",
            "       'transmission_id_4196', 'transmission_id_4228', 'transmission_id_4260',\n",
            "       'transmission_id_4324', 'transmission_id_4356', 'transmission_id_4996',\n",
            "       'transmission_id_21124'],\n",
            "      dtype='object')\n",
            "----------------------------------------\n",
            "----------------------------------------\n"
          ],
          "name": "stdout"
        },
        {
          "output_type": "execute_result",
          "data": {
            "text/html": [
              "<div>\n",
              "<style scoped>\n",
              "    .dataframe tbody tr th:only-of-type {\n",
              "        vertical-align: middle;\n",
              "    }\n",
              "\n",
              "    .dataframe tbody tr th {\n",
              "        vertical-align: top;\n",
              "    }\n",
              "\n",
              "    .dataframe thead th {\n",
              "        text-align: right;\n",
              "    }\n",
              "</style>\n",
              "<table border=\"1\" class=\"dataframe\">\n",
              "  <thead>\n",
              "    <tr style=\"text-align: right;\">\n",
              "      <th></th>\n",
              "      <th>customer_id</th>\n",
              "      <th>is_returning_customer</th>\n",
              "      <th>first_order_before</th>\n",
              "      <th>last_order_before</th>\n",
              "      <th>cntns_order_period</th>\n",
              "      <th>comm_orderhour</th>\n",
              "      <th>num_success_order</th>\n",
              "      <th>num_fail_order</th>\n",
              "      <th>is_voucher</th>\n",
              "      <th>avg_voucher_amnt</th>\n",
              "      <th>is_deliveryfee</th>\n",
              "      <th>avg_deliveryfee</th>\n",
              "      <th>is_amount</th>\n",
              "      <th>avg_amount</th>\n",
              "      <th>num_restaurant</th>\n",
              "      <th>num_city</th>\n",
              "      <th>num_paymentid</th>\n",
              "      <th>num_platform</th>\n",
              "      <th>num_transmission</th>\n",
              "      <th>order_afternoon</th>\n",
              "      <th>order_early_morning</th>\n",
              "      <th>order_evening</th>\n",
              "      <th>order_late_night</th>\n",
              "      <th>order_morning</th>\n",
              "      <th>order_night</th>\n",
              "      <th>payment_id_1491</th>\n",
              "      <th>payment_id_1523</th>\n",
              "      <th>payment_id_1619</th>\n",
              "      <th>payment_id_1779</th>\n",
              "      <th>payment_id_1811</th>\n",
              "      <th>platform_id_525</th>\n",
              "      <th>platform_id_22167</th>\n",
              "      <th>platform_id_22263</th>\n",
              "      <th>platform_id_22295</th>\n",
              "      <th>platform_id_29463</th>\n",
              "      <th>platform_id_29495</th>\n",
              "      <th>platform_id_29751</th>\n",
              "      <th>platform_id_29815</th>\n",
              "      <th>platform_id_30135</th>\n",
              "      <th>platform_id_30199</th>\n",
              "      <th>platform_id_30231</th>\n",
              "      <th>platform_id_30359</th>\n",
              "      <th>platform_id_30391</th>\n",
              "      <th>platform_id_30423</th>\n",
              "      <th>transmission_id_212</th>\n",
              "      <th>transmission_id_1988</th>\n",
              "      <th>transmission_id_4196</th>\n",
              "      <th>transmission_id_4228</th>\n",
              "      <th>transmission_id_4260</th>\n",
              "      <th>transmission_id_4324</th>\n",
              "      <th>transmission_id_4356</th>\n",
              "      <th>transmission_id_4996</th>\n",
              "      <th>transmission_id_21124</th>\n",
              "    </tr>\n",
              "  </thead>\n",
              "  <tbody>\n",
              "    <tr>\n",
              "      <th>0</th>\n",
              "      <td>000097eabfd9</td>\n",
              "      <td>0</td>\n",
              "      <td>620</td>\n",
              "      <td>620</td>\n",
              "      <td>1</td>\n",
              "      <td>19</td>\n",
              "      <td>1</td>\n",
              "      <td>0</td>\n",
              "      <td>0</td>\n",
              "      <td>0.0</td>\n",
              "      <td>0</td>\n",
              "      <td>0.000</td>\n",
              "      <td>1</td>\n",
              "      <td>11.46960</td>\n",
              "      <td>1</td>\n",
              "      <td>1</td>\n",
              "      <td>1</td>\n",
              "      <td>1</td>\n",
              "      <td>1</td>\n",
              "      <td>0.0</td>\n",
              "      <td>0.0</td>\n",
              "      <td>100.0</td>\n",
              "      <td>0.0</td>\n",
              "      <td>0.0</td>\n",
              "      <td>0.0</td>\n",
              "      <td>0.0</td>\n",
              "      <td>0.0</td>\n",
              "      <td>0.0</td>\n",
              "      <td>100.0</td>\n",
              "      <td>0.0</td>\n",
              "      <td>0.0</td>\n",
              "      <td>0.0</td>\n",
              "      <td>0.0</td>\n",
              "      <td>0.0</td>\n",
              "      <td>0.0</td>\n",
              "      <td>0.0</td>\n",
              "      <td>0.0</td>\n",
              "      <td>0.0</td>\n",
              "      <td>0.0</td>\n",
              "      <td>0.0</td>\n",
              "      <td>100.0</td>\n",
              "      <td>0.0</td>\n",
              "      <td>0.0</td>\n",
              "      <td>0.0</td>\n",
              "      <td>0.0</td>\n",
              "      <td>0.0</td>\n",
              "      <td>0.0</td>\n",
              "      <td>0.0</td>\n",
              "      <td>0.0</td>\n",
              "      <td>0.0</td>\n",
              "      <td>100.0</td>\n",
              "      <td>0.0</td>\n",
              "      <td>0.0</td>\n",
              "    </tr>\n",
              "    <tr>\n",
              "      <th>1</th>\n",
              "      <td>0000e2c6d9be</td>\n",
              "      <td>0</td>\n",
              "      <td>397</td>\n",
              "      <td>397</td>\n",
              "      <td>1</td>\n",
              "      <td>20</td>\n",
              "      <td>1</td>\n",
              "      <td>0</td>\n",
              "      <td>0</td>\n",
              "      <td>0.0</td>\n",
              "      <td>0</td>\n",
              "      <td>0.000</td>\n",
              "      <td>1</td>\n",
              "      <td>9.55800</td>\n",
              "      <td>1</td>\n",
              "      <td>1</td>\n",
              "      <td>1</td>\n",
              "      <td>1</td>\n",
              "      <td>1</td>\n",
              "      <td>0.0</td>\n",
              "      <td>0.0</td>\n",
              "      <td>100.0</td>\n",
              "      <td>0.0</td>\n",
              "      <td>0.0</td>\n",
              "      <td>0.0</td>\n",
              "      <td>0.0</td>\n",
              "      <td>0.0</td>\n",
              "      <td>100.0</td>\n",
              "      <td>0.0</td>\n",
              "      <td>0.0</td>\n",
              "      <td>0.0</td>\n",
              "      <td>0.0</td>\n",
              "      <td>0.0</td>\n",
              "      <td>0.0</td>\n",
              "      <td>0.0</td>\n",
              "      <td>0.0</td>\n",
              "      <td>0.0</td>\n",
              "      <td>0.0</td>\n",
              "      <td>0.0</td>\n",
              "      <td>0.0</td>\n",
              "      <td>0.0</td>\n",
              "      <td>100.0</td>\n",
              "      <td>0.0</td>\n",
              "      <td>0.0</td>\n",
              "      <td>0.0</td>\n",
              "      <td>0.0</td>\n",
              "      <td>0.0</td>\n",
              "      <td>0.0</td>\n",
              "      <td>0.0</td>\n",
              "      <td>0.0</td>\n",
              "      <td>100.0</td>\n",
              "      <td>0.0</td>\n",
              "      <td>0.0</td>\n",
              "    </tr>\n",
              "    <tr>\n",
              "      <th>2</th>\n",
              "      <td>000133bb597f</td>\n",
              "      <td>1</td>\n",
              "      <td>3</td>\n",
              "      <td>3</td>\n",
              "      <td>1</td>\n",
              "      <td>19</td>\n",
              "      <td>1</td>\n",
              "      <td>0</td>\n",
              "      <td>0</td>\n",
              "      <td>0.0</td>\n",
              "      <td>1</td>\n",
              "      <td>0.493</td>\n",
              "      <td>1</td>\n",
              "      <td>5.93658</td>\n",
              "      <td>1</td>\n",
              "      <td>1</td>\n",
              "      <td>1</td>\n",
              "      <td>1</td>\n",
              "      <td>1</td>\n",
              "      <td>0.0</td>\n",
              "      <td>0.0</td>\n",
              "      <td>100.0</td>\n",
              "      <td>0.0</td>\n",
              "      <td>0.0</td>\n",
              "      <td>0.0</td>\n",
              "      <td>0.0</td>\n",
              "      <td>0.0</td>\n",
              "      <td>100.0</td>\n",
              "      <td>0.0</td>\n",
              "      <td>0.0</td>\n",
              "      <td>0.0</td>\n",
              "      <td>0.0</td>\n",
              "      <td>0.0</td>\n",
              "      <td>0.0</td>\n",
              "      <td>0.0</td>\n",
              "      <td>0.0</td>\n",
              "      <td>0.0</td>\n",
              "      <td>0.0</td>\n",
              "      <td>0.0</td>\n",
              "      <td>0.0</td>\n",
              "      <td>0.0</td>\n",
              "      <td>100.0</td>\n",
              "      <td>0.0</td>\n",
              "      <td>0.0</td>\n",
              "      <td>0.0</td>\n",
              "      <td>0.0</td>\n",
              "      <td>0.0</td>\n",
              "      <td>0.0</td>\n",
              "      <td>0.0</td>\n",
              "      <td>100.0</td>\n",
              "      <td>0.0</td>\n",
              "      <td>0.0</td>\n",
              "      <td>0.0</td>\n",
              "    </tr>\n",
              "  </tbody>\n",
              "</table>\n",
              "</div>"
            ],
            "text/plain": [
              "    customer_id  is_returning_customer  first_order_before  last_order_before  \\\n",
              "0  000097eabfd9               0                    620                 620      \n",
              "1  0000e2c6d9be               0                    397                 397      \n",
              "2  000133bb597f               1                      3                   3      \n",
              "\n",
              "   cntns_order_period  comm_orderhour  num_success_order  num_fail_order  \\\n",
              "0               1                  19               1                  0   \n",
              "1               1                  20               1                  0   \n",
              "2               1                  19               1                  0   \n",
              "\n",
              "   is_voucher  avg_voucher_amnt  is_deliveryfee  avg_deliveryfee  is_amount  \\\n",
              "0           0             0.0                 0           0.000           1   \n",
              "1           0             0.0                 0           0.000           1   \n",
              "2           0             0.0                 1           0.493           1   \n",
              "\n",
              "   avg_amount  num_restaurant  num_city  num_paymentid  num_platform  \\\n",
              "0    11.46960               1         1              1             1   \n",
              "1     9.55800               1         1              1             1   \n",
              "2     5.93658               1         1              1             1   \n",
              "\n",
              "   num_transmission  order_afternoon  order_early_morning  order_evening  \\\n",
              "0               1               0.0              0.0               100.0   \n",
              "1               1               0.0              0.0               100.0   \n",
              "2               1               0.0              0.0               100.0   \n",
              "\n",
              "   order_late_night  order_morning  order_night  payment_id_1491  \\\n",
              "0             0.0              0.0          0.0             0.0    \n",
              "1             0.0              0.0          0.0             0.0    \n",
              "2             0.0              0.0          0.0             0.0    \n",
              "\n",
              "   payment_id_1523  payment_id_1619  payment_id_1779  payment_id_1811  \\\n",
              "0             0.0              0.0            100.0              0.0    \n",
              "1             0.0            100.0              0.0              0.0    \n",
              "2             0.0            100.0              0.0              0.0    \n",
              "\n",
              "   platform_id_525  platform_id_22167  platform_id_22263  platform_id_22295  \\\n",
              "0             0.0              0.0                0.0                0.0      \n",
              "1             0.0              0.0                0.0                0.0      \n",
              "2             0.0              0.0                0.0                0.0      \n",
              "\n",
              "   platform_id_29463  platform_id_29495  platform_id_29751  platform_id_29815  \\\n",
              "0             0.0                0.0                0.0                0.0      \n",
              "1             0.0                0.0                0.0                0.0      \n",
              "2             0.0                0.0                0.0                0.0      \n",
              "\n",
              "   platform_id_30135  platform_id_30199  platform_id_30231  platform_id_30359  \\\n",
              "0             0.0                0.0              100.0                0.0      \n",
              "1             0.0                0.0                0.0              100.0      \n",
              "2             0.0                0.0                0.0              100.0      \n",
              "\n",
              "   platform_id_30391  platform_id_30423  transmission_id_212  \\\n",
              "0             0.0                0.0                0.0        \n",
              "1             0.0                0.0                0.0        \n",
              "2             0.0                0.0                0.0        \n",
              "\n",
              "   transmission_id_1988  transmission_id_4196  transmission_id_4228  \\\n",
              "0             0.0                   0.0                   0.0         \n",
              "1             0.0                   0.0                   0.0         \n",
              "2             0.0                   0.0                   0.0         \n",
              "\n",
              "   transmission_id_4260  transmission_id_4324  transmission_id_4356  \\\n",
              "0             0.0                   0.0                 100.0         \n",
              "1             0.0                   0.0                 100.0         \n",
              "2             0.0                 100.0                   0.0         \n",
              "\n",
              "   transmission_id_4996  transmission_id_21124  \n",
              "0             0.0                   0.0         \n",
              "1             0.0                   0.0         \n",
              "2             0.0                   0.0         "
            ]
          },
          "metadata": {
            "tags": []
          },
          "execution_count": 77
        }
      ]
    },
    {
      "cell_type": "markdown",
      "metadata": {
        "id": "8HQ0jdNF5Igb",
        "colab_type": "text"
      },
      "source": [
        "* Looks good"
      ]
    },
    {
      "cell_type": "code",
      "metadata": {
        "id": "Niqi-2cQ484J",
        "colab_type": "code",
        "colab": {}
      },
      "source": [
        ""
      ],
      "execution_count": null,
      "outputs": []
    }
  ]
}