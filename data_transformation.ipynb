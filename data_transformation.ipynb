{
  "nbformat": 4,
  "nbformat_minor": 0,
  "metadata": {
    "colab": {
      "name": "data_transformation.ipynb",
      "provenance": [],
      "authorship_tag": "ABX9TyPYteyoIhRDYNpjGiZHKxNd",
      "include_colab_link": true
    },
    "kernelspec": {
      "name": "python3",
      "display_name": "Python 3"
    }
  },
  "cells": [
    {
      "cell_type": "markdown",
      "metadata": {
        "id": "view-in-github",
        "colab_type": "text"
      },
      "source": [
        "<a href=\"https://colab.research.google.com/github/ashutosh3060/friday-burger-mojito/blob/master/data_transformation.ipynb\" target=\"_parent\"><img src=\"https://colab.research.google.com/assets/colab-badge.svg\" alt=\"Open In Colab\"/></a>"
      ]
    },
    {
      "cell_type": "markdown",
      "metadata": {
        "id": "jHRhCQgwIVCA",
        "colab_type": "text"
      },
      "source": [
        "## Table of Contents\n",
        "\n",
        "0. Libraries\n",
        "1. User-Defined Functions\n",
        "2. Import Data and Basic Understanding\n",
        "3. Data Quality Checks\n",
        "4. Feature Engineering\n",
        "5. Save Final Dataset with new features"
      ]
    },
    {
      "cell_type": "markdown",
      "metadata": {
        "id": "WWrAC-a5I7SY",
        "colab_type": "text"
      },
      "source": [
        "## 0. Libraries "
      ]
    },
    {
      "cell_type": "code",
      "metadata": {
        "id": "_lQ9nucSGhMk",
        "colab_type": "code",
        "colab": {}
      },
      "source": [
        "# warnings\n",
        "import warnings\n",
        "warnings.filterwarnings(\"ignore\")\n",
        "\n",
        "# Numpy, Pandas\n",
        "import numpy as np\n",
        "import pandas as pd\n",
        "\n",
        "# Display settings\n",
        "pd.set_option('display.max_rows', 500)\n",
        "pd.set_option('display.max_columns', 100)\n",
        "pd.set_option('display.max_colwidth', 15)"
      ],
      "execution_count": 1,
      "outputs": []
    },
    {
      "cell_type": "markdown",
      "metadata": {
        "id": "CreG3lWZKVdO",
        "colab_type": "text"
      },
      "source": [
        "## 1. User-defined Functions"
      ]
    },
    {
      "cell_type": "code",
      "metadata": {
        "id": "CsI3ZNxrJluH",
        "colab_type": "code",
        "colab": {}
      },
      "source": [
        "def null_perc_check (df):\n",
        "    '''\n",
        "    Calculates missing value count and percentage for all the columns in a dataframe\n",
        "\n",
        "    Inputs\n",
        "    -------\n",
        "    df : dataframe\n",
        "        The dataframe for which missing value distribution needs to checked\n",
        "\n",
        "    Output\n",
        "    -------\n",
        "    dataframe\n",
        "        a dataframe showing missing value count and percentage for all the columns\n",
        "    '''\n",
        "    missing_value_df = pd.DataFrame(index = df.keys(), data =df.isnull().sum(), columns = ['Missing_Value_Count'])\n",
        "    missing_value_df['Missing_Value_Percentage'] = np.round(((df.isnull().mean())*100),1)\n",
        "    sorted_df = missing_value_df.sort_values('Missing_Value_Count',ascending= False)\n",
        "    return sorted_df"
      ],
      "execution_count": null,
      "outputs": []
    }
  ]
}