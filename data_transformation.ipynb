{
  "nbformat": 4,
  "nbformat_minor": 0,
  "metadata": {
    "colab": {
      "name": "data_transformation.ipynb",
      "provenance": [],
      "authorship_tag": "ABX9TyNGks+mn843iPdV9eM2Un45",
      "include_colab_link": true
    },
    "kernelspec": {
      "name": "python3",
      "display_name": "Python 3"
    }
  },
  "cells": [
    {
      "cell_type": "markdown",
      "metadata": {
        "id": "view-in-github",
        "colab_type": "text"
      },
      "source": [
        "<a href=\"https://colab.research.google.com/github/ashutosh3060/friday-burger-mojito/blob/master/data_transformation.ipynb\" target=\"_parent\"><img src=\"https://colab.research.google.com/assets/colab-badge.svg\" alt=\"Open In Colab\"/></a>"
      ]
    },
    {
      "cell_type": "markdown",
      "metadata": {
        "id": "jHRhCQgwIVCA",
        "colab_type": "text"
      },
      "source": [
        "## Table of Contents\n",
        "\n",
        "0. Libraries\n",
        "1. User-Defined Functions\n",
        "2. Import Data and Basic Understanding\n",
        "3. Data Quality Checks\n",
        "4. Feature Engineering\n",
        "5. Save Final Dataset with new features"
      ]
    },
    {
      "cell_type": "markdown",
      "metadata": {
        "id": "WWrAC-a5I7SY",
        "colab_type": "text"
      },
      "source": [
        "## 0. Libraries "
      ]
    },
    {
      "cell_type": "code",
      "metadata": {
        "id": "_lQ9nucSGhMk",
        "colab_type": "code",
        "colab": {}
      },
      "source": [
        "# warnings\n",
        "import warnings\n",
        "warnings.filterwarnings(\"ignore\")\n",
        "\n",
        "# Numpy, Pandas\n",
        "import numpy as np\n",
        "import pandas as pd\n",
        "\n",
        "# Display settings\n",
        "pd.set_option('display.max_rows', 500)\n",
        "pd.set_option('display.max_columns', 100)\n",
        "pd.set_option('display.max_colwidth', 15)"
      ],
      "execution_count": 1,
      "outputs": []
    },
    {
      "cell_type": "markdown",
      "metadata": {
        "id": "CreG3lWZKVdO",
        "colab_type": "text"
      },
      "source": [
        "## 1. User-defined Functions"
      ]
    },
    {
      "cell_type": "code",
      "metadata": {
        "id": "CsI3ZNxrJluH",
        "colab_type": "code",
        "colab": {}
      },
      "source": [
        "def null_perc_check (df):\n",
        "    '''\n",
        "    Calculates missing value count and percentage for all the columns in a dataframe\n",
        "\n",
        "    Inputs\n",
        "    -------\n",
        "    df : dataframe\n",
        "        The dataframe for which missing value distribution needs to checked\n",
        "\n",
        "    Output\n",
        "    -------\n",
        "    dataframe\n",
        "        a dataframe showing missing value count and percentage for all the columns\n",
        "    '''\n",
        "    missing_value_df = pd.DataFrame(index = df.keys(), data =df.isnull().sum(), columns = ['Missing_Value_Count'])\n",
        "    missing_value_df['Missing_Value_Percentage'] = np.round(((df.isnull().mean())*100),1)\n",
        "    sorted_df = missing_value_df.sort_values('Missing_Value_Count',ascending= False)\n",
        "    return sorted_df"
      ],
      "execution_count": null,
      "outputs": []
    },
    {
      "cell_type": "markdown",
      "metadata": {
        "id": "eVTWl1z4LdsH",
        "colab_type": "text"
      },
      "source": [
        "## 2. Import Data and Basic Understanding"
      ]
    },
    {
      "cell_type": "code",
      "metadata": {
        "id": "sU74VMXyLhXf",
        "colab_type": "code",
        "colab": {}
      },
      "source": [
        "# Define the path, filename\n",
        "\n",
        "order_path = \"/content/\"\n",
        "order_file = \"machine_learning_challenge_order_data.csv\"\n",
        "label_path = \"/content/\"\n",
        "label_file = \"machine_learning_challenge_labeled_data.csv\""
      ],
      "execution_count": 3,
      "outputs": []
    },
    {
      "cell_type": "code",
      "metadata": {
        "id": "yYjqLPhTLto_",
        "colab_type": "code",
        "colab": {}
      },
      "source": [
        "# import the dataset as a dataframe\n",
        "\n",
        "df_order = pd.read_csv(order_path+order_file)\n",
        "df_label = pd.read_csv(label_path+label_file)"
      ],
      "execution_count": 4,
      "outputs": []
    },
    {
      "cell_type": "code",
      "metadata": {
        "id": "6VETccoIMDKi",
        "colab_type": "code",
        "colab": {
          "base_uri": "https://localhost:8080/",
          "height": 178
        },
        "outputId": "e1ff52fd-2b77-4060-aa9e-bfd7952d0e95"
      },
      "source": [
        "# df_order: shape and first few records\n",
        "\n",
        "print(df_order.shape)\n",
        "df_order.head(3)"
      ],
      "execution_count": 7,
      "outputs": [
        {
          "output_type": "stream",
          "text": [
            "(786600, 13)\n"
          ],
          "name": "stdout"
        },
        {
          "output_type": "execute_result",
          "data": {
            "text/html": [
              "<div>\n",
              "<style scoped>\n",
              "    .dataframe tbody tr th:only-of-type {\n",
              "        vertical-align: middle;\n",
              "    }\n",
              "\n",
              "    .dataframe tbody tr th {\n",
              "        vertical-align: top;\n",
              "    }\n",
              "\n",
              "    .dataframe thead th {\n",
              "        text-align: right;\n",
              "    }\n",
              "</style>\n",
              "<table border=\"1\" class=\"dataframe\">\n",
              "  <thead>\n",
              "    <tr style=\"text-align: right;\">\n",
              "      <th></th>\n",
              "      <th>customer_id</th>\n",
              "      <th>order_date</th>\n",
              "      <th>order_hour</th>\n",
              "      <th>customer_order_rank</th>\n",
              "      <th>is_failed</th>\n",
              "      <th>voucher_amount</th>\n",
              "      <th>delivery_fee</th>\n",
              "      <th>amount_paid</th>\n",
              "      <th>restaurant_id</th>\n",
              "      <th>city_id</th>\n",
              "      <th>payment_id</th>\n",
              "      <th>platform_id</th>\n",
              "      <th>transmission_id</th>\n",
              "    </tr>\n",
              "  </thead>\n",
              "  <tbody>\n",
              "    <tr>\n",
              "      <th>0</th>\n",
              "      <td>000097eabfd9</td>\n",
              "      <td>2015-06-20</td>\n",
              "      <td>19</td>\n",
              "      <td>1.0</td>\n",
              "      <td>0</td>\n",
              "      <td>0.0</td>\n",
              "      <td>0.000</td>\n",
              "      <td>11.46960</td>\n",
              "      <td>5803498</td>\n",
              "      <td>20326</td>\n",
              "      <td>1779</td>\n",
              "      <td>30231</td>\n",
              "      <td>4356</td>\n",
              "    </tr>\n",
              "    <tr>\n",
              "      <th>1</th>\n",
              "      <td>0000e2c6d9be</td>\n",
              "      <td>2016-01-29</td>\n",
              "      <td>20</td>\n",
              "      <td>1.0</td>\n",
              "      <td>0</td>\n",
              "      <td>0.0</td>\n",
              "      <td>0.000</td>\n",
              "      <td>9.55800</td>\n",
              "      <td>239303498</td>\n",
              "      <td>76547</td>\n",
              "      <td>1619</td>\n",
              "      <td>30359</td>\n",
              "      <td>4356</td>\n",
              "    </tr>\n",
              "    <tr>\n",
              "      <th>2</th>\n",
              "      <td>000133bb597f</td>\n",
              "      <td>2017-02-26</td>\n",
              "      <td>19</td>\n",
              "      <td>1.0</td>\n",
              "      <td>0</td>\n",
              "      <td>0.0</td>\n",
              "      <td>0.493</td>\n",
              "      <td>5.93658</td>\n",
              "      <td>206463498</td>\n",
              "      <td>33833</td>\n",
              "      <td>1619</td>\n",
              "      <td>30359</td>\n",
              "      <td>4324</td>\n",
              "    </tr>\n",
              "  </tbody>\n",
              "</table>\n",
              "</div>"
            ],
            "text/plain": [
              "    customer_id  order_date  order_hour  customer_order_rank  is_failed  \\\n",
              "0  000097eabfd9  2015-06-20          19             1.0               0   \n",
              "1  0000e2c6d9be  2016-01-29          20             1.0               0   \n",
              "2  000133bb597f  2017-02-26          19             1.0               0   \n",
              "\n",
              "   voucher_amount  delivery_fee  amount_paid  restaurant_id  city_id  \\\n",
              "0             0.0         0.000     11.46960        5803498    20326   \n",
              "1             0.0         0.000      9.55800      239303498    76547   \n",
              "2             0.0         0.493      5.93658      206463498    33833   \n",
              "\n",
              "   payment_id  platform_id  transmission_id  \n",
              "0        1779        30231            4356   \n",
              "1        1619        30359            4356   \n",
              "2        1619        30359            4324   "
            ]
          },
          "metadata": {
            "tags": []
          },
          "execution_count": 7
        }
      ]
    },
    {
      "cell_type": "code",
      "metadata": {
        "id": "lypwXjWLMIEq",
        "colab_type": "code",
        "colab": {
          "base_uri": "https://localhost:8080/",
          "height": 158
        },
        "outputId": "f6ca795d-6343-40f0-8cf3-0a0a61077a6a"
      },
      "source": [
        "# df_label: shape and first few records\n",
        "\n",
        "print(df_label.shape)\n",
        "df_label.head(3)"
      ],
      "execution_count": 8,
      "outputs": [
        {
          "output_type": "stream",
          "text": [
            "(245455, 2)\n"
          ],
          "name": "stdout"
        },
        {
          "output_type": "execute_result",
          "data": {
            "text/html": [
              "<div>\n",
              "<style scoped>\n",
              "    .dataframe tbody tr th:only-of-type {\n",
              "        vertical-align: middle;\n",
              "    }\n",
              "\n",
              "    .dataframe tbody tr th {\n",
              "        vertical-align: top;\n",
              "    }\n",
              "\n",
              "    .dataframe thead th {\n",
              "        text-align: right;\n",
              "    }\n",
              "</style>\n",
              "<table border=\"1\" class=\"dataframe\">\n",
              "  <thead>\n",
              "    <tr style=\"text-align: right;\">\n",
              "      <th></th>\n",
              "      <th>customer_id</th>\n",
              "      <th>is_returning_customer</th>\n",
              "    </tr>\n",
              "  </thead>\n",
              "  <tbody>\n",
              "    <tr>\n",
              "      <th>0</th>\n",
              "      <td>000097eabfd9</td>\n",
              "      <td>0</td>\n",
              "    </tr>\n",
              "    <tr>\n",
              "      <th>1</th>\n",
              "      <td>0000e2c6d9be</td>\n",
              "      <td>0</td>\n",
              "    </tr>\n",
              "    <tr>\n",
              "      <th>2</th>\n",
              "      <td>000133bb597f</td>\n",
              "      <td>1</td>\n",
              "    </tr>\n",
              "  </tbody>\n",
              "</table>\n",
              "</div>"
            ],
            "text/plain": [
              "    customer_id  is_returning_customer\n",
              "0  000097eabfd9               0       \n",
              "1  0000e2c6d9be               0       \n",
              "2  000133bb597f               1       "
            ]
          },
          "metadata": {
            "tags": []
          },
          "execution_count": 8
        }
      ]
    },
    {
      "cell_type": "code",
      "metadata": {
        "id": "6KaZSFytMNqq",
        "colab_type": "code",
        "colab": {
          "base_uri": "https://localhost:8080/",
          "height": 52
        },
        "outputId": "d7f32fbb-b1f6-468f-e8e3-8880fe4b9587"
      },
      "source": [
        "# Number of unique customers in both the datasets\n",
        "\n",
        "print(f'df_order: {df_order.customer_id.nunique()}')\n",
        "print(f'df_label: {df_label.customer_id.nunique()}')"
      ],
      "execution_count": 9,
      "outputs": [
        {
          "output_type": "stream",
          "text": [
            "df_order: 245455\n",
            "df_label: 245455\n"
          ],
          "name": "stdout"
        }
      ]
    },
    {
      "cell_type": "markdown",
      "metadata": {
        "id": "kbSf9rM-MnkS",
        "colab_type": "text"
      },
      "source": [
        "* As mentioned in the problem document, it seems like multiple records are present for a single customer (Historical data)\n",
        "\n",
        "* In both order and label datasets, #unique customers are same.\n",
        "\n",
        "* Before merging both the datasets, need to check the intersection of the unique customer_id"
      ]
    },
    {
      "cell_type": "code",
      "metadata": {
        "id": "VS_FKH6PMkSi",
        "colab_type": "code",
        "colab": {
          "base_uri": "https://localhost:8080/",
          "height": 35
        },
        "outputId": "e844879b-e9ed-48a6-bda6-bf40743ecede"
      },
      "source": [
        "# Intersection of unique customers in both the datasets\n",
        "\n",
        "cust_intersect = pd.merge(df_order[\"customer_id\"], df_label[\"customer_id\"], how='inner', on=['customer_id'])\n",
        "print(f'Number of common unique customers in both the datasets: {cust_intersect[\"customer_id\"].nunique()}')"
      ],
      "execution_count": 10,
      "outputs": [
        {
          "output_type": "stream",
          "text": [
            "Number of common unique customers in both the datasets: 245455\n"
          ],
          "name": "stdout"
        }
      ]
    },
    {
      "cell_type": "markdown",
      "metadata": {
        "id": "Net8RfLKNaoD",
        "colab_type": "text"
      },
      "source": [
        "* This confirms, all the unique customer_id in both the datasets are same.\n",
        "\n",
        "* So, I will try to extract all the features by grouping, aggregating and other thought process. And then will merge the target variable from the label dataset\n",
        "\n",
        "* For now, I can make the df_order as the primary dataset for independent feature extraction."
      ]
    },
    {
      "cell_type": "code",
      "metadata": {
        "id": "rV4LRdlVNTxq",
        "colab_type": "code",
        "colab": {
          "base_uri": "https://localhost:8080/",
          "height": 364
        },
        "outputId": "802216e9-f7db-4883-d0cf-817206dfe709"
      },
      "source": [
        "# Datatypes overview of the order datasets\n",
        "\n",
        "df = df_order.copy()\n",
        "df.info()"
      ],
      "execution_count": 11,
      "outputs": [
        {
          "output_type": "stream",
          "text": [
            "<class 'pandas.core.frame.DataFrame'>\n",
            "RangeIndex: 786600 entries, 0 to 786599\n",
            "Data columns (total 13 columns):\n",
            " #   Column               Non-Null Count   Dtype  \n",
            "---  ------               --------------   -----  \n",
            " 0   customer_id          786600 non-null  object \n",
            " 1   order_date           786600 non-null  object \n",
            " 2   order_hour           786600 non-null  int64  \n",
            " 3   customer_order_rank  761833 non-null  float64\n",
            " 4   is_failed            786600 non-null  int64  \n",
            " 5   voucher_amount       786600 non-null  float64\n",
            " 6   delivery_fee         786600 non-null  float64\n",
            " 7   amount_paid          786600 non-null  float64\n",
            " 8   restaurant_id        786600 non-null  int64  \n",
            " 9   city_id              786600 non-null  int64  \n",
            " 10  payment_id           786600 non-null  int64  \n",
            " 11  platform_id          786600 non-null  int64  \n",
            " 12  transmission_id      786600 non-null  int64  \n",
            "dtypes: float64(4), int64(7), object(2)\n",
            "memory usage: 78.0+ MB\n"
          ],
          "name": "stdout"
        }
      ]
    },
    {
      "cell_type": "markdown",
      "metadata": {
        "id": "VFdYdOVbN6DR",
        "colab_type": "text"
      },
      "source": [
        "* Only **customer_order_rank**  has missing values.\n",
        "* order_date is object, datatype casting is needed for operation."
      ]
    },
    {
      "cell_type": "code",
      "metadata": {
        "id": "rdBEQp5zNyEF",
        "colab_type": "code",
        "colab": {}
      },
      "source": [
        ""
      ],
      "execution_count": null,
      "outputs": []
    }
  ]
}