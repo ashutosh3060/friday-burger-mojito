{
  "nbformat": 4,
  "nbformat_minor": 0,
  "metadata": {
    "colab": {
      "name": "data_transformation.ipynb",
      "provenance": [],
      "collapsed_sections": [],
      "authorship_tag": "ABX9TyNgTXWH/hfi+Tkz79JzCfGe",
      "include_colab_link": true
    },
    "kernelspec": {
      "name": "python3",
      "display_name": "Python 3"
    }
  },
  "cells": [
    {
      "cell_type": "markdown",
      "metadata": {
        "id": "view-in-github",
        "colab_type": "text"
      },
      "source": [
        "<a href=\"https://colab.research.google.com/github/ashutosh3060/friday-burger-mojito/blob/master/data_transformation.ipynb\" target=\"_parent\"><img src=\"https://colab.research.google.com/assets/colab-badge.svg\" alt=\"Open In Colab\"/></a>"
      ]
    },
    {
      "cell_type": "markdown",
      "metadata": {
        "id": "jHRhCQgwIVCA",
        "colab_type": "text"
      },
      "source": [
        "## Table of Contents\n",
        "\n",
        "0. Libraries\n",
        "1. User-Defined Functions\n",
        "2. Import Data and Basic Understanding\n",
        "3. Data Quality Checks   \n",
        "  3.1Duplicate    \n",
        "        3.1.1 Complete row duplicate\n",
        "        3.1.2 Unique Id duplicate\n",
        "  3.2 Missing value\n",
        "4. Feature Engineering\n",
        "5. Save Final Dataset with new features"
      ]
    },
    {
      "cell_type": "markdown",
      "metadata": {
        "id": "WWrAC-a5I7SY",
        "colab_type": "text"
      },
      "source": [
        "## 0. Libraries "
      ]
    },
    {
      "cell_type": "code",
      "metadata": {
        "id": "_lQ9nucSGhMk",
        "colab_type": "code",
        "colab": {}
      },
      "source": [
        "# warnings\n",
        "import warnings\n",
        "warnings.filterwarnings(\"ignore\")\n",
        "\n",
        "# Numpy, Pandas\n",
        "import numpy as np\n",
        "import pandas as pd\n",
        "\n",
        "# Display settings\n",
        "pd.set_option('display.max_rows', 500)\n",
        "pd.set_option('display.max_columns', 100)\n",
        "pd.set_option('display.max_colwidth', 15)"
      ],
      "execution_count": 1,
      "outputs": []
    },
    {
      "cell_type": "markdown",
      "metadata": {
        "id": "CreG3lWZKVdO",
        "colab_type": "text"
      },
      "source": [
        "## 1. User-defined Functions"
      ]
    },
    {
      "cell_type": "code",
      "metadata": {
        "id": "CsI3ZNxrJluH",
        "colab_type": "code",
        "colab": {}
      },
      "source": [
        "def null_perc_check (df):\n",
        "    '''\n",
        "    Calculates missing value count and percentage for all the columns in a dataframe\n",
        "\n",
        "    Inputs\n",
        "    -------\n",
        "    df : dataframe\n",
        "        The dataframe for which missing value distribution needs to checked\n",
        "\n",
        "    Output\n",
        "    -------\n",
        "    dataframe\n",
        "        a dataframe showing missing value count and percentage for all the columns\n",
        "    '''\n",
        "    missing_value_df = pd.DataFrame(index = df.keys(), data =df.isnull().sum(), columns = ['Missing_Value_Count'])\n",
        "    missing_value_df['Missing_Value_Percentage'] = np.round(((df.isnull().mean())*100),1)\n",
        "    sorted_df = missing_value_df.sort_values('Missing_Value_Count',ascending= False)\n",
        "    return sorted_df"
      ],
      "execution_count": 15,
      "outputs": []
    },
    {
      "cell_type": "markdown",
      "metadata": {
        "id": "eVTWl1z4LdsH",
        "colab_type": "text"
      },
      "source": [
        "## 2. Import Data and Basic Understanding"
      ]
    },
    {
      "cell_type": "code",
      "metadata": {
        "id": "sU74VMXyLhXf",
        "colab_type": "code",
        "colab": {}
      },
      "source": [
        "# Define the path, filename\n",
        "\n",
        "order_path = \"/content/\"\n",
        "order_file = \"machine_learning_challenge_order_data.csv\"\n",
        "label_path = \"/content/\"\n",
        "label_file = \"machine_learning_challenge_labeled_data.csv\""
      ],
      "execution_count": 3,
      "outputs": []
    },
    {
      "cell_type": "code",
      "metadata": {
        "id": "yYjqLPhTLto_",
        "colab_type": "code",
        "colab": {}
      },
      "source": [
        "# import the dataset as a dataframe\n",
        "\n",
        "df_order = pd.read_csv(order_path+order_file)\n",
        "df_label = pd.read_csv(label_path+label_file)"
      ],
      "execution_count": 4,
      "outputs": []
    },
    {
      "cell_type": "code",
      "metadata": {
        "id": "6VETccoIMDKi",
        "colab_type": "code",
        "colab": {
          "base_uri": "https://localhost:8080/",
          "height": 178
        },
        "outputId": "e1ff52fd-2b77-4060-aa9e-bfd7952d0e95"
      },
      "source": [
        "# df_order: shape and first few records\n",
        "\n",
        "print(df_order.shape)\n",
        "df_order.head(3)"
      ],
      "execution_count": 7,
      "outputs": [
        {
          "output_type": "stream",
          "text": [
            "(786600, 13)\n"
          ],
          "name": "stdout"
        },
        {
          "output_type": "execute_result",
          "data": {
            "text/html": [
              "<div>\n",
              "<style scoped>\n",
              "    .dataframe tbody tr th:only-of-type {\n",
              "        vertical-align: middle;\n",
              "    }\n",
              "\n",
              "    .dataframe tbody tr th {\n",
              "        vertical-align: top;\n",
              "    }\n",
              "\n",
              "    .dataframe thead th {\n",
              "        text-align: right;\n",
              "    }\n",
              "</style>\n",
              "<table border=\"1\" class=\"dataframe\">\n",
              "  <thead>\n",
              "    <tr style=\"text-align: right;\">\n",
              "      <th></th>\n",
              "      <th>customer_id</th>\n",
              "      <th>order_date</th>\n",
              "      <th>order_hour</th>\n",
              "      <th>customer_order_rank</th>\n",
              "      <th>is_failed</th>\n",
              "      <th>voucher_amount</th>\n",
              "      <th>delivery_fee</th>\n",
              "      <th>amount_paid</th>\n",
              "      <th>restaurant_id</th>\n",
              "      <th>city_id</th>\n",
              "      <th>payment_id</th>\n",
              "      <th>platform_id</th>\n",
              "      <th>transmission_id</th>\n",
              "    </tr>\n",
              "  </thead>\n",
              "  <tbody>\n",
              "    <tr>\n",
              "      <th>0</th>\n",
              "      <td>000097eabfd9</td>\n",
              "      <td>2015-06-20</td>\n",
              "      <td>19</td>\n",
              "      <td>1.0</td>\n",
              "      <td>0</td>\n",
              "      <td>0.0</td>\n",
              "      <td>0.000</td>\n",
              "      <td>11.46960</td>\n",
              "      <td>5803498</td>\n",
              "      <td>20326</td>\n",
              "      <td>1779</td>\n",
              "      <td>30231</td>\n",
              "      <td>4356</td>\n",
              "    </tr>\n",
              "    <tr>\n",
              "      <th>1</th>\n",
              "      <td>0000e2c6d9be</td>\n",
              "      <td>2016-01-29</td>\n",
              "      <td>20</td>\n",
              "      <td>1.0</td>\n",
              "      <td>0</td>\n",
              "      <td>0.0</td>\n",
              "      <td>0.000</td>\n",
              "      <td>9.55800</td>\n",
              "      <td>239303498</td>\n",
              "      <td>76547</td>\n",
              "      <td>1619</td>\n",
              "      <td>30359</td>\n",
              "      <td>4356</td>\n",
              "    </tr>\n",
              "    <tr>\n",
              "      <th>2</th>\n",
              "      <td>000133bb597f</td>\n",
              "      <td>2017-02-26</td>\n",
              "      <td>19</td>\n",
              "      <td>1.0</td>\n",
              "      <td>0</td>\n",
              "      <td>0.0</td>\n",
              "      <td>0.493</td>\n",
              "      <td>5.93658</td>\n",
              "      <td>206463498</td>\n",
              "      <td>33833</td>\n",
              "      <td>1619</td>\n",
              "      <td>30359</td>\n",
              "      <td>4324</td>\n",
              "    </tr>\n",
              "  </tbody>\n",
              "</table>\n",
              "</div>"
            ],
            "text/plain": [
              "    customer_id  order_date  order_hour  customer_order_rank  is_failed  \\\n",
              "0  000097eabfd9  2015-06-20          19             1.0               0   \n",
              "1  0000e2c6d9be  2016-01-29          20             1.0               0   \n",
              "2  000133bb597f  2017-02-26          19             1.0               0   \n",
              "\n",
              "   voucher_amount  delivery_fee  amount_paid  restaurant_id  city_id  \\\n",
              "0             0.0         0.000     11.46960        5803498    20326   \n",
              "1             0.0         0.000      9.55800      239303498    76547   \n",
              "2             0.0         0.493      5.93658      206463498    33833   \n",
              "\n",
              "   payment_id  platform_id  transmission_id  \n",
              "0        1779        30231            4356   \n",
              "1        1619        30359            4356   \n",
              "2        1619        30359            4324   "
            ]
          },
          "metadata": {
            "tags": []
          },
          "execution_count": 7
        }
      ]
    },
    {
      "cell_type": "code",
      "metadata": {
        "id": "lypwXjWLMIEq",
        "colab_type": "code",
        "colab": {
          "base_uri": "https://localhost:8080/",
          "height": 158
        },
        "outputId": "f6ca795d-6343-40f0-8cf3-0a0a61077a6a"
      },
      "source": [
        "# df_label: shape and first few records\n",
        "\n",
        "print(df_label.shape)\n",
        "df_label.head(3)"
      ],
      "execution_count": 8,
      "outputs": [
        {
          "output_type": "stream",
          "text": [
            "(245455, 2)\n"
          ],
          "name": "stdout"
        },
        {
          "output_type": "execute_result",
          "data": {
            "text/html": [
              "<div>\n",
              "<style scoped>\n",
              "    .dataframe tbody tr th:only-of-type {\n",
              "        vertical-align: middle;\n",
              "    }\n",
              "\n",
              "    .dataframe tbody tr th {\n",
              "        vertical-align: top;\n",
              "    }\n",
              "\n",
              "    .dataframe thead th {\n",
              "        text-align: right;\n",
              "    }\n",
              "</style>\n",
              "<table border=\"1\" class=\"dataframe\">\n",
              "  <thead>\n",
              "    <tr style=\"text-align: right;\">\n",
              "      <th></th>\n",
              "      <th>customer_id</th>\n",
              "      <th>is_returning_customer</th>\n",
              "    </tr>\n",
              "  </thead>\n",
              "  <tbody>\n",
              "    <tr>\n",
              "      <th>0</th>\n",
              "      <td>000097eabfd9</td>\n",
              "      <td>0</td>\n",
              "    </tr>\n",
              "    <tr>\n",
              "      <th>1</th>\n",
              "      <td>0000e2c6d9be</td>\n",
              "      <td>0</td>\n",
              "    </tr>\n",
              "    <tr>\n",
              "      <th>2</th>\n",
              "      <td>000133bb597f</td>\n",
              "      <td>1</td>\n",
              "    </tr>\n",
              "  </tbody>\n",
              "</table>\n",
              "</div>"
            ],
            "text/plain": [
              "    customer_id  is_returning_customer\n",
              "0  000097eabfd9               0       \n",
              "1  0000e2c6d9be               0       \n",
              "2  000133bb597f               1       "
            ]
          },
          "metadata": {
            "tags": []
          },
          "execution_count": 8
        }
      ]
    },
    {
      "cell_type": "code",
      "metadata": {
        "id": "6KaZSFytMNqq",
        "colab_type": "code",
        "colab": {
          "base_uri": "https://localhost:8080/",
          "height": 52
        },
        "outputId": "d7f32fbb-b1f6-468f-e8e3-8880fe4b9587"
      },
      "source": [
        "# Number of unique customers in both the datasets\n",
        "\n",
        "print(f'df_order: {df_order.customer_id.nunique()}')\n",
        "print(f'df_label: {df_label.customer_id.nunique()}')"
      ],
      "execution_count": 9,
      "outputs": [
        {
          "output_type": "stream",
          "text": [
            "df_order: 245455\n",
            "df_label: 245455\n"
          ],
          "name": "stdout"
        }
      ]
    },
    {
      "cell_type": "markdown",
      "metadata": {
        "id": "kbSf9rM-MnkS",
        "colab_type": "text"
      },
      "source": [
        "* As mentioned in the problem document, it seems like multiple records are present for a single customer (Historical data)\n",
        "\n",
        "* In both order and label datasets, #unique customers are same.\n",
        "\n",
        "* Before merging both the datasets, need to check the intersection of the unique customer_id"
      ]
    },
    {
      "cell_type": "code",
      "metadata": {
        "id": "VS_FKH6PMkSi",
        "colab_type": "code",
        "colab": {
          "base_uri": "https://localhost:8080/",
          "height": 35
        },
        "outputId": "e844879b-e9ed-48a6-bda6-bf40743ecede"
      },
      "source": [
        "# Intersection of unique customers in both the datasets\n",
        "\n",
        "cust_intersect = pd.merge(df_order[\"customer_id\"], df_label[\"customer_id\"], how='inner', on=['customer_id'])\n",
        "print(f'Number of common unique customers in both the datasets: {cust_intersect[\"customer_id\"].nunique()}')"
      ],
      "execution_count": 10,
      "outputs": [
        {
          "output_type": "stream",
          "text": [
            "Number of common unique customers in both the datasets: 245455\n"
          ],
          "name": "stdout"
        }
      ]
    },
    {
      "cell_type": "markdown",
      "metadata": {
        "id": "Net8RfLKNaoD",
        "colab_type": "text"
      },
      "source": [
        "* This confirms, all the unique customer_id in both the datasets are same.\n",
        "\n",
        "* So, I will try to extract all the features by grouping, aggregating and other thought process. And then will merge the target variable from the label dataset\n",
        "\n",
        "* For now, I can make the df_order as the primary dataset for independent feature extraction."
      ]
    },
    {
      "cell_type": "code",
      "metadata": {
        "id": "rV4LRdlVNTxq",
        "colab_type": "code",
        "colab": {
          "base_uri": "https://localhost:8080/",
          "height": 364
        },
        "outputId": "802216e9-f7db-4883-d0cf-817206dfe709"
      },
      "source": [
        "# Datatypes overview of the order dataset\n",
        "\n",
        "df = df_order.copy()\n",
        "df.info()"
      ],
      "execution_count": 11,
      "outputs": [
        {
          "output_type": "stream",
          "text": [
            "<class 'pandas.core.frame.DataFrame'>\n",
            "RangeIndex: 786600 entries, 0 to 786599\n",
            "Data columns (total 13 columns):\n",
            " #   Column               Non-Null Count   Dtype  \n",
            "---  ------               --------------   -----  \n",
            " 0   customer_id          786600 non-null  object \n",
            " 1   order_date           786600 non-null  object \n",
            " 2   order_hour           786600 non-null  int64  \n",
            " 3   customer_order_rank  761833 non-null  float64\n",
            " 4   is_failed            786600 non-null  int64  \n",
            " 5   voucher_amount       786600 non-null  float64\n",
            " 6   delivery_fee         786600 non-null  float64\n",
            " 7   amount_paid          786600 non-null  float64\n",
            " 8   restaurant_id        786600 non-null  int64  \n",
            " 9   city_id              786600 non-null  int64  \n",
            " 10  payment_id           786600 non-null  int64  \n",
            " 11  platform_id          786600 non-null  int64  \n",
            " 12  transmission_id      786600 non-null  int64  \n",
            "dtypes: float64(4), int64(7), object(2)\n",
            "memory usage: 78.0+ MB\n"
          ],
          "name": "stdout"
        }
      ]
    },
    {
      "cell_type": "markdown",
      "metadata": {
        "id": "VFdYdOVbN6DR",
        "colab_type": "text"
      },
      "source": [
        "* Only **customer_order_rank**  has missing values.\n",
        "* order_date is object, datatype casting is needed for operation."
      ]
    },
    {
      "cell_type": "code",
      "metadata": {
        "id": "1lXT-hyeReXk",
        "colab_type": "code",
        "colab": {
          "base_uri": "https://localhost:8080/",
          "height": 173
        },
        "outputId": "eb3c5445-b838-4bf8-805c-18ecb4c2558d"
      },
      "source": [
        "# Datatypes overview of the customer label dataset\n",
        "\n",
        "df_label.info()"
      ],
      "execution_count": 21,
      "outputs": [
        {
          "output_type": "stream",
          "text": [
            "<class 'pandas.core.frame.DataFrame'>\n",
            "RangeIndex: 245455 entries, 0 to 245454\n",
            "Data columns (total 2 columns):\n",
            " #   Column                 Non-Null Count   Dtype \n",
            "---  ------                 --------------   ----- \n",
            " 0   customer_id            245455 non-null  object\n",
            " 1   is_returning_customer  245455 non-null  int64 \n",
            "dtypes: int64(1), object(1)\n",
            "memory usage: 3.7+ MB\n"
          ],
          "name": "stdout"
        }
      ]
    },
    {
      "cell_type": "markdown",
      "metadata": {
        "id": "kAmL5nA9Rqvm",
        "colab_type": "text"
      },
      "source": [
        "* No missing values\n",
        "* Also the datatype seems okay."
      ]
    },
    {
      "cell_type": "markdown",
      "metadata": {
        "id": "EIvnsVS-PPdo",
        "colab_type": "text"
      },
      "source": [
        "## 3. Data Quality Checks"
      ]
    },
    {
      "cell_type": "markdown",
      "metadata": {
        "id": "vYn2DmPmPS1z",
        "colab_type": "text"
      },
      "source": [
        "### 3.1 Duplicate record checks"
      ]
    },
    {
      "cell_type": "markdown",
      "metadata": {
        "id": "cSTjywjWPWgK",
        "colab_type": "text"
      },
      "source": [
        "#### 3.1.1 Complete Row Duplicate"
      ]
    },
    {
      "cell_type": "code",
      "metadata": {
        "id": "rdBEQp5zNyEF",
        "colab_type": "code",
        "colab": {
          "base_uri": "https://localhost:8080/",
          "height": 69
        },
        "outputId": "0eddd8ed-4700-42d2-fa70-8df2c7114ba9"
      },
      "source": [
        "# Check duplicates\n",
        "\n",
        "check_dup = df.duplicated(subset=None, keep='first')\n",
        "print(f'Number of Total records:  {df.shape[0]}')\n",
        "print(f'Number of Unique records: {check_dup.shape[0]}')\n",
        "print(f'Number of Duplicates: {df.shape[0] - check_dup.shape[0]}')"
      ],
      "execution_count": 12,
      "outputs": [
        {
          "output_type": "stream",
          "text": [
            "Number of Total records:  786600\n",
            "Number of Unique records: 786600\n",
            "Number of Duplicates: 0\n"
          ],
          "name": "stdout"
        }
      ]
    },
    {
      "cell_type": "markdown",
      "metadata": {
        "id": "TQk6LWfqPlLl",
        "colab_type": "text"
      },
      "source": [
        "* Both the total and unique records are same, so there are no duplicate present."
      ]
    },
    {
      "cell_type": "markdown",
      "metadata": {
        "id": "q4N0ChtFPuLs",
        "colab_type": "text"
      },
      "source": [
        "#### 3.1.2 customer_id (unique identifier) Duplicate"
      ]
    },
    {
      "cell_type": "code",
      "metadata": {
        "id": "T6vLQu8BPkVs",
        "colab_type": "code",
        "colab": {
          "base_uri": "https://localhost:8080/",
          "height": 225
        },
        "outputId": "f6d12858-3ac0-4115-cced-f3ad6425b568"
      },
      "source": [
        "# Number of records for each customer_id\n",
        "\n",
        "df[\"customer_id\"].value_counts()"
      ],
      "execution_count": 13,
      "outputs": [
        {
          "output_type": "execute_result",
          "data": {
            "text/plain": [
              "15edce943edd    386\n",
              "8745a335e9cf    288\n",
              "d956116d863d    286\n",
              "0063666607bb    273\n",
              "ae60dce05485    270\n",
              "               ... \n",
              "ba7d5a6e6638      1\n",
              "4324cbb32eb8      1\n",
              "9aafd98d48b6      1\n",
              "bea68ff2ad49      1\n",
              "ca16c3a1e1af      1\n",
              "Name: customer_id, Length: 245455, dtype: int64"
            ]
          },
          "metadata": {
            "tags": []
          },
          "execution_count": 13
        }
      ]
    },
    {
      "cell_type": "markdown",
      "metadata": {
        "id": "0Pk0L1DLQLws",
        "colab_type": "text"
      },
      "source": [
        "* As mentioned in the Data Dictionary, a customer_id can appear for multiple times as multiple orders in different dates are present, so a valid business scenario."
      ]
    },
    {
      "cell_type": "markdown",
      "metadata": {
        "id": "EpM58KuuQYqR",
        "colab_type": "text"
      },
      "source": [
        "### 3.2 Null check - Missing value percentage"
      ]
    },
    {
      "cell_type": "code",
      "metadata": {
        "id": "TrKeJ7CvQKuW",
        "colab_type": "code",
        "colab": {
          "base_uri": "https://localhost:8080/",
          "height": 447
        },
        "outputId": "b92f27c6-dc15-4e43-b8a3-3395588b75da"
      },
      "source": [
        "# Missing value count and percentage check\n",
        "\n",
        "null_perc_check(df)"
      ],
      "execution_count": 16,
      "outputs": [
        {
          "output_type": "execute_result",
          "data": {
            "text/html": [
              "<div>\n",
              "<style scoped>\n",
              "    .dataframe tbody tr th:only-of-type {\n",
              "        vertical-align: middle;\n",
              "    }\n",
              "\n",
              "    .dataframe tbody tr th {\n",
              "        vertical-align: top;\n",
              "    }\n",
              "\n",
              "    .dataframe thead th {\n",
              "        text-align: right;\n",
              "    }\n",
              "</style>\n",
              "<table border=\"1\" class=\"dataframe\">\n",
              "  <thead>\n",
              "    <tr style=\"text-align: right;\">\n",
              "      <th></th>\n",
              "      <th>Missing_Value_Count</th>\n",
              "      <th>Missing_Value_Percentage</th>\n",
              "    </tr>\n",
              "  </thead>\n",
              "  <tbody>\n",
              "    <tr>\n",
              "      <th>customer_order_rank</th>\n",
              "      <td>24767</td>\n",
              "      <td>3.1</td>\n",
              "    </tr>\n",
              "    <tr>\n",
              "      <th>customer_id</th>\n",
              "      <td>0</td>\n",
              "      <td>0.0</td>\n",
              "    </tr>\n",
              "    <tr>\n",
              "      <th>order_date</th>\n",
              "      <td>0</td>\n",
              "      <td>0.0</td>\n",
              "    </tr>\n",
              "    <tr>\n",
              "      <th>order_hour</th>\n",
              "      <td>0</td>\n",
              "      <td>0.0</td>\n",
              "    </tr>\n",
              "    <tr>\n",
              "      <th>is_failed</th>\n",
              "      <td>0</td>\n",
              "      <td>0.0</td>\n",
              "    </tr>\n",
              "    <tr>\n",
              "      <th>voucher_amount</th>\n",
              "      <td>0</td>\n",
              "      <td>0.0</td>\n",
              "    </tr>\n",
              "    <tr>\n",
              "      <th>delivery_fee</th>\n",
              "      <td>0</td>\n",
              "      <td>0.0</td>\n",
              "    </tr>\n",
              "    <tr>\n",
              "      <th>amount_paid</th>\n",
              "      <td>0</td>\n",
              "      <td>0.0</td>\n",
              "    </tr>\n",
              "    <tr>\n",
              "      <th>restaurant_id</th>\n",
              "      <td>0</td>\n",
              "      <td>0.0</td>\n",
              "    </tr>\n",
              "    <tr>\n",
              "      <th>city_id</th>\n",
              "      <td>0</td>\n",
              "      <td>0.0</td>\n",
              "    </tr>\n",
              "    <tr>\n",
              "      <th>payment_id</th>\n",
              "      <td>0</td>\n",
              "      <td>0.0</td>\n",
              "    </tr>\n",
              "    <tr>\n",
              "      <th>platform_id</th>\n",
              "      <td>0</td>\n",
              "      <td>0.0</td>\n",
              "    </tr>\n",
              "    <tr>\n",
              "      <th>transmission_id</th>\n",
              "      <td>0</td>\n",
              "      <td>0.0</td>\n",
              "    </tr>\n",
              "  </tbody>\n",
              "</table>\n",
              "</div>"
            ],
            "text/plain": [
              "                 Missing_Value_Count  Missing_Value_Percentage\n",
              "customer_ord...           24767                  3.1          \n",
              "customer_id                   0                  0.0          \n",
              "order_date                    0                  0.0          \n",
              "order_hour                    0                  0.0          \n",
              "is_failed                     0                  0.0          \n",
              "voucher_amount                0                  0.0          \n",
              "delivery_fee                  0                  0.0          \n",
              "amount_paid                   0                  0.0          \n",
              "restaurant_id                 0                  0.0          \n",
              "city_id                       0                  0.0          \n",
              "payment_id                    0                  0.0          \n",
              "platform_id                   0                  0.0          \n",
              "transmission_id               0                  0.0          "
            ]
          },
          "metadata": {
            "tags": []
          },
          "execution_count": 16
        }
      ]
    },
    {
      "cell_type": "markdown",
      "metadata": {
        "id": "jg1kzy70Qou4",
        "colab_type": "text"
      },
      "source": [
        "* There are no missing values except for customer_order_rank.\n",
        "* customer_order_rank can be null whenever an order is failed.\n",
        "* Once this condition is checked, we can confirm the actual missing percentage of customer_order_rank"
      ]
    },
    {
      "cell_type": "code",
      "metadata": {
        "id": "iZX3RFdlQiNj",
        "colab_type": "code",
        "colab": {
          "base_uri": "https://localhost:8080/",
          "height": 52
        },
        "outputId": "c75e1e52-f9fe-4a11-8c54-e49d7fce4f79"
      },
      "source": [
        "# Check number of failed orders and the customer_order_rank for the same\n",
        "\n",
        "print(f'#Failed orders: {df.loc[df[\"is_failed\"]==1].shape[0]}')\n",
        "print(f'unique customer_rank_order values:  {df.loc[df[\"is_failed\"]==1][\"customer_order_rank\"].unique()}')"
      ],
      "execution_count": 18,
      "outputs": [
        {
          "output_type": "stream",
          "text": [
            "#Failed orders: 24767\n",
            "unique customer_rank_order values:  [nan]\n"
          ],
          "name": "stdout"
        }
      ]
    },
    {
      "cell_type": "markdown",
      "metadata": {
        "id": "WiEn8-wJRPOK",
        "colab_type": "text"
      },
      "source": [
        "1. #Failed orders = #Missing values for customer_order_rank\n",
        "2. For all failed orders, customer_order_rank is null    \n",
        "* Above 2 statements prove that the Nulls are business case wise correct; hence these are not semantically missing values."
      ]
    },
    {
      "cell_type": "code",
      "metadata": {
        "id": "5KahGE8XQ31N",
        "colab_type": "code",
        "colab": {
          "base_uri": "https://localhost:8080/",
          "height": 110
        },
        "outputId": "2544968a-4af0-44e7-f7aa-fac665fd6cc8"
      },
      "source": [
        "# Check the missing value percentage for label dataset\n",
        "\n",
        "null_perc_check(df_label)"
      ],
      "execution_count": 19,
      "outputs": [
        {
          "output_type": "execute_result",
          "data": {
            "text/html": [
              "<div>\n",
              "<style scoped>\n",
              "    .dataframe tbody tr th:only-of-type {\n",
              "        vertical-align: middle;\n",
              "    }\n",
              "\n",
              "    .dataframe tbody tr th {\n",
              "        vertical-align: top;\n",
              "    }\n",
              "\n",
              "    .dataframe thead th {\n",
              "        text-align: right;\n",
              "    }\n",
              "</style>\n",
              "<table border=\"1\" class=\"dataframe\">\n",
              "  <thead>\n",
              "    <tr style=\"text-align: right;\">\n",
              "      <th></th>\n",
              "      <th>Missing_Value_Count</th>\n",
              "      <th>Missing_Value_Percentage</th>\n",
              "    </tr>\n",
              "  </thead>\n",
              "  <tbody>\n",
              "    <tr>\n",
              "      <th>customer_id</th>\n",
              "      <td>0</td>\n",
              "      <td>0.0</td>\n",
              "    </tr>\n",
              "    <tr>\n",
              "      <th>is_returning_customer</th>\n",
              "      <td>0</td>\n",
              "      <td>0.0</td>\n",
              "    </tr>\n",
              "  </tbody>\n",
              "</table>\n",
              "</div>"
            ],
            "text/plain": [
              "                 Missing_Value_Count  Missing_Value_Percentage\n",
              "customer_id                   0                  0.0          \n",
              "is_returning...               0                  0.0          "
            ]
          },
          "metadata": {
            "tags": []
          },
          "execution_count": 19
        }
      ]
    },
    {
      "cell_type": "markdown",
      "metadata": {
        "id": "2mcGppHBR1Cc",
        "colab_type": "text"
      },
      "source": [
        "* There are no missing values for customer label dataset."
      ]
    },
    {
      "cell_type": "markdown",
      "metadata": {
        "id": "IET2pWN_UNLJ",
        "colab_type": "text"
      },
      "source": [
        "## 4. Feature Engineering"
      ]
    },
    {
      "cell_type": "code",
      "metadata": {
        "id": "Gnzpne34USi-",
        "colab_type": "code",
        "colab": {
          "base_uri": "https://localhost:8080/",
          "height": 104
        },
        "outputId": "566d9bf2-9663-4767-af31-b44705e92ff5"
      },
      "source": [
        "df.columns"
      ],
      "execution_count": 22,
      "outputs": [
        {
          "output_type": "execute_result",
          "data": {
            "text/plain": [
              "Index(['customer_id', 'order_date', 'order_hour', 'customer_order_rank',\n",
              "       'is_failed', 'voucher_amount', 'delivery_fee', 'amount_paid',\n",
              "       'restaurant_id', 'city_id', 'payment_id', 'platform_id',\n",
              "       'transmission_id'],\n",
              "      dtype='object')"
            ]
          },
          "metadata": {
            "tags": []
          },
          "execution_count": 22
        }
      ]
    },
    {
      "cell_type": "code",
      "metadata": {
        "id": "Hz7J7lS9X6dC",
        "colab_type": "code",
        "colab": {
          "base_uri": "https://localhost:8080/",
          "height": 222
        },
        "outputId": "adec2390-d385-4c4e-8259-939a7182f70f"
      },
      "source": [
        "df.tail(5)"
      ],
      "execution_count": 30,
      "outputs": [
        {
          "output_type": "execute_result",
          "data": {
            "text/html": [
              "<div>\n",
              "<style scoped>\n",
              "    .dataframe tbody tr th:only-of-type {\n",
              "        vertical-align: middle;\n",
              "    }\n",
              "\n",
              "    .dataframe tbody tr th {\n",
              "        vertical-align: top;\n",
              "    }\n",
              "\n",
              "    .dataframe thead th {\n",
              "        text-align: right;\n",
              "    }\n",
              "</style>\n",
              "<table border=\"1\" class=\"dataframe\">\n",
              "  <thead>\n",
              "    <tr style=\"text-align: right;\">\n",
              "      <th></th>\n",
              "      <th>customer_id</th>\n",
              "      <th>order_date</th>\n",
              "      <th>order_hour</th>\n",
              "      <th>customer_order_rank</th>\n",
              "      <th>is_failed</th>\n",
              "      <th>voucher_amount</th>\n",
              "      <th>delivery_fee</th>\n",
              "      <th>amount_paid</th>\n",
              "      <th>restaurant_id</th>\n",
              "      <th>city_id</th>\n",
              "      <th>payment_id</th>\n",
              "      <th>platform_id</th>\n",
              "      <th>transmission_id</th>\n",
              "    </tr>\n",
              "  </thead>\n",
              "  <tbody>\n",
              "    <tr>\n",
              "      <th>786595</th>\n",
              "      <td>fffe9d5a8d41</td>\n",
              "      <td>2016-09-30</td>\n",
              "      <td>20</td>\n",
              "      <td>NaN</td>\n",
              "      <td>1</td>\n",
              "      <td>0.0</td>\n",
              "      <td>0.0</td>\n",
              "      <td>10.7262</td>\n",
              "      <td>983498</td>\n",
              "      <td>10346</td>\n",
              "      <td>1779</td>\n",
              "      <td>29463</td>\n",
              "      <td>212</td>\n",
              "    </tr>\n",
              "    <tr>\n",
              "      <th>786596</th>\n",
              "      <td>ffff347c3cfa</td>\n",
              "      <td>2016-08-17</td>\n",
              "      <td>21</td>\n",
              "      <td>1.0</td>\n",
              "      <td>0</td>\n",
              "      <td>0.0</td>\n",
              "      <td>0.0</td>\n",
              "      <td>7.5933</td>\n",
              "      <td>52893498</td>\n",
              "      <td>41978</td>\n",
              "      <td>1619</td>\n",
              "      <td>30359</td>\n",
              "      <td>4356</td>\n",
              "    </tr>\n",
              "    <tr>\n",
              "      <th>786597</th>\n",
              "      <td>ffff347c3cfa</td>\n",
              "      <td>2016-09-15</td>\n",
              "      <td>21</td>\n",
              "      <td>2.0</td>\n",
              "      <td>0</td>\n",
              "      <td>0.0</td>\n",
              "      <td>0.0</td>\n",
              "      <td>5.9472</td>\n",
              "      <td>164653498</td>\n",
              "      <td>41978</td>\n",
              "      <td>1619</td>\n",
              "      <td>30359</td>\n",
              "      <td>4356</td>\n",
              "    </tr>\n",
              "    <tr>\n",
              "      <th>786598</th>\n",
              "      <td>ffff4519b52d</td>\n",
              "      <td>2016-04-02</td>\n",
              "      <td>19</td>\n",
              "      <td>1.0</td>\n",
              "      <td>0</td>\n",
              "      <td>0.0</td>\n",
              "      <td>0.0</td>\n",
              "      <td>21.7710</td>\n",
              "      <td>16363498</td>\n",
              "      <td>80562</td>\n",
              "      <td>1491</td>\n",
              "      <td>29751</td>\n",
              "      <td>4228</td>\n",
              "    </tr>\n",
              "    <tr>\n",
              "      <th>786599</th>\n",
              "      <td>ffffccbfc8a4</td>\n",
              "      <td>2015-05-30</td>\n",
              "      <td>20</td>\n",
              "      <td>1.0</td>\n",
              "      <td>0</td>\n",
              "      <td>0.0</td>\n",
              "      <td>0.0</td>\n",
              "      <td>16.4610</td>\n",
              "      <td>150293498</td>\n",
              "      <td>45952</td>\n",
              "      <td>1619</td>\n",
              "      <td>29463</td>\n",
              "      <td>4324</td>\n",
              "    </tr>\n",
              "  </tbody>\n",
              "</table>\n",
              "</div>"
            ],
            "text/plain": [
              "         customer_id  order_date  order_hour  customer_order_rank  is_failed  \\\n",
              "786595  fffe9d5a8d41  2016-09-30          20             NaN               1   \n",
              "786596  ffff347c3cfa  2016-08-17          21             1.0               0   \n",
              "786597  ffff347c3cfa  2016-09-15          21             2.0               0   \n",
              "786598  ffff4519b52d  2016-04-02          19             1.0               0   \n",
              "786599  ffffccbfc8a4  2015-05-30          20             1.0               0   \n",
              "\n",
              "        voucher_amount  delivery_fee  amount_paid  restaurant_id  city_id  \\\n",
              "786595             0.0           0.0      10.7262         983498    10346   \n",
              "786596             0.0           0.0       7.5933       52893498    41978   \n",
              "786597             0.0           0.0       5.9472      164653498    41978   \n",
              "786598             0.0           0.0      21.7710       16363498    80562   \n",
              "786599             0.0           0.0      16.4610      150293498    45952   \n",
              "\n",
              "        payment_id  platform_id  transmission_id  \n",
              "786595        1779        29463             212   \n",
              "786596        1619        30359            4356   \n",
              "786597        1619        30359            4356   \n",
              "786598        1491        29751            4228   \n",
              "786599        1619        29463            4324   "
            ]
          },
          "metadata": {
            "tags": []
          },
          "execution_count": 30
        }
      ]
    },
    {
      "cell_type": "markdown",
      "metadata": {
        "id": "WFfe5E5UUXHb",
        "colab_type": "text"
      },
      "source": [
        "### List of features to be created\n",
        "\n",
        "**1. How old the customer in business according to order_date**   \n",
        "i.e. need to extract customer's first order date within this 2 years time span   \n",
        "**2. From how many days Customer has not ordered**   \n",
        "i.e. Last order before how many days   \n",
        "**3. Customer ordered for a period of n days (continuously)**   \n",
        "i.e. Difference between first_order_date and last_order_date    \n",
        "**4. Most Common order hour**   \n",
        "i.e. Most occuring / mode of order_hour   \n",
        "**5. Number of successful orders**   \n",
        "i.e. count of customer_order_rank (need to exclude null values)   \n",
        "**6. Number of failed orders**   \n",
        "i.e. count of is_failed==1    \n",
        "**7. Average voucher amount used**      \n",
        "i.e. Mean of voucher amount    \n",
        "**8. Average delivery fee paid**    \n",
        "i.e. Mean of delivery_fee       \n",
        "**9. Average amount paid**    \n",
        "i.e. Mean of voucher amount   \n",
        "**10. Customer has ordered from how many unique number of restaurants**     \n",
        "i.e. # unique restaurant_id         \n",
        "**11. Customer has ordered from how many unique number of cities**     \n",
        "i.e. # unique city_id     \n",
        "**12. Customer has used how many unique number of payment_id**     \n",
        "i.e. # unique payment_id     \n",
        "**13. Customer has ordered from how many unique number of platforms**     \n",
        "i.e. # unique platform_id         \n",
        "**14. Customer has used how many unique number of transmission_id**  "
      ]
    },
    {
      "cell_type": "markdown",
      "metadata": {
        "id": "MzVVSzI0YBqU",
        "colab_type": "text"
      },
      "source": [
        "* Need to think, how to process the failed and successful orders"
      ]
    },
    {
      "cell_type": "code",
      "metadata": {
        "id": "s6TyR3GHX-J0",
        "colab_type": "code",
        "colab": {
          "base_uri": "https://localhost:8080/",
          "height": 87
        },
        "outputId": "4ddbc958-8fd6-4239-8355-32de5d14b1da"
      },
      "source": [
        "## Create copy of original dataset for new feature creation\n",
        "df_ftr_crtn = df.copy()\n",
        "print(df.shape)\n",
        "print(df_ftr_crtn.shape)\n",
        "\n",
        "## Typecasting the date field for operation\n",
        "print(df_ftr_crtn[\"order_date\"].dtypes)\n",
        "df_ftr_crtn[\"order_date\"] = pd.to_datetime(df_ftr_crtn[\"order_date\"])\n",
        "print(df_ftr_crtn[\"order_date\"].dtypes)"
      ],
      "execution_count": 33,
      "outputs": [
        {
          "output_type": "stream",
          "text": [
            "(786600, 13)\n",
            "(786600, 13)\n",
            "object\n",
            "datetime64[ns]\n"
          ],
          "name": "stdout"
        }
      ]
    },
    {
      "cell_type": "markdown",
      "metadata": {
        "id": "yGir7t39deIo",
        "colab_type": "text"
      },
      "source": [
        "1. How old the customer in business according to order_date\n",
        "2. From how many days Customer has not ordered \n",
        "3. Customer ordered for a period of n days (continuously)  "
      ]
    },
    {
      "cell_type": "code",
      "metadata": {
        "id": "Yg7bNDymgXeW",
        "colab_type": "code",
        "colab": {
          "base_uri": "https://localhost:8080/",
          "height": 222
        },
        "outputId": "50557b6b-5204-42c4-a572-46afe57ff371"
      },
      "source": [
        "# days before first, last order and period of continuous orders \n",
        "#(Including failed order for simplicity. This shows customer first interacted and last interacted irrespective of failed order)\n",
        "\n",
        "min_max_order_date = pd.DataFrame(df_ftr_crtn.groupby(\"customer_id\")[\"order_date\"].agg(['min', 'max'])).reset_index()\n",
        "min_max_order_date[\"first_order_before\"] = (pd.to_datetime('2017-03-01') - min_max_order_date[\"min\"]).dt.days\n",
        "min_max_order_date[\"last_order_before\"] = (pd.to_datetime('2017-03-01') - min_max_order_date[\"max\"]).dt.days\n",
        "min_max_order_date[\"cntns_order_period\"] = np.where((min_max_order_date[\"first_order_before\"] - min_max_order_date[\"last_order_before\"])==0, 1, min_max_order_date[\"first_order_before\"] - min_max_order_date[\"last_order_before\"])\n",
        "min_max_order_date.rename(columns={\"min\":\"first_order_date\", \"max\":\"last_order_date\"}, inplace=True)\n",
        "min_max_order_date.tail()"
      ],
      "execution_count": 41,
      "outputs": [
        {
          "output_type": "execute_result",
          "data": {
            "text/html": [
              "<div>\n",
              "<style scoped>\n",
              "    .dataframe tbody tr th:only-of-type {\n",
              "        vertical-align: middle;\n",
              "    }\n",
              "\n",
              "    .dataframe tbody tr th {\n",
              "        vertical-align: top;\n",
              "    }\n",
              "\n",
              "    .dataframe thead th {\n",
              "        text-align: right;\n",
              "    }\n",
              "</style>\n",
              "<table border=\"1\" class=\"dataframe\">\n",
              "  <thead>\n",
              "    <tr style=\"text-align: right;\">\n",
              "      <th></th>\n",
              "      <th>customer_id</th>\n",
              "      <th>first_order_date</th>\n",
              "      <th>last_order_date</th>\n",
              "      <th>first_order_before</th>\n",
              "      <th>last_order_before</th>\n",
              "      <th>cntns_order_period</th>\n",
              "    </tr>\n",
              "  </thead>\n",
              "  <tbody>\n",
              "    <tr>\n",
              "      <th>245450</th>\n",
              "      <td>fffd696eaedd</td>\n",
              "      <td>2015-09-14</td>\n",
              "      <td>2015-09-14</td>\n",
              "      <td>534</td>\n",
              "      <td>534</td>\n",
              "      <td>1</td>\n",
              "    </tr>\n",
              "    <tr>\n",
              "      <th>245451</th>\n",
              "      <td>fffe9d5a8d41</td>\n",
              "      <td>2016-07-31</td>\n",
              "      <td>2016-09-30</td>\n",
              "      <td>213</td>\n",
              "      <td>152</td>\n",
              "      <td>61</td>\n",
              "    </tr>\n",
              "    <tr>\n",
              "      <th>245452</th>\n",
              "      <td>ffff347c3cfa</td>\n",
              "      <td>2016-08-17</td>\n",
              "      <td>2016-09-15</td>\n",
              "      <td>196</td>\n",
              "      <td>167</td>\n",
              "      <td>29</td>\n",
              "    </tr>\n",
              "    <tr>\n",
              "      <th>245453</th>\n",
              "      <td>ffff4519b52d</td>\n",
              "      <td>2016-04-02</td>\n",
              "      <td>2016-04-02</td>\n",
              "      <td>333</td>\n",
              "      <td>333</td>\n",
              "      <td>1</td>\n",
              "    </tr>\n",
              "    <tr>\n",
              "      <th>245454</th>\n",
              "      <td>ffffccbfc8a4</td>\n",
              "      <td>2015-05-30</td>\n",
              "      <td>2015-05-30</td>\n",
              "      <td>641</td>\n",
              "      <td>641</td>\n",
              "      <td>1</td>\n",
              "    </tr>\n",
              "  </tbody>\n",
              "</table>\n",
              "</div>"
            ],
            "text/plain": [
              "         customer_id first_order_date last_order_date  first_order_before  \\\n",
              "245450  fffd696eaedd      2015-09-14       2015-09-14             534       \n",
              "245451  fffe9d5a8d41      2016-07-31       2016-09-30             213       \n",
              "245452  ffff347c3cfa      2016-08-17       2016-09-15             196       \n",
              "245453  ffff4519b52d      2016-04-02       2016-04-02             333       \n",
              "245454  ffffccbfc8a4      2015-05-30       2015-05-30             641       \n",
              "\n",
              "        last_order_before  cntns_order_period  \n",
              "245450             534                  1      \n",
              "245451             152                 61      \n",
              "245452             167                 29      \n",
              "245453             333                  1      \n",
              "245454             641                  1      "
            ]
          },
          "metadata": {
            "tags": []
          },
          "execution_count": 41
        }
      ]
    },
    {
      "cell_type": "markdown",
      "metadata": {
        "id": "jhA94gNBgeH8",
        "colab_type": "text"
      },
      "source": [
        "6. Number of failed orders"
      ]
    },
    {
      "cell_type": "code",
      "metadata": {
        "id": "6xbh-pefgltO",
        "colab_type": "code",
        "colab": {
          "base_uri": "https://localhost:8080/",
          "height": 202
        },
        "outputId": "c9e36890-0041-4384-dc31-92960c92ca23"
      },
      "source": [
        "# Number of Failed orders\n",
        "num_fail_order = pd.DataFrame(df_ftr_crtn.groupby(\"customer_id\")[\"is_failed\"].agg(['sum'])).reset_index()\n",
        "num_fail_order.rename(columns={\"sum\":\"num_fail_order\"}, inplace=True)\n",
        "num_fail_order.tail(5)"
      ],
      "execution_count": 42,
      "outputs": [
        {
          "output_type": "execute_result",
          "data": {
            "text/html": [
              "<div>\n",
              "<style scoped>\n",
              "    .dataframe tbody tr th:only-of-type {\n",
              "        vertical-align: middle;\n",
              "    }\n",
              "\n",
              "    .dataframe tbody tr th {\n",
              "        vertical-align: top;\n",
              "    }\n",
              "\n",
              "    .dataframe thead th {\n",
              "        text-align: right;\n",
              "    }\n",
              "</style>\n",
              "<table border=\"1\" class=\"dataframe\">\n",
              "  <thead>\n",
              "    <tr style=\"text-align: right;\">\n",
              "      <th></th>\n",
              "      <th>customer_id</th>\n",
              "      <th>num_fail_order</th>\n",
              "    </tr>\n",
              "  </thead>\n",
              "  <tbody>\n",
              "    <tr>\n",
              "      <th>245450</th>\n",
              "      <td>fffd696eaedd</td>\n",
              "      <td>0</td>\n",
              "    </tr>\n",
              "    <tr>\n",
              "      <th>245451</th>\n",
              "      <td>fffe9d5a8d41</td>\n",
              "      <td>2</td>\n",
              "    </tr>\n",
              "    <tr>\n",
              "      <th>245452</th>\n",
              "      <td>ffff347c3cfa</td>\n",
              "      <td>0</td>\n",
              "    </tr>\n",
              "    <tr>\n",
              "      <th>245453</th>\n",
              "      <td>ffff4519b52d</td>\n",
              "      <td>0</td>\n",
              "    </tr>\n",
              "    <tr>\n",
              "      <th>245454</th>\n",
              "      <td>ffffccbfc8a4</td>\n",
              "      <td>0</td>\n",
              "    </tr>\n",
              "  </tbody>\n",
              "</table>\n",
              "</div>"
            ],
            "text/plain": [
              "         customer_id  num_fail_order\n",
              "245450  fffd696eaedd               0\n",
              "245451  fffe9d5a8d41               2\n",
              "245452  ffff347c3cfa               0\n",
              "245453  ffff4519b52d               0\n",
              "245454  ffffccbfc8a4               0"
            ]
          },
          "metadata": {
            "tags": []
          },
          "execution_count": 42
        }
      ]
    },
    {
      "cell_type": "markdown",
      "metadata": {
        "id": "PlJaAdmSgs-f",
        "colab_type": "text"
      },
      "source": [
        "* Can we exclude the customers having failed orders can be excluded for other new features creation ?"
      ]
    },
    {
      "cell_type": "code",
      "metadata": {
        "id": "HoA4Ljk-gziw",
        "colab_type": "code",
        "colab": {
          "base_uri": "https://localhost:8080/",
          "height": 52
        },
        "outputId": "f5445548-008b-413a-f937-96174b0a367a"
      },
      "source": [
        "# Check record count excluding all thge failed cases\n",
        "\n",
        "print(df_ftr_crtn.shape)\n",
        "df_ftr_crtn = df_ftr_crtn.loc[df_ftr_crtn[\"is_failed\"]==0]\n",
        "print(df_ftr_crtn.shape)"
      ],
      "execution_count": 44,
      "outputs": [
        {
          "output_type": "stream",
          "text": [
            "(761833, 13)\n",
            "(761833, 13)\n"
          ],
          "name": "stdout"
        }
      ]
    },
    {
      "cell_type": "code",
      "metadata": {
        "id": "n9N8goD_g1z_",
        "colab_type": "code",
        "colab": {
          "base_uri": "https://localhost:8080/",
          "height": 35
        },
        "outputId": "d1604557-fc84-4d89-d1cc-142565050c70"
      },
      "source": [
        "# Create another dataset by keeping only single customer_id\n",
        "\n",
        "df_new_ftr_1 = df_ftr_crtn.drop_duplicates(subset=\"customer_id\", keep=\"first\")\n",
        "print(df_new_ftr_1.shape)"
      ],
      "execution_count": 46,
      "outputs": [
        {
          "output_type": "stream",
          "text": [
            "(244937, 13)\n"
          ],
          "name": "stdout"
        }
      ]
    },
    {
      "cell_type": "code",
      "metadata": {
        "id": "MIhV3gUXhoQN",
        "colab_type": "code",
        "colab": {
          "base_uri": "https://localhost:8080/",
          "height": 156
        },
        "outputId": "d2c9f2e1-23b7-49f3-e5ce-c9846dc47ebc"
      },
      "source": [
        "# Total unique customers and customers having only failed records\n",
        "\n",
        "print('Total unique number of customers:')\n",
        "print(df.customer_id.nunique())\n",
        "print('--'*20)\n",
        "print('Records having only successful orders of customers:')\n",
        "print(df_new_ftr_1.customer_id.nunique())\n",
        "print('--'*20)\n",
        "print('Customers having only failed orders:')\n",
        "print(df.customer_id.nunique() - df_new_ftr_1.shape[0])"
      ],
      "execution_count": 47,
      "outputs": [
        {
          "output_type": "stream",
          "text": [
            "Total unique number of customers:\n",
            "245455\n",
            "----------------------------------------\n",
            "Records having only successful orders of customers:\n",
            "244937\n",
            "----------------------------------------\n",
            "Customers having only failed orders:\n",
            "518\n"
          ],
          "name": "stdout"
        }
      ]
    },
    {
      "cell_type": "markdown",
      "metadata": {
        "id": "-dlSgydAh3PR",
        "colab_type": "text"
      },
      "source": [
        "* After excluding customers who has only failed orders, but no successful order: we get 244937 unique customers.\n",
        "* Let's check if there are any returning customers in those 518 records."
      ]
    },
    {
      "cell_type": "code",
      "metadata": {
        "id": "4XBA_OqZhoUC",
        "colab_type": "code",
        "colab": {
          "base_uri": "https://localhost:8080/",
          "height": 69
        },
        "outputId": "8b2dd196-e547-4b2e-fd8f-96bc1a02d33e"
      },
      "source": [
        "# Create list of unique customers from both the datasets\n",
        "list_df_customer_id = list(df.customer_id.unique())\n",
        "list_df_ftr_crtn_customer_id = list(df_ftr_crtn.customer_id.unique())\n",
        "\n",
        "# Create set for 518 customers which are having only failed records\n",
        "fail_customers = set(list_df_customer_id) - set(list_df_ftr_crtn_customer_id)\n",
        "# Check what is their returning status in label dataset\n",
        "df_label.loc[df_label[\"customer_id\"].isin(list(fail_customers))][\"is_returning_customer\"].value_counts()"
      ],
      "execution_count": 48,
      "outputs": [
        {
          "output_type": "execute_result",
          "data": {
            "text/plain": [
              "1    488\n",
              "0     30\n",
              "Name: is_returning_customer, dtype: int64"
            ]
          },
          "metadata": {
            "tags": []
          },
          "execution_count": 48
        }
      ]
    },
    {
      "cell_type": "markdown",
      "metadata": {
        "id": "te6iBuByh93U",
        "colab_type": "text"
      },
      "source": [
        "* Let's check for a sample record"
      ]
    },
    {
      "cell_type": "code",
      "metadata": {
        "id": "5WhAU10ehoSt",
        "colab_type": "code",
        "colab": {
          "base_uri": "https://localhost:8080/",
          "height": 202
        },
        "outputId": "cdf5cf27-8f30-49ce-b762-48db23f4b0ca"
      },
      "source": [
        "df_fail_customer = pd.DataFrame(fail_customers)\n",
        "df_fail_customer.head()"
      ],
      "execution_count": 49,
      "outputs": [
        {
          "output_type": "execute_result",
          "data": {
            "text/html": [
              "<div>\n",
              "<style scoped>\n",
              "    .dataframe tbody tr th:only-of-type {\n",
              "        vertical-align: middle;\n",
              "    }\n",
              "\n",
              "    .dataframe tbody tr th {\n",
              "        vertical-align: top;\n",
              "    }\n",
              "\n",
              "    .dataframe thead th {\n",
              "        text-align: right;\n",
              "    }\n",
              "</style>\n",
              "<table border=\"1\" class=\"dataframe\">\n",
              "  <thead>\n",
              "    <tr style=\"text-align: right;\">\n",
              "      <th></th>\n",
              "      <th>0</th>\n",
              "    </tr>\n",
              "  </thead>\n",
              "  <tbody>\n",
              "    <tr>\n",
              "      <th>0</th>\n",
              "      <td>2f927c7cd42e</td>\n",
              "    </tr>\n",
              "    <tr>\n",
              "      <th>1</th>\n",
              "      <td>20c4908fd6cb</td>\n",
              "    </tr>\n",
              "    <tr>\n",
              "      <th>2</th>\n",
              "      <td>c8d828742879</td>\n",
              "    </tr>\n",
              "    <tr>\n",
              "      <th>3</th>\n",
              "      <td>2182883b7600</td>\n",
              "    </tr>\n",
              "    <tr>\n",
              "      <th>4</th>\n",
              "      <td>4e03febae7de</td>\n",
              "    </tr>\n",
              "  </tbody>\n",
              "</table>\n",
              "</div>"
            ],
            "text/plain": [
              "              0\n",
              "0  2f927c7cd42e\n",
              "1  20c4908fd6cb\n",
              "2  c8d828742879\n",
              "3  2182883b7600\n",
              "4  4e03febae7de"
            ]
          },
          "metadata": {
            "tags": []
          },
          "execution_count": 49
        }
      ]
    },
    {
      "cell_type": "code",
      "metadata": {
        "id": "I2l0zluUiG7U",
        "colab_type": "code",
        "colab": {
          "base_uri": "https://localhost:8080/",
          "height": 169
        },
        "outputId": "fd9667d8-2449-4e00-80c4-d46109cbc2ae"
      },
      "source": [
        "print(df_label.loc[df_label[\"customer_id\"]==\"2f927c7cd42e\"][\"is_returning_customer\"])\n",
        "print('--'*25)\n",
        "print('--'*25)\n",
        "df[df[\"customer_id\"]==\"2f927c7cd42e\"]"
      ],
      "execution_count": 54,
      "outputs": [
        {
          "output_type": "stream",
          "text": [
            "45896    1\n",
            "Name: is_returning_customer, dtype: int64\n",
            "--------------------------------------------------\n",
            "--------------------------------------------------\n"
          ],
          "name": "stdout"
        },
        {
          "output_type": "execute_result",
          "data": {
            "text/html": [
              "<div>\n",
              "<style scoped>\n",
              "    .dataframe tbody tr th:only-of-type {\n",
              "        vertical-align: middle;\n",
              "    }\n",
              "\n",
              "    .dataframe tbody tr th {\n",
              "        vertical-align: top;\n",
              "    }\n",
              "\n",
              "    .dataframe thead th {\n",
              "        text-align: right;\n",
              "    }\n",
              "</style>\n",
              "<table border=\"1\" class=\"dataframe\">\n",
              "  <thead>\n",
              "    <tr style=\"text-align: right;\">\n",
              "      <th></th>\n",
              "      <th>customer_id</th>\n",
              "      <th>order_date</th>\n",
              "      <th>order_hour</th>\n",
              "      <th>customer_order_rank</th>\n",
              "      <th>is_failed</th>\n",
              "      <th>voucher_amount</th>\n",
              "      <th>delivery_fee</th>\n",
              "      <th>amount_paid</th>\n",
              "      <th>restaurant_id</th>\n",
              "      <th>city_id</th>\n",
              "      <th>payment_id</th>\n",
              "      <th>platform_id</th>\n",
              "      <th>transmission_id</th>\n",
              "    </tr>\n",
              "  </thead>\n",
              "  <tbody>\n",
              "    <tr>\n",
              "      <th>148570</th>\n",
              "      <td>2f927c7cd42e</td>\n",
              "      <td>2016-05-20</td>\n",
              "      <td>21</td>\n",
              "      <td>NaN</td>\n",
              "      <td>1</td>\n",
              "      <td>0.0</td>\n",
              "      <td>0.986</td>\n",
              "      <td>9.6111</td>\n",
              "      <td>187213498</td>\n",
              "      <td>39335</td>\n",
              "      <td>1619</td>\n",
              "      <td>30359</td>\n",
              "      <td>4228</td>\n",
              "    </tr>\n",
              "  </tbody>\n",
              "</table>\n",
              "</div>"
            ],
            "text/plain": [
              "         customer_id  order_date  order_hour  customer_order_rank  is_failed  \\\n",
              "148570  2f927c7cd42e  2016-05-20          21             NaN               1   \n",
              "\n",
              "        voucher_amount  delivery_fee  amount_paid  restaurant_id  city_id  \\\n",
              "148570             0.0         0.986       9.6111      187213498    39335   \n",
              "\n",
              "        payment_id  platform_id  transmission_id  \n",
              "148570        1619        30359            4228   "
            ]
          },
          "metadata": {
            "tags": []
          },
          "execution_count": 54
        }
      ]
    },
    {
      "cell_type": "markdown",
      "metadata": {
        "id": "DqkaJgEkictM",
        "colab_type": "text"
      },
      "source": [
        "* We can see customer_id \"2f927c7cd42e\" has **1 failed order in May 2016, but still returning in 2017**."
      ]
    },
    {
      "cell_type": "markdown",
      "metadata": {
        "id": "pIyXTtclipSr",
        "colab_type": "text"
      },
      "source": [
        "* This is pretty strange that customers having only failed orders are returning in next 6 months.\n",
        "\n",
        "* In future, want to analyze the cohort:\n",
        "         1.what are their first order date, last order date\n",
        "         2.Is the data correct\n",
        "         3.Want to understand how customer_id is generated ?\n",
        "\n",
        "There can be 2 approaches:\n",
        "1. Exclude the failed ones and build model with successful ones to avoid feeding any misinformation and also bias.\n",
        "2. Include the failed orders and assume the amount, voucher and other features normal as successful ones.\n",
        "\n",
        "For 2nd approach it needs proper analysis, an extra pipeline to process/ transform data and also cross-check the accuracy or impact of this on the model.\n",
        "* For now, keeping an eye on time-constraint I will exclude these 518 records."
      ]
    },
    {
      "cell_type": "markdown",
      "metadata": {
        "id": "Ccc_eIMmdxPM",
        "colab_type": "text"
      },
      "source": [
        "4. Most common hour of orders"
      ]
    },
    {
      "cell_type": "code",
      "metadata": {
        "id": "bHlRVfmmdy5l",
        "colab_type": "code",
        "colab": {
          "base_uri": "https://localhost:8080/",
          "height": 876
        },
        "outputId": "054231fd-27e8-4d17-c693-9637d5a5e515"
      },
      "source": [
        "# %time\n",
        "# # comm_hour.drop(columns=[\"order_hour\"], axis=1, inplace=True)\n",
        "# comm_hour = pd.DataFrame(df_ftr_crtn.groupby([\"customer_id\"])['order_hour'].agg(lambda x:x.value_counts().index[0])).reset_index()\n",
        "# comm_hour.rename(columns={\"order_hour\":\"comm_orderhour\"}, inplace=True)\n",
        "# comm_hour.head()"
      ],
      "execution_count": 40,
      "outputs": [
        {
          "output_type": "stream",
          "text": [
            "CPU times: user 2 µs, sys: 0 ns, total: 2 µs\n",
            "Wall time: 4.77 µs\n"
          ],
          "name": "stdout"
        },
        {
          "output_type": "error",
          "ename": "KeyboardInterrupt",
          "evalue": "ignored",
          "traceback": [
            "\u001b[0;31m---------------------------------------------------------------------------\u001b[0m",
            "\u001b[0;31mKeyboardInterrupt\u001b[0m                         Traceback (most recent call last)",
            "\u001b[0;32m/usr/lib/python3.6/abc.py\u001b[0m in \u001b[0;36m__instancecheck__\u001b[0;34m(cls, instance)\u001b[0m\n\u001b[1;32m    182\u001b[0m         \u001b[0;31m# Inline the cache checking\u001b[0m\u001b[0;34m\u001b[0m\u001b[0;34m\u001b[0m\u001b[0;34m\u001b[0m\u001b[0m\n\u001b[1;32m    183\u001b[0m         \u001b[0msubclass\u001b[0m \u001b[0;34m=\u001b[0m \u001b[0minstance\u001b[0m\u001b[0;34m.\u001b[0m\u001b[0m__class__\u001b[0m\u001b[0;34m\u001b[0m\u001b[0;34m\u001b[0m\u001b[0m\n\u001b[0;32m--> 184\u001b[0;31m         \u001b[0;32mif\u001b[0m \u001b[0msubclass\u001b[0m \u001b[0;32min\u001b[0m \u001b[0mcls\u001b[0m\u001b[0;34m.\u001b[0m\u001b[0m_abc_cache\u001b[0m\u001b[0;34m:\u001b[0m\u001b[0;34m\u001b[0m\u001b[0;34m\u001b[0m\u001b[0m\n\u001b[0m\u001b[1;32m    185\u001b[0m             \u001b[0;32mreturn\u001b[0m \u001b[0;32mTrue\u001b[0m\u001b[0;34m\u001b[0m\u001b[0;34m\u001b[0m\u001b[0m\n\u001b[1;32m    186\u001b[0m         \u001b[0msubtype\u001b[0m \u001b[0;34m=\u001b[0m \u001b[0mtype\u001b[0m\u001b[0;34m(\u001b[0m\u001b[0minstance\u001b[0m\u001b[0;34m)\u001b[0m\u001b[0;34m\u001b[0m\u001b[0;34m\u001b[0m\u001b[0m\n",
            "\u001b[0;32m/usr/lib/python3.6/_weakrefset.py\u001b[0m in \u001b[0;36m__contains__\u001b[0;34m(self, item)\u001b[0m\n\u001b[1;32m     73\u001b[0m         \u001b[0;32mexcept\u001b[0m \u001b[0mTypeError\u001b[0m\u001b[0;34m:\u001b[0m\u001b[0;34m\u001b[0m\u001b[0;34m\u001b[0m\u001b[0m\n\u001b[1;32m     74\u001b[0m             \u001b[0;32mreturn\u001b[0m \u001b[0;32mFalse\u001b[0m\u001b[0;34m\u001b[0m\u001b[0;34m\u001b[0m\u001b[0m\n\u001b[0;32m---> 75\u001b[0;31m         \u001b[0;32mreturn\u001b[0m \u001b[0mwr\u001b[0m \u001b[0;32min\u001b[0m \u001b[0mself\u001b[0m\u001b[0;34m.\u001b[0m\u001b[0mdata\u001b[0m\u001b[0;34m\u001b[0m\u001b[0;34m\u001b[0m\u001b[0m\n\u001b[0m\u001b[1;32m     76\u001b[0m \u001b[0;34m\u001b[0m\u001b[0m\n\u001b[1;32m     77\u001b[0m     \u001b[0;32mdef\u001b[0m \u001b[0m__reduce__\u001b[0m\u001b[0;34m(\u001b[0m\u001b[0mself\u001b[0m\u001b[0;34m)\u001b[0m\u001b[0;34m:\u001b[0m\u001b[0;34m\u001b[0m\u001b[0;34m\u001b[0m\u001b[0m\n",
            "\u001b[0;31mKeyboardInterrupt\u001b[0m: "
          ]
        },
        {
          "output_type": "stream",
          "text": [
            "Exception ignored in: 'pandas._libs.lib.c_is_list_like'\n",
            "Traceback (most recent call last):\n",
            "  File \"/usr/lib/python3.6/abc.py\", line 184, in __instancecheck__\n",
            "    if subclass in cls._abc_cache:\n",
            "  File \"/usr/lib/python3.6/_weakrefset.py\", line 75, in __contains__\n",
            "    return wr in self.data\n",
            "KeyboardInterrupt\n"
          ],
          "name": "stderr"
        },
        {
          "output_type": "error",
          "ename": "KeyboardInterrupt",
          "evalue": "ignored",
          "traceback": [
            "\u001b[0;31m---------------------------------------------------------------------------\u001b[0m",
            "\u001b[0;31mKeyboardInterrupt\u001b[0m                         Traceback (most recent call last)",
            "\u001b[0;32m<ipython-input-40-ba549c98c502>\u001b[0m in \u001b[0;36m<module>\u001b[0;34m()\u001b[0m\n\u001b[1;32m      1\u001b[0m \u001b[0mget_ipython\u001b[0m\u001b[0;34m(\u001b[0m\u001b[0;34m)\u001b[0m\u001b[0;34m.\u001b[0m\u001b[0mmagic\u001b[0m\u001b[0;34m(\u001b[0m\u001b[0;34m'time'\u001b[0m\u001b[0;34m)\u001b[0m\u001b[0;34m\u001b[0m\u001b[0;34m\u001b[0m\u001b[0m\n\u001b[1;32m      2\u001b[0m \u001b[0;31m# comm_hour.drop(columns=[\"order_hour\"], axis=1, inplace=True)\u001b[0m\u001b[0;34m\u001b[0m\u001b[0;34m\u001b[0m\u001b[0;34m\u001b[0m\u001b[0m\n\u001b[0;32m----> 3\u001b[0;31m \u001b[0mcomm_hour\u001b[0m \u001b[0;34m=\u001b[0m \u001b[0mpd\u001b[0m\u001b[0;34m.\u001b[0m\u001b[0mDataFrame\u001b[0m\u001b[0;34m(\u001b[0m\u001b[0mdf_ftr_crtn\u001b[0m\u001b[0;34m.\u001b[0m\u001b[0mgroupby\u001b[0m\u001b[0;34m(\u001b[0m\u001b[0;34m[\u001b[0m\u001b[0;34m\"customer_id\"\u001b[0m\u001b[0;34m]\u001b[0m\u001b[0;34m)\u001b[0m\u001b[0;34m[\u001b[0m\u001b[0;34m'order_hour'\u001b[0m\u001b[0;34m]\u001b[0m\u001b[0;34m.\u001b[0m\u001b[0magg\u001b[0m\u001b[0;34m(\u001b[0m\u001b[0;32mlambda\u001b[0m \u001b[0mx\u001b[0m\u001b[0;34m:\u001b[0m\u001b[0mx\u001b[0m\u001b[0;34m.\u001b[0m\u001b[0mvalue_counts\u001b[0m\u001b[0;34m(\u001b[0m\u001b[0;34m)\u001b[0m\u001b[0;34m.\u001b[0m\u001b[0mindex\u001b[0m\u001b[0;34m[\u001b[0m\u001b[0;36m0\u001b[0m\u001b[0;34m]\u001b[0m\u001b[0;34m)\u001b[0m\u001b[0;34m)\u001b[0m\u001b[0;34m.\u001b[0m\u001b[0mreset_index\u001b[0m\u001b[0;34m(\u001b[0m\u001b[0;34m)\u001b[0m\u001b[0;34m\u001b[0m\u001b[0;34m\u001b[0m\u001b[0m\n\u001b[0m\u001b[1;32m      4\u001b[0m \u001b[0mcomm_hour\u001b[0m\u001b[0;34m.\u001b[0m\u001b[0mrename\u001b[0m\u001b[0;34m(\u001b[0m\u001b[0mcolumns\u001b[0m\u001b[0;34m=\u001b[0m\u001b[0;34m{\u001b[0m\u001b[0;34m\"order_hour\"\u001b[0m\u001b[0;34m:\u001b[0m\u001b[0;34m\"comm_orderhour\"\u001b[0m\u001b[0;34m}\u001b[0m\u001b[0;34m,\u001b[0m \u001b[0minplace\u001b[0m\u001b[0;34m=\u001b[0m\u001b[0;32mTrue\u001b[0m\u001b[0;34m)\u001b[0m\u001b[0;34m\u001b[0m\u001b[0;34m\u001b[0m\u001b[0m\n\u001b[1;32m      5\u001b[0m \u001b[0mcomm_hour\u001b[0m\u001b[0;34m.\u001b[0m\u001b[0mhead\u001b[0m\u001b[0;34m(\u001b[0m\u001b[0;34m)\u001b[0m\u001b[0;34m\u001b[0m\u001b[0;34m\u001b[0m\u001b[0m\n",
            "\u001b[0;32m/usr/local/lib/python3.6/dist-packages/pandas/core/groupby/generic.py\u001b[0m in \u001b[0;36maggregate\u001b[0;34m(self, func, *args, **kwargs)\u001b[0m\n\u001b[1;32m    263\u001b[0m \u001b[0;34m\u001b[0m\u001b[0m\n\u001b[1;32m    264\u001b[0m             \u001b[0;32mtry\u001b[0m\u001b[0;34m:\u001b[0m\u001b[0;34m\u001b[0m\u001b[0;34m\u001b[0m\u001b[0m\n\u001b[0;32m--> 265\u001b[0;31m                 \u001b[0;32mreturn\u001b[0m \u001b[0mself\u001b[0m\u001b[0;34m.\u001b[0m\u001b[0m_python_agg_general\u001b[0m\u001b[0;34m(\u001b[0m\u001b[0mfunc\u001b[0m\u001b[0;34m,\u001b[0m \u001b[0;34m*\u001b[0m\u001b[0margs\u001b[0m\u001b[0;34m,\u001b[0m \u001b[0;34m**\u001b[0m\u001b[0mkwargs\u001b[0m\u001b[0;34m)\u001b[0m\u001b[0;34m\u001b[0m\u001b[0;34m\u001b[0m\u001b[0m\n\u001b[0m\u001b[1;32m    266\u001b[0m             \u001b[0;32mexcept\u001b[0m \u001b[0;34m(\u001b[0m\u001b[0mValueError\u001b[0m\u001b[0;34m,\u001b[0m \u001b[0mKeyError\u001b[0m\u001b[0;34m)\u001b[0m\u001b[0;34m:\u001b[0m\u001b[0;34m\u001b[0m\u001b[0;34m\u001b[0m\u001b[0m\n\u001b[1;32m    267\u001b[0m                 \u001b[0;31m# TODO: KeyError is raised in _python_agg_general,\u001b[0m\u001b[0;34m\u001b[0m\u001b[0;34m\u001b[0m\u001b[0;34m\u001b[0m\u001b[0m\n",
            "\u001b[0;32m/usr/local/lib/python3.6/dist-packages/pandas/core/groupby/groupby.py\u001b[0m in \u001b[0;36m_python_agg_general\u001b[0;34m(self, func, *args, **kwargs)\u001b[0m\n\u001b[1;32m    925\u001b[0m             \u001b[0;32mtry\u001b[0m\u001b[0;34m:\u001b[0m\u001b[0;34m\u001b[0m\u001b[0;34m\u001b[0m\u001b[0m\n\u001b[1;32m    926\u001b[0m                 \u001b[0;31m# if this function is invalid for this dtype, we will ignore it.\u001b[0m\u001b[0;34m\u001b[0m\u001b[0;34m\u001b[0m\u001b[0;34m\u001b[0m\u001b[0m\n\u001b[0;32m--> 927\u001b[0;31m                 \u001b[0mresult\u001b[0m\u001b[0;34m,\u001b[0m \u001b[0mcounts\u001b[0m \u001b[0;34m=\u001b[0m \u001b[0mself\u001b[0m\u001b[0;34m.\u001b[0m\u001b[0mgrouper\u001b[0m\u001b[0;34m.\u001b[0m\u001b[0magg_series\u001b[0m\u001b[0;34m(\u001b[0m\u001b[0mobj\u001b[0m\u001b[0;34m,\u001b[0m \u001b[0mf\u001b[0m\u001b[0;34m)\u001b[0m\u001b[0;34m\u001b[0m\u001b[0;34m\u001b[0m\u001b[0m\n\u001b[0m\u001b[1;32m    928\u001b[0m             \u001b[0;32mexcept\u001b[0m \u001b[0mTypeError\u001b[0m\u001b[0;34m:\u001b[0m\u001b[0;34m\u001b[0m\u001b[0;34m\u001b[0m\u001b[0m\n\u001b[1;32m    929\u001b[0m                 \u001b[0;32mcontinue\u001b[0m\u001b[0;34m\u001b[0m\u001b[0;34m\u001b[0m\u001b[0m\n",
            "\u001b[0;32m/usr/local/lib/python3.6/dist-packages/pandas/core/groupby/ops.py\u001b[0m in \u001b[0;36magg_series\u001b[0;34m(self, obj, func)\u001b[0m\n\u001b[1;32m    639\u001b[0m \u001b[0;34m\u001b[0m\u001b[0m\n\u001b[1;32m    640\u001b[0m         \u001b[0;32mtry\u001b[0m\u001b[0;34m:\u001b[0m\u001b[0;34m\u001b[0m\u001b[0;34m\u001b[0m\u001b[0m\n\u001b[0;32m--> 641\u001b[0;31m             \u001b[0;32mreturn\u001b[0m \u001b[0mself\u001b[0m\u001b[0;34m.\u001b[0m\u001b[0m_aggregate_series_fast\u001b[0m\u001b[0;34m(\u001b[0m\u001b[0mobj\u001b[0m\u001b[0;34m,\u001b[0m \u001b[0mfunc\u001b[0m\u001b[0;34m)\u001b[0m\u001b[0;34m\u001b[0m\u001b[0;34m\u001b[0m\u001b[0m\n\u001b[0m\u001b[1;32m    642\u001b[0m         \u001b[0;32mexcept\u001b[0m \u001b[0mValueError\u001b[0m \u001b[0;32mas\u001b[0m \u001b[0merr\u001b[0m\u001b[0;34m:\u001b[0m\u001b[0;34m\u001b[0m\u001b[0;34m\u001b[0m\u001b[0m\n\u001b[1;32m    643\u001b[0m             \u001b[0;32mif\u001b[0m \u001b[0;34m\"Function does not reduce\"\u001b[0m \u001b[0;32min\u001b[0m \u001b[0mstr\u001b[0m\u001b[0;34m(\u001b[0m\u001b[0merr\u001b[0m\u001b[0;34m)\u001b[0m\u001b[0;34m:\u001b[0m\u001b[0;34m\u001b[0m\u001b[0;34m\u001b[0m\u001b[0m\n",
            "\u001b[0;32m/usr/local/lib/python3.6/dist-packages/pandas/core/groupby/ops.py\u001b[0m in \u001b[0;36m_aggregate_series_fast\u001b[0;34m(self, obj, func)\u001b[0m\n\u001b[1;32m    664\u001b[0m         \u001b[0mgroup_index\u001b[0m \u001b[0;34m=\u001b[0m \u001b[0malgorithms\u001b[0m\u001b[0;34m.\u001b[0m\u001b[0mtake_nd\u001b[0m\u001b[0;34m(\u001b[0m\u001b[0mgroup_index\u001b[0m\u001b[0;34m,\u001b[0m \u001b[0mindexer\u001b[0m\u001b[0;34m,\u001b[0m \u001b[0mallow_fill\u001b[0m\u001b[0;34m=\u001b[0m\u001b[0;32mFalse\u001b[0m\u001b[0;34m)\u001b[0m\u001b[0;34m\u001b[0m\u001b[0;34m\u001b[0m\u001b[0m\n\u001b[1;32m    665\u001b[0m         \u001b[0mgrouper\u001b[0m \u001b[0;34m=\u001b[0m \u001b[0mlibreduction\u001b[0m\u001b[0;34m.\u001b[0m\u001b[0mSeriesGrouper\u001b[0m\u001b[0;34m(\u001b[0m\u001b[0mobj\u001b[0m\u001b[0;34m,\u001b[0m \u001b[0mfunc\u001b[0m\u001b[0;34m,\u001b[0m \u001b[0mgroup_index\u001b[0m\u001b[0;34m,\u001b[0m \u001b[0mngroups\u001b[0m\u001b[0;34m,\u001b[0m \u001b[0mdummy\u001b[0m\u001b[0;34m)\u001b[0m\u001b[0;34m\u001b[0m\u001b[0;34m\u001b[0m\u001b[0m\n\u001b[0;32m--> 666\u001b[0;31m         \u001b[0mresult\u001b[0m\u001b[0;34m,\u001b[0m \u001b[0mcounts\u001b[0m \u001b[0;34m=\u001b[0m \u001b[0mgrouper\u001b[0m\u001b[0;34m.\u001b[0m\u001b[0mget_result\u001b[0m\u001b[0;34m(\u001b[0m\u001b[0;34m)\u001b[0m\u001b[0;34m\u001b[0m\u001b[0;34m\u001b[0m\u001b[0m\n\u001b[0m\u001b[1;32m    667\u001b[0m         \u001b[0;32mreturn\u001b[0m \u001b[0mresult\u001b[0m\u001b[0;34m,\u001b[0m \u001b[0mcounts\u001b[0m\u001b[0;34m\u001b[0m\u001b[0;34m\u001b[0m\u001b[0m\n\u001b[1;32m    668\u001b[0m \u001b[0;34m\u001b[0m\u001b[0m\n",
            "\u001b[0;32mpandas/_libs/reduction.pyx\u001b[0m in \u001b[0;36mpandas._libs.reduction.SeriesGrouper.get_result\u001b[0;34m()\u001b[0m\n",
            "\u001b[0;32mpandas/_libs/reduction.pyx\u001b[0m in \u001b[0;36mpandas._libs.reduction._BaseGrouper._apply_to_group\u001b[0;34m()\u001b[0m\n",
            "\u001b[0;32m/usr/local/lib/python3.6/dist-packages/pandas/core/groupby/groupby.py\u001b[0m in \u001b[0;36m<lambda>\u001b[0;34m(x)\u001b[0m\n\u001b[1;32m    912\u001b[0m     \u001b[0;32mdef\u001b[0m \u001b[0m_python_agg_general\u001b[0m\u001b[0;34m(\u001b[0m\u001b[0mself\u001b[0m\u001b[0;34m,\u001b[0m \u001b[0mfunc\u001b[0m\u001b[0;34m,\u001b[0m \u001b[0;34m*\u001b[0m\u001b[0margs\u001b[0m\u001b[0;34m,\u001b[0m \u001b[0;34m**\u001b[0m\u001b[0mkwargs\u001b[0m\u001b[0;34m)\u001b[0m\u001b[0;34m:\u001b[0m\u001b[0;34m\u001b[0m\u001b[0;34m\u001b[0m\u001b[0m\n\u001b[1;32m    913\u001b[0m         \u001b[0mfunc\u001b[0m \u001b[0;34m=\u001b[0m \u001b[0mself\u001b[0m\u001b[0;34m.\u001b[0m\u001b[0m_is_builtin_func\u001b[0m\u001b[0;34m(\u001b[0m\u001b[0mfunc\u001b[0m\u001b[0;34m)\u001b[0m\u001b[0;34m\u001b[0m\u001b[0;34m\u001b[0m\u001b[0m\n\u001b[0;32m--> 914\u001b[0;31m         \u001b[0mf\u001b[0m \u001b[0;34m=\u001b[0m \u001b[0;32mlambda\u001b[0m \u001b[0mx\u001b[0m\u001b[0;34m:\u001b[0m \u001b[0mfunc\u001b[0m\u001b[0;34m(\u001b[0m\u001b[0mx\u001b[0m\u001b[0;34m,\u001b[0m \u001b[0;34m*\u001b[0m\u001b[0margs\u001b[0m\u001b[0;34m,\u001b[0m \u001b[0;34m**\u001b[0m\u001b[0mkwargs\u001b[0m\u001b[0;34m)\u001b[0m\u001b[0;34m\u001b[0m\u001b[0;34m\u001b[0m\u001b[0m\n\u001b[0m\u001b[1;32m    915\u001b[0m \u001b[0;34m\u001b[0m\u001b[0m\n\u001b[1;32m    916\u001b[0m         \u001b[0;31m# iterate through \"columns\" ex exclusions to populate output dict\u001b[0m\u001b[0;34m\u001b[0m\u001b[0;34m\u001b[0m\u001b[0;34m\u001b[0m\u001b[0m\n",
            "\u001b[0;32m<ipython-input-40-ba549c98c502>\u001b[0m in \u001b[0;36m<lambda>\u001b[0;34m(x)\u001b[0m\n\u001b[1;32m      1\u001b[0m \u001b[0mget_ipython\u001b[0m\u001b[0;34m(\u001b[0m\u001b[0;34m)\u001b[0m\u001b[0;34m.\u001b[0m\u001b[0mmagic\u001b[0m\u001b[0;34m(\u001b[0m\u001b[0;34m'time'\u001b[0m\u001b[0;34m)\u001b[0m\u001b[0;34m\u001b[0m\u001b[0;34m\u001b[0m\u001b[0m\n\u001b[1;32m      2\u001b[0m \u001b[0;31m# comm_hour.drop(columns=[\"order_hour\"], axis=1, inplace=True)\u001b[0m\u001b[0;34m\u001b[0m\u001b[0;34m\u001b[0m\u001b[0;34m\u001b[0m\u001b[0m\n\u001b[0;32m----> 3\u001b[0;31m \u001b[0mcomm_hour\u001b[0m \u001b[0;34m=\u001b[0m \u001b[0mpd\u001b[0m\u001b[0;34m.\u001b[0m\u001b[0mDataFrame\u001b[0m\u001b[0;34m(\u001b[0m\u001b[0mdf_ftr_crtn\u001b[0m\u001b[0;34m.\u001b[0m\u001b[0mgroupby\u001b[0m\u001b[0;34m(\u001b[0m\u001b[0;34m[\u001b[0m\u001b[0;34m\"customer_id\"\u001b[0m\u001b[0;34m]\u001b[0m\u001b[0;34m)\u001b[0m\u001b[0;34m[\u001b[0m\u001b[0;34m'order_hour'\u001b[0m\u001b[0;34m]\u001b[0m\u001b[0;34m.\u001b[0m\u001b[0magg\u001b[0m\u001b[0;34m(\u001b[0m\u001b[0;32mlambda\u001b[0m \u001b[0mx\u001b[0m\u001b[0;34m:\u001b[0m\u001b[0mx\u001b[0m\u001b[0;34m.\u001b[0m\u001b[0mvalue_counts\u001b[0m\u001b[0;34m(\u001b[0m\u001b[0;34m)\u001b[0m\u001b[0;34m.\u001b[0m\u001b[0mindex\u001b[0m\u001b[0;34m[\u001b[0m\u001b[0;36m0\u001b[0m\u001b[0;34m]\u001b[0m\u001b[0;34m)\u001b[0m\u001b[0;34m)\u001b[0m\u001b[0;34m.\u001b[0m\u001b[0mreset_index\u001b[0m\u001b[0;34m(\u001b[0m\u001b[0;34m)\u001b[0m\u001b[0;34m\u001b[0m\u001b[0;34m\u001b[0m\u001b[0m\n\u001b[0m\u001b[1;32m      4\u001b[0m \u001b[0mcomm_hour\u001b[0m\u001b[0;34m.\u001b[0m\u001b[0mrename\u001b[0m\u001b[0;34m(\u001b[0m\u001b[0mcolumns\u001b[0m\u001b[0;34m=\u001b[0m\u001b[0;34m{\u001b[0m\u001b[0;34m\"order_hour\"\u001b[0m\u001b[0;34m:\u001b[0m\u001b[0;34m\"comm_orderhour\"\u001b[0m\u001b[0;34m}\u001b[0m\u001b[0;34m,\u001b[0m \u001b[0minplace\u001b[0m\u001b[0;34m=\u001b[0m\u001b[0;32mTrue\u001b[0m\u001b[0;34m)\u001b[0m\u001b[0;34m\u001b[0m\u001b[0;34m\u001b[0m\u001b[0m\n\u001b[1;32m      5\u001b[0m \u001b[0mcomm_hour\u001b[0m\u001b[0;34m.\u001b[0m\u001b[0mhead\u001b[0m\u001b[0;34m(\u001b[0m\u001b[0;34m)\u001b[0m\u001b[0;34m\u001b[0m\u001b[0;34m\u001b[0m\u001b[0m\n",
            "\u001b[0;32m/usr/local/lib/python3.6/dist-packages/pandas/core/base.py\u001b[0m in \u001b[0;36mvalue_counts\u001b[0;34m(self, normalize, sort, ascending, bins, dropna)\u001b[0m\n\u001b[1;32m   1233\u001b[0m             \u001b[0mnormalize\u001b[0m\u001b[0;34m=\u001b[0m\u001b[0mnormalize\u001b[0m\u001b[0;34m,\u001b[0m\u001b[0;34m\u001b[0m\u001b[0;34m\u001b[0m\u001b[0m\n\u001b[1;32m   1234\u001b[0m             \u001b[0mbins\u001b[0m\u001b[0;34m=\u001b[0m\u001b[0mbins\u001b[0m\u001b[0;34m,\u001b[0m\u001b[0;34m\u001b[0m\u001b[0;34m\u001b[0m\u001b[0m\n\u001b[0;32m-> 1235\u001b[0;31m             \u001b[0mdropna\u001b[0m\u001b[0;34m=\u001b[0m\u001b[0mdropna\u001b[0m\u001b[0;34m,\u001b[0m\u001b[0;34m\u001b[0m\u001b[0;34m\u001b[0m\u001b[0m\n\u001b[0m\u001b[1;32m   1236\u001b[0m         )\n\u001b[1;32m   1237\u001b[0m         \u001b[0;32mreturn\u001b[0m \u001b[0mresult\u001b[0m\u001b[0;34m\u001b[0m\u001b[0;34m\u001b[0m\u001b[0m\n",
            "\u001b[0;32m/usr/local/lib/python3.6/dist-packages/pandas/core/algorithms.py\u001b[0m in \u001b[0;36mvalue_counts\u001b[0;34m(values, sort, ascending, normalize, bins, dropna)\u001b[0m\n\u001b[1;32m    685\u001b[0m     \u001b[0mSeries\u001b[0m\u001b[0;34m\u001b[0m\u001b[0;34m\u001b[0m\u001b[0m\n\u001b[1;32m    686\u001b[0m     \"\"\"\n\u001b[0;32m--> 687\u001b[0;31m     \u001b[0;32mfrom\u001b[0m \u001b[0mpandas\u001b[0m\u001b[0;34m.\u001b[0m\u001b[0mcore\u001b[0m\u001b[0;34m.\u001b[0m\u001b[0mseries\u001b[0m \u001b[0;32mimport\u001b[0m \u001b[0mSeries\u001b[0m\u001b[0;34m\u001b[0m\u001b[0;34m\u001b[0m\u001b[0m\n\u001b[0m\u001b[1;32m    688\u001b[0m \u001b[0;34m\u001b[0m\u001b[0m\n\u001b[1;32m    689\u001b[0m     \u001b[0mname\u001b[0m \u001b[0;34m=\u001b[0m \u001b[0mgetattr\u001b[0m\u001b[0;34m(\u001b[0m\u001b[0mvalues\u001b[0m\u001b[0;34m,\u001b[0m \u001b[0;34m\"name\"\u001b[0m\u001b[0;34m,\u001b[0m \u001b[0;32mNone\u001b[0m\u001b[0;34m)\u001b[0m\u001b[0;34m\u001b[0m\u001b[0;34m\u001b[0m\u001b[0m\n",
            "\u001b[0;32m/usr/lib/python3.6/importlib/_bootstrap.py\u001b[0m in \u001b[0;36m_handle_fromlist\u001b[0;34m(module, fromlist, import_, recursive)\u001b[0m\n",
            "\u001b[0;31mKeyboardInterrupt\u001b[0m: "
          ]
        }
      ]
    },
    {
      "cell_type": "markdown",
      "metadata": {
        "id": "mHf_ZQ5cfdYN",
        "colab_type": "text"
      },
      "source": [
        "* Taking a lot of time\n",
        "* Need to think of optimised way"
      ]
    },
    {
      "cell_type": "code",
      "metadata": {
        "id": "XPuAG8N-d6gG",
        "colab_type": "code",
        "colab": {}
      },
      "source": [
        ""
      ],
      "execution_count": null,
      "outputs": []
    }
  ]
}